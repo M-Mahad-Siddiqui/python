{
 "cells": [
  {
   "cell_type": "markdown",
   "id": "38945acc-c9ec-491f-899e-ede5b766a143",
   "metadata": {},
   "source": [
    "# User input\n",
    " - console input\n",
    " - everything is string "
   ]
  },
  {
   "cell_type": "code",
   "execution_count": 2,
   "id": "d15f50ce-3c93-4705-aff0-c95e1b7cd913",
   "metadata": {},
   "outputs": [
    {
     "name": "stdin",
     "output_type": "stream",
     "text": [
      "Please naam bataen:  furqan\n",
      "Please apni umersharif bataen:  12\n",
      "Bura na manen to salary sharif bhi bata den 3445657\n"
     ]
    },
    {
     "name": "stdout",
     "output_type": "stream",
     "text": [
      "<class 'str'>\n",
      "<class 'int'>\n",
      "<class 'int'>\n"
     ]
    }
   ],
   "source": [
    "name = input(\"Please naam bataen: \")\n",
    "age  = int(input(\"Please apni umersharif bataen: \"))\n",
    "salary = int(input(\"Bura na manen to salary sharif bhi bata den\"))\n",
    "print(type(name))\n",
    "print(type(age))\n",
    "print(type(salary))"
   ]
  },
  {
   "cell_type": "markdown",
   "id": "dc702dbe-b0b5-49e6-ab0f-6f54c801024a",
   "metadata": {},
   "source": [
    "# Conditional Statement\n",
    "      - if clause \n",
    "      - if satement"
   ]
  },
  {
   "cell_type": "code",
   "execution_count": 5,
   "id": "49964e0c-0220-46f0-b28a-b67d91fc73bd",
   "metadata": {},
   "outputs": [
    {
     "name": "stdin",
     "output_type": "stream",
     "text": [
      "Please apni umersharif bataen:  15\n"
     ]
    },
    {
     "name": "stdout",
     "output_type": "stream",
     "text": [
      "I am out of if block\n"
     ]
    }
   ],
   "source": [
    "age  = int(input(\"Please apni umersharif bataen: \"))\n",
    "if age >=18:\n",
    "    print('vote dal sakte ho')\n",
    "    print(\"driving lisence\")\n",
    "    print(\"cnin ban sakta hy\")\n",
    "print(\"I am out of if block\")\n"
   ]
  },
  {
   "attachments": {
    "2afac078-7250-498d-9e5c-54e1cf635108.png": {
     "image/png": "[encoded data removed]"
    }
   },
   "cell_type": "markdown",
   "id": "de4de848-b55d-4c38-ae92-64c613d68c88",
   "metadata": {},
   "source": [
    "![image.png](attachment:2afac078-7250-498d-9e5c-54e1cf635108.png)"
   ]
  },
  {
   "cell_type": "code",
   "execution_count": 7,
   "id": "1af00be8-92ca-4e32-9458-c9cbbaada3dd",
   "metadata": {},
   "outputs": [
    {
     "name": "stdin",
     "output_type": "stream",
     "text": [
      "Please apni umersharif bataen:  45\n"
     ]
    },
    {
     "name": "stdout",
     "output_type": "stream",
     "text": [
      "Eligible fir CNIC\n"
     ]
    }
   ],
   "source": [
    "age  = int(input(\"Please apni umersharif bataen: \"))\n",
    "if age >=18:\n",
    "    print(\"Eligible fir CNIC\")\n",
    "else:\n",
    "    print(\"B form se kam chalaenge\")\n"
   ]
  },
  {
   "cell_type": "code",
   "execution_count": 8,
   "id": "2e2bee08-0abd-49a8-92b8-67ebd541cdb0",
   "metadata": {},
   "outputs": [
    {
     "name": "stdout",
     "output_type": "stream",
     "text": [
      "Garmi hy AC ON\n"
     ]
    }
   ],
   "source": [
    "temp = 30\n",
    "if temp >=30:\n",
    "    print(\"Garmi hy AC ON\")\n",
    "else:\n",
    "    print(\"Fan Chalao\")"
   ]
  },
  {
   "cell_type": "code",
   "execution_count": 11,
   "id": "b90d5399-3093-46d6-9249-f230a3529bc1",
   "metadata": {},
   "outputs": [
    {
     "name": "stdin",
     "output_type": "stream",
     "text": [
      "What is the price of this shirt?  1500\n"
     ]
    },
    {
     "name": "stdout",
     "output_type": "stream",
     "text": [
      "500 me dedo\n"
     ]
    }
   ],
   "source": [
    "price = int(input(\"What is the price of this shirt? \"))\n",
    "if price<=1000:\n",
    "    print(\"Dedo bhai\")\n",
    "else:\n",
    "    print(\"500 me dedo\")"
   ]
  },
  {
   "cell_type": "markdown",
   "id": "9ff68119-2789-436c-b0ba-c86ac2c38819",
   "metadata": {},
   "source": [
    "# ammmi ne kaha tomotor\n",
    "10 >>> 10kg\n",
    "20>>>> 8kg\n",
    "30>>>>> 5\n",
    "50 >>>>>3\n",
    "100>>> 1\n",
    "dahi lete ana"
   ]
  },
  {
   "cell_type": "code",
   "execution_count": 12,
   "id": "913c7df5-0a87-4d74-8098-736889c73dcd",
   "metadata": {},
   "outputs": [
    {
     "name": "stdin",
     "output_type": "stream",
     "text": [
      "Kese diye per kg 45\n"
     ]
    },
    {
     "name": "stdout",
     "output_type": "stream",
     "text": [
      "3 KG\n"
     ]
    }
   ],
   "source": [
    "tomato_price = int(input(\"Kese diye per kg\"))\n",
    "if tomato_price<=10:\n",
    "    print(\"10 KG\")\n",
    "elif tomato_price<=20:\n",
    "    print(\"8 KG\")\n",
    "elif tomato_price<=30:\n",
    "    print(\"5 KG\")\n",
    "elif tomato_price<=50:\n",
    "    print(\"3 KG\")\n",
    "elif tomato_price<=100:\n",
    "    print(\"1 KG\")\n",
    "else:\n",
    "    print(\"Dahi lete ana\")"
   ]
  },
  {
   "cell_type": "code",
   "execution_count": 14,
   "id": "e43a80d3-906b-4a87-92ad-db619861b4b0",
   "metadata": {},
   "outputs": [
    {
     "name": "stdin",
     "output_type": "stream",
     "text": [
      "Kese diye per kg 67\n"
     ]
    },
    {
     "name": "stdout",
     "output_type": "stream",
     "text": [
      "1 KG\n"
     ]
    }
   ],
   "source": [
    "tomato_price = int(input(\"Kese diye per kg\"))\n",
    "if tomato_price>=100:\n",
    "    print(\"Dahi lete ana\")\n",
    "elif tomato_price>=50:\n",
    "    print(\"1 KG\")\n",
    "elif tomato_price>=30:\n",
    "    print(\"5 KG\")\n",
    "elif tomato_price>=20:\n",
    "    print(\"8 KG\")\n",
    "else:\n",
    "    print(\"10 KG\")"
   ]
  },
  {
   "cell_type": "raw",
   "id": "a01f9dc0-76ad-406c-9040-0211532cc403",
   "metadata": {},
   "source": [
    "marks\n",
    "percentage\n",
    "perc >>> 90 a*\n",
    "80 a\n",
    "    70 b\n",
    "    60c\n",
    "    50\n",
    "    d\n",
    "    else f"
   ]
  },
  {
   "cell_type": "code",
   "execution_count": 17,
   "id": "723ea18d-627a-4415-8218-f78ede654315",
   "metadata": {},
   "outputs": [
    {
     "name": "stdin",
     "output_type": "stream",
     "text": [
      "Enter marks in python:  90\n",
      "Enter marks in ml:  98\n",
      "Enter marks in dl:  90\n",
      "Enter marks in gan:  89\n",
      "Enter marks in da:  90\n"
     ]
    },
    {
     "name": "stdout",
     "output_type": "stream",
     "text": [
      "\n",
      "        Marks : 457\n",
      "        Perct : 91.4\n",
      "        Grade :A*\n",
      "        \n"
     ]
    }
   ],
   "source": [
    "python = int(input(\"Enter marks in python: \"))\n",
    "ml = int(input(\"Enter marks in ml: \"))\n",
    "dl = int(input(\"Enter marks in dl: \"))\n",
    "gan = int(input(\"Enter marks in gan: \"))\n",
    "da = int(input(\"Enter marks in da: \"))\n",
    "\n",
    "obt = python + ml + dl+ gan + da\n",
    "total =500\n",
    "percentage = round(obt / total * 100, 2)\n",
    "grade = None\n",
    "if percentage>=90:\n",
    "    grade=\"A*\"\n",
    "elif percentage>=80:\n",
    "    grade=\"A\"\n",
    "elif percentage>=70:\n",
    "    grade=\"B\"\n",
    "elif percentage>=60:\n",
    "    grade=\"C\"\n",
    "elif percentage>=50:\n",
    "    grade=\"D\"\n",
    "else:\n",
    "    grade = \"F\"\n",
    "\n",
    "print(f\"\"\"\n",
    "        Marks : {obt}\n",
    "        Perct : {percentage}\n",
    "        Grade :{grade}\n",
    "        \"\"\"\n",
    "     )"
   ]
  },
  {
   "cell_type": "code",
   "execution_count": 20,
   "id": "3165614e-a646-4538-b224-36587faa908b",
   "metadata": {},
   "outputs": [
    {
     "name": "stdin",
     "output_type": "stream",
     "text": [
      "Please naam bataen:  Muhamad Furqan\n",
      "Please apni umersharif bataen:  20\n",
      "Bura na manen to salary sharif bhi bata den 50000\n"
     ]
    },
    {
     "name": "stdout",
     "output_type": "stream",
     "text": [
      "Welcome Mr. Muhamad Furqan.Your age is age20. Your Salary is50000\n"
     ]
    }
   ],
   "source": [
    "name = input(\"Please naam bataen: \")\n",
    "age  = input(\"Please apni umersharif bataen: \")\n",
    "salary = input(\"Bura na manen to salary sharif bhi bata den\")\n",
    "# \"Welcome Mr. Furqan. Your age is age. Your Salary is salary\"\n",
    "text = \"Welcome Mr. \" +name+\".Your age is age\"+str(age)+\". Your Salary is\"+ str(salary)\n",
    "print(text)"
   ]
  },
  {
   "cell_type": "code",
   "execution_count": 27,
   "id": "298bdc48-0f6d-4e4e-880d-4211d1bc5aec",
   "metadata": {},
   "outputs": [
    {
     "name": "stdout",
     "output_type": "stream",
     "text": [
      "Welcome Mr. 20. Yuur age is Muhamad Furqan. Your salary is 50000.\n"
     ]
    }
   ],
   "source": [
    "text = \"Welcome Mr. {}. Yuur age is {}. Your salary is {}.\".format(age,name,salary)\n",
    "print(text)"
   ]
  },
  {
   "cell_type": "code",
   "execution_count": 30,
   "id": "75f737f4-1ff7-4c09-bd3c-04c44b207975",
   "metadata": {},
   "outputs": [
    {
     "data": {
      "text/plain": [
       "'Welcome Mr. Muhamad Furqan. Yuur age is 20. Your salary is 50000.'"
      ]
     },
     "execution_count": 30,
     "metadata": {},
     "output_type": "execute_result"
    }
   ],
   "source": [
    "text = f\"Welcome Mr. {name}. Your age is {age}. Your salary is {salary}.\"\n",
    "text"
   ]
  },
  {
   "cell_type": "raw",
   "id": "c5c2a231-3206-4447-aadb-284fe17f3b41",
   "metadata": {},
   "source": [
    "#casting a vote \n",
    "cnic\n",
    "votelist \n",
    "election\n",
    "vote dalsate hen "
   ]
  },
  {
   "cell_type": "code",
   "execution_count": 35,
   "id": "ab4c0315-b244-4ba5-b5ea-a64e82fe91e1",
   "metadata": {},
   "outputs": [
    {
     "name": "stdin",
     "output_type": "stream",
     "text": [
      "Is today a election day? no\n"
     ]
    },
    {
     "name": "stdout",
     "output_type": "stream",
     "text": [
      "You can not cast vote as there no electiob toDYA\n"
     ]
    }
   ],
   "source": [
    "election_day = input(\"Is today a election day?\")\n",
    "if election_day==\"yes\":\n",
    "    cnic  = input(\"Do you have a valid cnic\")\n",
    "    if cnic ==\"yes\":\n",
    "        voterlist = input(\"Is your name is list?\")\n",
    "        if voterlist=='yes':\n",
    "            print(\"Welcome\")\n",
    "        else:\n",
    "            print(\"You can not cast voteas you are not a regirterd voter\")\n",
    "    else:\n",
    "        print(\"You can not cast vote CNCIC not avaiable\")\n",
    "else:\n",
    "    print(\"You can not cast vote as there no electiob toDYA\")"
   ]
  },
  {
   "cell_type": "code",
   "execution_count": null,
   "id": "96889478-8b20-4b24-980f-a398656dbaa4",
   "metadata": {},
   "outputs": [],
   "source": []
  }
 ],
 "metadata": {
  "kernelspec": {
   "display_name": "Python 3 (ipykernel)",
   "language": "python",
   "name": "python3"
  },
  "language_info": {
   "codemirror_mode": {
    "name": "ipython",
    "version": 3
   },
   "file_extension": ".py",
   "mimetype": "text/x-python",
   "name": "python",
   "nbconvert_exporter": "python",
   "pygments_lexer": "ipython3",
   "version": "3.12.7"
  }
 },
 "nbformat": 4,
 "nbformat_minor": 5
}
