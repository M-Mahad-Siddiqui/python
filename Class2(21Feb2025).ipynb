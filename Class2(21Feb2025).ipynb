{
 "cells": [
  {
   "cell_type": "code",
   "execution_count": 1,
   "id": "1efa52e3-9f0b-4184-8b4d-7a9b766cd95b",
   "metadata": {},
   "outputs": [
    {
     "name": "stdout",
     "output_type": "stream",
     "text": [
      "Hello Python\n"
     ]
    }
   ],
   "source": [
    "print(\"Hello Python\")"
   ]
  },
  {
   "cell_type": "code",
   "execution_count": 2,
   "id": "5677a63d-13c2-4f42-8b9f-019cfb1299bf",
   "metadata": {},
   "outputs": [
    {
     "name": "stdout",
     "output_type": "stream",
     "text": [
      "123\n"
     ]
    }
   ],
   "source": [
    "print(123)"
   ]
  },
  {
   "cell_type": "code",
   "execution_count": 3,
   "id": "bbb4dc4b-c811-48cc-883c-c2b765dd4b4f",
   "metadata": {},
   "outputs": [
    {
     "name": "stdout",
     "output_type": "stream",
     "text": [
      "34.5\n"
     ]
    }
   ],
   "source": [
    "print(34.5)"
   ]
  },
  {
   "cell_type": "code",
   "execution_count": 4,
   "id": "9a0a71de-6fe7-4e63-9744-e50b91e4f43b",
   "metadata": {},
   "outputs": [
    {
     "name": "stdout",
     "output_type": "stream",
     "text": [
      "True\n"
     ]
    }
   ],
   "source": [
    "print(True)"
   ]
  },
  {
   "cell_type": "code",
   "execution_count": 8,
   "id": "00b6ede5-7b45-4bd3-acf6-704fc5b35f2b",
   "metadata": {},
   "outputs": [
    {
     "name": "stdout",
     "output_type": "stream",
     "text": [
      "Hello Python 123 3.4 True Hello\n"
     ]
    }
   ],
   "source": [
    "print(\"Hello Python\",123,3.4,True,\"Hello\")"
   ]
  },
  {
   "cell_type": "code",
   "execution_count": 7,
   "id": "339c9d36-6e8a-405a-a919-7a86174ab629",
   "metadata": {},
   "outputs": [
    {
     "name": "stdout",
     "output_type": "stream",
     "text": [
      "HelloPython1233.4TrueHello\n"
     ]
    }
   ],
   "source": [
    "print(\"HelloPython\",123,3.4,True,\"Hello\",sep=\"\")\n",
    "#shift+tab for function signature openng"
   ]
  },
  {
   "cell_type": "code",
   "execution_count": 11,
   "id": "63b3320d-7f99-46c6-b0a4-ae66fc191e6b",
   "metadata": {},
   "outputs": [
    {
     "name": "stdout",
     "output_type": "stream",
     "text": [
      "We are pythoneseAi and Data SciencePython\n"
     ]
    }
   ],
   "source": [
    "print(\"We are pythonese\",end=\"\")\n",
    "print(\"Ai and Data Science\",end=\"\")\n",
    "print(\"Python\")"
   ]
  },
  {
   "cell_type": "code",
   "execution_count": 12,
   "id": "3ffdbecf-ecde-4320-a222-59913adf8f5c",
   "metadata": {},
   "outputs": [
    {
     "name": "stdout",
     "output_type": "stream",
     "text": [
      "We are pythonese\n",
      "\n",
      "Ai and Data Science"
     ]
    }
   ],
   "source": [
    "print(\"We are pythonese\",end=\"\\n\\n\")\n",
    "print(\"Ai and Data Science\",end=\"\")"
   ]
  },
  {
   "cell_type": "markdown",
   "id": "c4530ff4-b4bf-4d39-bf66-ffd2abdcfa8c",
   "metadata": {},
   "source": [
    "# Python Operators\n",
    "      - Arithmetic \n",
    "      - Relational / Comparision\n",
    "      - Logical \n",
    "      - is , in , not, not in "
   ]
  },
  {
   "cell_type": "markdown",
   "id": "6382df90-345e-4b6f-a57f-e94878ac70f8",
   "metadata": {},
   "source": [
    "# Arithmetic Operator\n",
    "     - Addition (+)\n",
    "     - Subtraction (-)\n",
    "     - Multiplication (*)\n",
    "     - Float Division (/)\n",
    "     - Floor Divsion (//)\n",
    "     - Modulus (%)\n",
    "     - Exponent (**)\n",
    "### Relational Operators / Comparision  >>> boolean\n",
    "    - Greater than (>)\n",
    "    - Less than    (<)\n",
    "    - Greater than equal to (>=)\n",
    "    - Less than equal to (<=)\n",
    "    - Equal to (==)\n",
    "    - Not equal to (!=)\n",
    "### Logical Operators\n",
    "    - AND (and)\n",
    "    - OR  (or)\n",
    "    - NOT (not)     "
   ]
  },
  {
   "cell_type": "code",
   "execution_count": 13,
   "id": "8a3edcbc-8070-497d-ae44-02a544c07db2",
   "metadata": {},
   "outputs": [
    {
     "data": {
      "text/plain": [
       "18"
      ]
     },
     "execution_count": 13,
     "metadata": {},
     "output_type": "execute_result"
    }
   ],
   "source": [
    "12 + 6 "
   ]
  },
  {
   "cell_type": "code",
   "execution_count": 14,
   "id": "5ea4ad96-15a7-460c-8658-a57512572bc4",
   "metadata": {},
   "outputs": [
    {
     "data": {
      "text/plain": [
       "6"
      ]
     },
     "execution_count": 14,
     "metadata": {},
     "output_type": "execute_result"
    }
   ],
   "source": [
    "12 - 6 "
   ]
  },
  {
   "cell_type": "code",
   "execution_count": 15,
   "id": "2c651e09-1236-43c3-af60-946be7374922",
   "metadata": {},
   "outputs": [
    {
     "data": {
      "text/plain": [
       "42"
      ]
     },
     "execution_count": 15,
     "metadata": {},
     "output_type": "execute_result"
    }
   ],
   "source": [
    "6 * 7"
   ]
  },
  {
   "cell_type": "code",
   "execution_count": 16,
   "id": "d866b87a-f5b1-4c57-8670-9c645ab8960d",
   "metadata": {},
   "outputs": [
    {
     "data": {
      "text/plain": [
       "3.3333333333333335"
      ]
     },
     "execution_count": 16,
     "metadata": {},
     "output_type": "execute_result"
    }
   ],
   "source": [
    "# float\n",
    "10/3"
   ]
  },
  {
   "cell_type": "code",
   "execution_count": 17,
   "id": "28bcd1b0-130c-43cc-8377-d4b5ad474ef9",
   "metadata": {},
   "outputs": [],
   "source": [
    "import math"
   ]
  },
  {
   "cell_type": "code",
   "execution_count": 18,
   "id": "34e9d7d2-92c1-4530-93ab-8006bd6c1c6a",
   "metadata": {},
   "outputs": [
    {
     "data": {
      "text/plain": [
       "23"
      ]
     },
     "execution_count": 18,
     "metadata": {},
     "output_type": "execute_result"
    }
   ],
   "source": [
    "math.floor(23.9)"
   ]
  },
  {
   "cell_type": "code",
   "execution_count": 20,
   "id": "ee625e72-792e-4a8e-b315-fe486ac2c515",
   "metadata": {},
   "outputs": [
    {
     "data": {
      "text/plain": [
       "24"
      ]
     },
     "execution_count": 20,
     "metadata": {},
     "output_type": "execute_result"
    }
   ],
   "source": [
    "math.ceil(23.1)"
   ]
  },
  {
   "cell_type": "code",
   "execution_count": 21,
   "id": "cf6a5b86-003c-445d-a0bd-94dab26e7a64",
   "metadata": {},
   "outputs": [
    {
     "data": {
      "text/plain": [
       "3"
      ]
     },
     "execution_count": 21,
     "metadata": {},
     "output_type": "execute_result"
    }
   ],
   "source": [
    "10//3"
   ]
  },
  {
   "cell_type": "code",
   "execution_count": 23,
   "id": "8549d670-0b29-4b8f-b5f4-0ddcc14af603",
   "metadata": {},
   "outputs": [
    {
     "data": {
      "text/plain": [
       "4"
      ]
     },
     "execution_count": 23,
     "metadata": {},
     "output_type": "execute_result"
    }
   ],
   "source": [
    "math.ceil(10/3)"
   ]
  },
  {
   "cell_type": "code",
   "execution_count": 24,
   "id": "eeaebbde-c335-4288-a5b7-479900d35b63",
   "metadata": {},
   "outputs": [
    {
     "data": {
      "text/plain": [
       "49"
      ]
     },
     "execution_count": 24,
     "metadata": {},
     "output_type": "execute_result"
    }
   ],
   "source": [
    "99%50"
   ]
  },
  {
   "cell_type": "code",
   "execution_count": 28,
   "id": "d31f03db-9889-4e6b-bd31-1e8ff491a86a",
   "metadata": {},
   "outputs": [
    {
     "data": {
      "text/plain": [
       "(32, 9, 125, 256)"
      ]
     },
     "execution_count": 28,
     "metadata": {},
     "output_type": "execute_result"
    }
   ],
   "source": [
    "2**5, 3**2, 5**3, 4**4"
   ]
  },
  {
   "cell_type": "code",
   "execution_count": 29,
   "id": "fc9ecbe6-74b6-474a-add5-ee169c239e19",
   "metadata": {},
   "outputs": [
    {
     "data": {
      "text/plain": [
       "True"
      ]
     },
     "execution_count": 29,
     "metadata": {},
     "output_type": "execute_result"
    }
   ],
   "source": [
    "100 > 50 "
   ]
  },
  {
   "cell_type": "code",
   "execution_count": 30,
   "id": "8a13d992-7e82-4a22-8807-38fee91f9ab5",
   "metadata": {},
   "outputs": [
    {
     "data": {
      "text/plain": [
       "True"
      ]
     },
     "execution_count": 30,
     "metadata": {},
     "output_type": "execute_result"
    }
   ],
   "source": [
    "50 < 100"
   ]
  },
  {
   "cell_type": "code",
   "execution_count": 31,
   "id": "ef7fd99d-e7c8-464b-a2cc-ed3f3822d3f2",
   "metadata": {},
   "outputs": [
    {
     "data": {
      "text/plain": [
       "True"
      ]
     },
     "execution_count": 31,
     "metadata": {},
     "output_type": "execute_result"
    }
   ],
   "source": [
    "100 >= 100"
   ]
  },
  {
   "cell_type": "code",
   "execution_count": 32,
   "id": "fd17fde4-f2a3-45e0-bcf7-a49e60c71255",
   "metadata": {},
   "outputs": [
    {
     "data": {
      "text/plain": [
       "True"
      ]
     },
     "execution_count": 32,
     "metadata": {},
     "output_type": "execute_result"
    }
   ],
   "source": [
    "100<=100"
   ]
  },
  {
   "cell_type": "code",
   "execution_count": 33,
   "id": "44b1a162-3ac2-4bc1-bc39-8de9fd71a452",
   "metadata": {},
   "outputs": [
    {
     "data": {
      "text/plain": [
       "True"
      ]
     },
     "execution_count": 33,
     "metadata": {},
     "output_type": "execute_result"
    }
   ],
   "source": [
    "100 == 100"
   ]
  },
  {
   "cell_type": "code",
   "execution_count": 34,
   "id": "67c79768-bb16-4f37-a456-034720ff30c3",
   "metadata": {},
   "outputs": [
    {
     "data": {
      "text/plain": [
       "True"
      ]
     },
     "execution_count": 34,
     "metadata": {},
     "output_type": "execute_result"
    }
   ],
   "source": [
    "100!=200"
   ]
  },
  {
   "cell_type": "code",
   "execution_count": 35,
   "id": "0b71c6fc-5001-460f-961d-f7a24e66a55a",
   "metadata": {},
   "outputs": [
    {
     "data": {
      "text/plain": [
       "False"
      ]
     },
     "execution_count": 35,
     "metadata": {},
     "output_type": "execute_result"
    }
   ],
   "source": [
    "23 == 25"
   ]
  },
  {
   "cell_type": "markdown",
   "id": "1122ffd5-2fdf-4661-a1f2-2a92ed178d7d",
   "metadata": {},
   "source": [
    "# Logical Operators: To test multiple condition in one line"
   ]
  },
  {
   "cell_type": "code",
   "execution_count": 37,
   "id": "9fd5656b-d064-41ae-9775-25a5f061ce4b",
   "metadata": {},
   "outputs": [],
   "source": [
    "amjad = 50\n",
    "aslam = 40 \n",
    "akram = 30"
   ]
  },
  {
   "cell_type": "markdown",
   "id": "8a5f6ebe-7a61-4e5e-b584-851ee18eb664",
   "metadata": {},
   "source": [
    "### OR Operator (or) if any of the condition is true or results True "
   ]
  },
  {
   "cell_type": "code",
   "execution_count": 38,
   "id": "63f4b890-486f-49b9-8c40-7617c84404c1",
   "metadata": {},
   "outputs": [
    {
     "data": {
      "text/plain": [
       "True"
      ]
     },
     "execution_count": 38,
     "metadata": {},
     "output_type": "execute_result"
    }
   ],
   "source": [
    "(amjad < aslam) or (akram < aslam)  or (aslam > amjad)\n",
    "      # F                  T                     F"
   ]
  },
  {
   "cell_type": "raw",
   "id": "5a3b48e4-89d0-4b63-bedc-751943fdad59",
   "metadata": {},
   "source": [
    "For OR operator \n",
    "Input1          or    INput2     =  Output \n",
    "  1       (+)             1             1\n",
    "  1       (+)             0             1\n",
    "  0       (+)             1             1\n",
    "  0       (+)             0             0\n",
    "or operator finds a 1 to result the expression  1"
   ]
  },
  {
   "cell_type": "raw",
   "id": "233c6756-8049-4f44-b3d9-7fdf4f7bb5b8",
   "metadata": {},
   "source": [
    "For AND operator \n",
    "Input1          and    INput2     =  Output \n",
    "  1       (*)             1             1\n",
    "  1       (*)             0             0\n",
    "  0       (*)             1             0\n",
    "  0       (*)             0             0\n",
    "\n",
    "and operator finds a 0 to result the exopression  0 "
   ]
  },
  {
   "cell_type": "code",
   "execution_count": 39,
   "id": "b09f3187-986d-4b48-9b5e-6f099bccfe56",
   "metadata": {},
   "outputs": [
    {
     "data": {
      "text/plain": [
       "False"
      ]
     },
     "execution_count": 39,
     "metadata": {},
     "output_type": "execute_result"
    }
   ],
   "source": [
    "(amjad > aslam) and (akram < aslam)  and (aslam > amjad)\n",
    "#      T                    T                     F"
   ]
  },
  {
   "cell_type": "code",
   "execution_count": 51,
   "id": "840d0c77-dc00-4d72-913a-2a477514fc6e",
   "metadata": {},
   "outputs": [
    {
     "data": {
      "text/plain": [
       "[]"
      ]
     },
     "execution_count": 51,
     "metadata": {},
     "output_type": "execute_result"
    }
   ],
   "source": [
    "20 and 50 and [] and 100 and 10 and []"
   ]
  },
  {
   "cell_type": "code",
   "execution_count": 53,
   "id": "9a1db3ff-3146-4064-9c0d-bb970701b6d4",
   "metadata": {},
   "outputs": [
    {
     "data": {
      "text/plain": [
       "20"
      ]
     },
     "execution_count": 53,
     "metadata": {},
     "output_type": "execute_result"
    }
   ],
   "source": [
    "0 or 20 or 50 or 100 or 10"
   ]
  },
  {
   "cell_type": "code",
   "execution_count": 42,
   "id": "2bc5cedf-a1a7-41ba-99b2-13483f44d6c5",
   "metadata": {},
   "outputs": [
    {
     "data": {
      "text/plain": [
       "True"
      ]
     },
     "execution_count": 42,
     "metadata": {},
     "output_type": "execute_result"
    }
   ],
   "source": [
    "bool(1)"
   ]
  },
  {
   "cell_type": "code",
   "execution_count": 43,
   "id": "f67e3f4a-4bca-472f-a821-c1b7e1b7dc6e",
   "metadata": {},
   "outputs": [
    {
     "data": {
      "text/plain": [
       "False"
      ]
     },
     "execution_count": 43,
     "metadata": {},
     "output_type": "execute_result"
    }
   ],
   "source": [
    "bool(0)"
   ]
  },
  {
   "cell_type": "code",
   "execution_count": 44,
   "id": "edfacb10-41ba-4b00-8815-a7dffacb311f",
   "metadata": {},
   "outputs": [
    {
     "data": {
      "text/plain": [
       "True"
      ]
     },
     "execution_count": 44,
     "metadata": {},
     "output_type": "execute_result"
    }
   ],
   "source": [
    "bool(45)"
   ]
  },
  {
   "cell_type": "code",
   "execution_count": 45,
   "id": "09b32beb-8389-486c-8ada-0f2a1bd0b323",
   "metadata": {},
   "outputs": [
    {
     "data": {
      "text/plain": [
       "True"
      ]
     },
     "execution_count": 45,
     "metadata": {},
     "output_type": "execute_result"
    }
   ],
   "source": [
    "bool('hello')"
   ]
  },
  {
   "cell_type": "code",
   "execution_count": 46,
   "id": "40eb63b0-df94-4269-9a56-51c3438c42a6",
   "metadata": {},
   "outputs": [
    {
     "data": {
      "text/plain": [
       "False"
      ]
     },
     "execution_count": 46,
     "metadata": {},
     "output_type": "execute_result"
    }
   ],
   "source": [
    "bool(\"\")"
   ]
  },
  {
   "cell_type": "code",
   "execution_count": 47,
   "id": "4e2c9123-350e-451c-bcdf-98df7bc639d5",
   "metadata": {},
   "outputs": [
    {
     "data": {
      "text/plain": [
       "True"
      ]
     },
     "execution_count": 47,
     "metadata": {},
     "output_type": "execute_result"
    }
   ],
   "source": [
    "bool([1])"
   ]
  },
  {
   "cell_type": "code",
   "execution_count": 48,
   "id": "52a4f8f5-6686-40cc-bef7-ae41c2037889",
   "metadata": {},
   "outputs": [
    {
     "data": {
      "text/plain": [
       "False"
      ]
     },
     "execution_count": 48,
     "metadata": {},
     "output_type": "execute_result"
    }
   ],
   "source": [
    "bool([])"
   ]
  },
  {
   "cell_type": "code",
   "execution_count": 49,
   "id": "f7c86c1f-474f-4cb1-88f6-102c436121ce",
   "metadata": {},
   "outputs": [
    {
     "data": {
      "text/plain": [
       "20"
      ]
     },
     "execution_count": 49,
     "metadata": {},
     "output_type": "execute_result"
    }
   ],
   "source": [
    "20 or 50 or 100 or 10"
   ]
  },
  {
   "cell_type": "code",
   "execution_count": 54,
   "id": "3387cd9c-adaa-4308-a0f9-905a792ef2d8",
   "metadata": {},
   "outputs": [
    {
     "data": {
      "text/plain": [
       "True"
      ]
     },
     "execution_count": 54,
     "metadata": {},
     "output_type": "execute_result"
    }
   ],
   "source": [
    "10/2 == 50/10"
   ]
  },
  {
   "cell_type": "code",
   "execution_count": 55,
   "id": "4e390960-c56d-4332-91ca-0b6f156a4181",
   "metadata": {},
   "outputs": [
    {
     "data": {
      "text/plain": [
       "False"
      ]
     },
     "execution_count": 55,
     "metadata": {},
     "output_type": "execute_result"
    }
   ],
   "source": [
    "1.1 + 2.2 == 3.3"
   ]
  },
  {
   "cell_type": "code",
   "execution_count": 56,
   "id": "6ab976b9-841a-4fab-a355-42b3bff4ef93",
   "metadata": {},
   "outputs": [
    {
     "data": {
      "text/plain": [
       "3.3000000000000003"
      ]
     },
     "execution_count": 56,
     "metadata": {},
     "output_type": "execute_result"
    }
   ],
   "source": [
    "1.1 + 2.2"
   ]
  },
  {
   "cell_type": "code",
   "execution_count": 57,
   "id": "ed23fb5d-e8ab-4849-9b28-ea845c81ff33",
   "metadata": {},
   "outputs": [],
   "source": [
    "x =10.0"
   ]
  },
  {
   "cell_type": "code",
   "execution_count": 58,
   "id": "d0a9244d-9588-4393-b52d-05af6d79dbee",
   "metadata": {},
   "outputs": [
    {
     "data": {
      "text/plain": [
       "float"
      ]
     },
     "execution_count": 58,
     "metadata": {},
     "output_type": "execute_result"
    }
   ],
   "source": [
    "type(x)"
   ]
  },
  {
   "cell_type": "code",
   "execution_count": 61,
   "id": "aa05a29a-e2a9-4dd5-8f5f-7e176a1fc554",
   "metadata": {},
   "outputs": [
    {
     "data": {
      "text/plain": [
       "True"
      ]
     },
     "execution_count": 61,
     "metadata": {},
     "output_type": "execute_result"
    }
   ],
   "source": [
    "isinstance(x,float)"
   ]
  },
  {
   "cell_type": "code",
   "execution_count": null,
   "id": "70e3ee6b-4811-4adb-9bb5-9cb987b84deb",
   "metadata": {},
   "outputs": [],
   "source": [
    "x = 10.0\n",
    "y = (x < 100.0) and isinstance(x, float)\n",
    " #       True              True"
   ]
  },
  {
   "cell_type": "code",
   "execution_count": 63,
   "id": "9d9f3250-730a-4471-88fb-eca250f398c3",
   "metadata": {},
   "outputs": [
    {
     "ename": "ValueError",
     "evalue": "math domain error",
     "output_type": "error",
     "traceback": [
      "\u001b[1;31m---------------------------------------------------------------------------\u001b[0m",
      "\u001b[1;31mValueError\u001b[0m                                Traceback (most recent call last)",
      "Cell \u001b[1;32mIn[63], line 3\u001b[0m\n\u001b[0;32m      1\u001b[0m x \u001b[38;5;241m=\u001b[39m \u001b[38;5;241m-\u001b[39m\u001b[38;5;241m100\u001b[39m\n\u001b[0;32m      2\u001b[0m \u001b[38;5;28;01mfrom\u001b[39;00m \u001b[38;5;21;01mmath\u001b[39;00m \u001b[38;5;28;01mimport\u001b[39;00m sqrt\n\u001b[1;32m----> 3\u001b[0m x \u001b[38;5;241m>\u001b[39m \u001b[38;5;241m0\u001b[39m   \u001b[38;5;129;01mor\u001b[39;00m  sqrt(x)\n",
      "\u001b[1;31mValueError\u001b[0m: math domain error"
     ]
    }
   ],
   "source": [
    "x = -100\n",
    "from math import sqrt\n",
    "x > 0   or  sqrt(x)\n",
    "# False"
   ]
  },
  {
   "cell_type": "markdown",
   "id": "a3420fd7-d867-47d3-8868-5695b9e20986",
   "metadata": {},
   "source": [
    "# \"is\" operator is identity operator"
   ]
  },
  {
   "cell_type": "code",
   "execution_count": 64,
   "id": "a934547d-5fdb-4f29-8199-5144952c924c",
   "metadata": {},
   "outputs": [],
   "source": [
    "a = 10"
   ]
  },
  {
   "cell_type": "code",
   "execution_count": 65,
   "id": "ec3c15c0-1bfe-4502-994e-20fce233c332",
   "metadata": {},
   "outputs": [],
   "source": [
    "b = a"
   ]
  },
  {
   "cell_type": "code",
   "execution_count": 66,
   "id": "90a907d3-c1a7-462c-8089-40ae24170217",
   "metadata": {},
   "outputs": [
    {
     "data": {
      "text/plain": [
       "140708283034328"
      ]
     },
     "execution_count": 66,
     "metadata": {},
     "output_type": "execute_result"
    }
   ],
   "source": [
    "id(a)"
   ]
  },
  {
   "cell_type": "code",
   "execution_count": 67,
   "id": "7ba35ce2-8606-4f20-a0a6-9a8ea3ffba0c",
   "metadata": {},
   "outputs": [
    {
     "data": {
      "text/plain": [
       "140708283034328"
      ]
     },
     "execution_count": 67,
     "metadata": {},
     "output_type": "execute_result"
    }
   ],
   "source": [
    "id(b)"
   ]
  },
  {
   "cell_type": "code",
   "execution_count": 68,
   "id": "8ea125c3-bcbb-4745-a6b3-f98cad4b4227",
   "metadata": {},
   "outputs": [
    {
     "data": {
      "text/plain": [
       "True"
      ]
     },
     "execution_count": 68,
     "metadata": {},
     "output_type": "execute_result"
    }
   ],
   "source": [
    "a is b"
   ]
  },
  {
   "cell_type": "code",
   "execution_count": 69,
   "id": "eacb85ab-8081-4192-941d-be8083ea59d6",
   "metadata": {},
   "outputs": [],
   "source": [
    "c = 4"
   ]
  },
  {
   "cell_type": "code",
   "execution_count": 70,
   "id": "13a659e4-6815-46cc-9d69-4cd0053af5e0",
   "metadata": {},
   "outputs": [
    {
     "data": {
      "text/plain": [
       "140708283034136"
      ]
     },
     "execution_count": 70,
     "metadata": {},
     "output_type": "execute_result"
    }
   ],
   "source": [
    "id(c)"
   ]
  },
  {
   "cell_type": "code",
   "execution_count": 71,
   "id": "0cd8b19d-46c1-4edb-ac09-309e63c0de45",
   "metadata": {},
   "outputs": [],
   "source": [
    "d = 10"
   ]
  },
  {
   "cell_type": "code",
   "execution_count": 72,
   "id": "acf4d5b4-ba68-47da-a7fa-ac2fc0ff45f4",
   "metadata": {},
   "outputs": [
    {
     "data": {
      "text/plain": [
       "140708283034328"
      ]
     },
     "execution_count": 72,
     "metadata": {},
     "output_type": "execute_result"
    }
   ],
   "source": [
    "id(d)"
   ]
  },
  {
   "cell_type": "code",
   "execution_count": 74,
   "id": "5de237f2-a7a9-4a9a-a39d-e22a23e42203",
   "metadata": {},
   "outputs": [
    {
     "data": {
      "text/plain": [
       "True"
      ]
     },
     "execution_count": 74,
     "metadata": {},
     "output_type": "execute_result"
    }
   ],
   "source": [
    "d is a"
   ]
  },
  {
   "cell_type": "code",
   "execution_count": null,
   "id": "57df4e8f-a690-4b0b-b25f-5f63875a27b4",
   "metadata": {},
   "outputs": [],
   "source": [
    "2*3+5**4+4/5\n",
    "# "
   ]
  },
  {
   "cell_type": "code",
   "execution_count": null,
   "id": "9056001e-d86f-40f3-a18f-388afb91d68d",
   "metadata": {},
   "outputs": [],
   "source": [
    "PEMDAS: \n",
    "Parenthesis\n",
    "Exponent\n",
    "Multiply \n",
    "Divide\n",
    "Addition\n",
    "Subtraction"
   ]
  }
 ],
 "metadata": {
  "kernelspec": {
   "display_name": "Python 3 (ipykernel)",
   "language": "python",
   "name": "python3"
  },
  "language_info": {
   "codemirror_mode": {
    "name": "ipython",
    "version": 3
   },
   "file_extension": ".py",
   "mimetype": "text/x-python",
   "name": "python",
   "nbconvert_exporter": "python",
   "pygments_lexer": "ipython3",
   "version": "3.12.7"
  }
 },
 "nbformat": 4,
 "nbformat_minor": 5
}
