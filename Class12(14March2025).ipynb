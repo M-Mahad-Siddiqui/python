{
 "cells": [
  {
   "cell_type": "markdown",
   "id": "dd9dd7c7-f0b5-44be-a75d-acf0af6ae7d8",
   "metadata": {},
   "source": [
    "# Functions: \n",
    "             - to reduce code\n",
    "             - code readilbilty\n",
    "             - easy code debugging\n",
    "             - reduce redundancy\n",
    "# Function Type:\n",
    "          - simple python function\n",
    "                  - print()\n",
    "                  - len()\n",
    "                  - type()\n",
    "                  - min\n",
    "                  - max\n",
    "                  - sum()\n",
    "         - class function\n",
    "                  - str\n",
    "                  - list\n",
    "                  - dictionary\n",
    "        - userdefiend function\n",
    "              - we define our own functions\n",
    "                  "
   ]
  },
  {
   "cell_type": "code",
   "execution_count": 2,
   "id": "d3c9dd39-53e7-49d5-aa60-b79e4dbe120e",
   "metadata": {},
   "outputs": [],
   "source": [
    "def say_hello():\n",
    "    print(\"Hello\")"
   ]
  },
  {
   "cell_type": "code",
   "execution_count": 4,
   "id": "31d1c2d4-8e34-4b0a-84bd-94f71a2bcf14",
   "metadata": {},
   "outputs": [
    {
     "name": "stdout",
     "output_type": "stream",
     "text": [
      "Hello\n"
     ]
    }
   ],
   "source": [
    "say_hello()"
   ]
  },
  {
   "cell_type": "code",
   "execution_count": 5,
   "id": "3b88ac40-2b81-406e-b27e-e4dc9fdc415f",
   "metadata": {},
   "outputs": [],
   "source": [
    "def add():\n",
    "    a = 10\n",
    "    b = 20\n",
    "    c = a + b\n",
    "    print(c)"
   ]
  },
  {
   "cell_type": "code",
   "execution_count": 6,
   "id": "20945df8-9f29-43f3-a8e5-2d95f068418f",
   "metadata": {},
   "outputs": [
    {
     "name": "stdout",
     "output_type": "stream",
     "text": [
      "30\n"
     ]
    }
   ],
   "source": [
    "add()"
   ]
  },
  {
   "cell_type": "code",
   "execution_count": 7,
   "id": "062dd8a8-1438-47ac-9d59-b5093cea8c65",
   "metadata": {},
   "outputs": [
    {
     "name": "stdout",
     "output_type": "stream",
     "text": [
      "30\n"
     ]
    }
   ],
   "source": [
    "add()"
   ]
  },
  {
   "cell_type": "code",
   "execution_count": 41,
   "id": "072981ba-756e-4d34-93d0-10405ea81a08",
   "metadata": {},
   "outputs": [],
   "source": [
    "# parameter less function\n",
    "def multiply():\n",
    "    a = 10\n",
    "    b = 30\n",
    "    c  = a * b\n",
    "    print(c)"
   ]
  },
  {
   "cell_type": "code",
   "execution_count": 43,
   "id": "d42f5a9a-108e-48df-be77-d94877d0efc6",
   "metadata": {},
   "outputs": [
    {
     "name": "stdout",
     "output_type": "stream",
     "text": [
      "300\n"
     ]
    }
   ],
   "source": [
    "multiply()"
   ]
  },
  {
   "cell_type": "code",
   "execution_count": 18,
   "id": "fa67c8e8-e641-4608-8546-cfd4526709a5",
   "metadata": {},
   "outputs": [],
   "source": [
    "# Parametrised function\n",
    "def add(num1,num2):\n",
    "    print(num1+num2)"
   ]
  },
  {
   "cell_type": "code",
   "execution_count": 19,
   "id": "1da37cc3-5a7c-44a0-a417-4c2da004f84e",
   "metadata": {},
   "outputs": [
    {
     "ename": "TypeError",
     "evalue": "add() missing 2 required positional arguments: 'num1' and 'num2'",
     "output_type": "error",
     "traceback": [
      "\u001b[1;31m---------------------------------------------------------------------------\u001b[0m",
      "\u001b[1;31mTypeError\u001b[0m                                 Traceback (most recent call last)",
      "Cell \u001b[1;32mIn[19], line 1\u001b[0m\n\u001b[1;32m----> 1\u001b[0m add()\n",
      "\u001b[1;31mTypeError\u001b[0m: add() missing 2 required positional arguments: 'num1' and 'num2'"
     ]
    }
   ],
   "source": [
    "add()"
   ]
  },
  {
   "cell_type": "code",
   "execution_count": 20,
   "id": "2fb10e85-46bb-45b3-8fe4-6241c774a681",
   "metadata": {},
   "outputs": [
    {
     "name": "stdout",
     "output_type": "stream",
     "text": [
      "57\n"
     ]
    }
   ],
   "source": [
    "add(12,45)  # arguments"
   ]
  },
  {
   "cell_type": "code",
   "execution_count": 21,
   "id": "787f6e21-6c4a-467a-afe0-8dd3fcd1822d",
   "metadata": {},
   "outputs": [
    {
     "name": "stdout",
     "output_type": "stream",
     "text": [
      "3\n"
     ]
    }
   ],
   "source": [
    "add(1,2)"
   ]
  },
  {
   "cell_type": "code",
   "execution_count": 22,
   "id": "db3a7b77-0261-4d6c-a71a-b352f6fc9101",
   "metadata": {},
   "outputs": [
    {
     "name": "stdout",
     "output_type": "stream",
     "text": [
      "51\n"
     ]
    }
   ],
   "source": [
    "add(45,6)"
   ]
  },
  {
   "cell_type": "code",
   "execution_count": 23,
   "id": "144d8d08-b230-4333-80e8-147e88a238ab",
   "metadata": {},
   "outputs": [
    {
     "name": "stdout",
     "output_type": "stream",
     "text": [
      "7\n"
     ]
    }
   ],
   "source": [
    "add(3,4)"
   ]
  },
  {
   "cell_type": "code",
   "execution_count": 24,
   "id": "698f562a-2aac-42a4-9796-4f3ed946310a",
   "metadata": {},
   "outputs": [
    {
     "name": "stdout",
     "output_type": "stream",
     "text": [
      "Hello\n"
     ]
    }
   ],
   "source": [
    "say_hello()"
   ]
  },
  {
   "cell_type": "code",
   "execution_count": 25,
   "id": "fe21a996-5469-4d21-945a-ef2d7a5dee76",
   "metadata": {},
   "outputs": [],
   "source": [
    "def say_hello(name):\n",
    "    print(f\"Hello {name}\")"
   ]
  },
  {
   "cell_type": "code",
   "execution_count": 26,
   "id": "f9f40ecc-d919-467a-887a-b2f700624549",
   "metadata": {},
   "outputs": [
    {
     "ename": "TypeError",
     "evalue": "say_hello() missing 1 required positional argument: 'name'",
     "output_type": "error",
     "traceback": [
      "\u001b[1;31m---------------------------------------------------------------------------\u001b[0m",
      "\u001b[1;31mTypeError\u001b[0m                                 Traceback (most recent call last)",
      "Cell \u001b[1;32mIn[26], line 1\u001b[0m\n\u001b[1;32m----> 1\u001b[0m say_hello()\n",
      "\u001b[1;31mTypeError\u001b[0m: say_hello() missing 1 required positional argument: 'name'"
     ]
    }
   ],
   "source": [
    "say_hello()"
   ]
  },
  {
   "cell_type": "code",
   "execution_count": 32,
   "id": "013c2b0e-9eee-49d6-b005-92d7bbe1e58b",
   "metadata": {},
   "outputs": [
    {
     "name": "stdout",
     "output_type": "stream",
     "text": [
      "Hello asad\n"
     ]
    }
   ],
   "source": [
    "say_hello(name)"
   ]
  },
  {
   "cell_type": "code",
   "execution_count": 28,
   "id": "f3fb6530-ede8-4c01-9587-5e903cf19a45",
   "metadata": {},
   "outputs": [],
   "source": [
    "name = \"asad\""
   ]
  },
  {
   "cell_type": "code",
   "execution_count": 29,
   "id": "3f08dc8d-5ef9-49a3-98c2-9efe58660816",
   "metadata": {},
   "outputs": [
    {
     "data": {
      "text/plain": [
       "'asad'"
      ]
     },
     "execution_count": 29,
     "metadata": {},
     "output_type": "execute_result"
    }
   ],
   "source": [
    "name"
   ]
  },
  {
   "cell_type": "code",
   "execution_count": 31,
   "id": "3a540ffa-c9de-437d-bce1-210c59dd7314",
   "metadata": {},
   "outputs": [
    {
     "data": {
      "text/plain": [
       "'furqan'"
      ]
     },
     "execution_count": 31,
     "metadata": {},
     "output_type": "execute_result"
    }
   ],
   "source": [
    "\"furqan\""
   ]
  },
  {
   "cell_type": "code",
   "execution_count": 33,
   "id": "94b365fe-2da4-4776-80cd-3207574ba5e7",
   "metadata": {},
   "outputs": [
    {
     "ename": "TypeError",
     "evalue": "add() missing 1 required positional argument: 'num2'",
     "output_type": "error",
     "traceback": [
      "\u001b[1;31m---------------------------------------------------------------------------\u001b[0m",
      "\u001b[1;31mTypeError\u001b[0m                                 Traceback (most recent call last)",
      "Cell \u001b[1;32mIn[33], line 1\u001b[0m\n\u001b[1;32m----> 1\u001b[0m add(\u001b[38;5;241m12\u001b[39m)\n",
      "\u001b[1;31mTypeError\u001b[0m: add() missing 1 required positional argument: 'num2'"
     ]
    }
   ],
   "source": [
    "add(12)"
   ]
  },
  {
   "cell_type": "code",
   "execution_count": 34,
   "id": "f8c058a2-27ac-453a-9fcf-12187ab40924",
   "metadata": {},
   "outputs": [],
   "source": [
    "a = 100"
   ]
  },
  {
   "cell_type": "code",
   "execution_count": 35,
   "id": "836b3942-7549-4dce-bc77-318ab017fe26",
   "metadata": {},
   "outputs": [
    {
     "data": {
      "text/plain": [
       "100"
      ]
     },
     "execution_count": 35,
     "metadata": {},
     "output_type": "execute_result"
    }
   ],
   "source": [
    "a"
   ]
  },
  {
   "cell_type": "code",
   "execution_count": 36,
   "id": "7ec1ff30-617b-491b-a734-b7be4165dc40",
   "metadata": {},
   "outputs": [],
   "source": [
    "a = 200"
   ]
  },
  {
   "cell_type": "code",
   "execution_count": 37,
   "id": "1b2bcca5-edd7-4f88-a6b3-b914cfdd574d",
   "metadata": {},
   "outputs": [
    {
     "data": {
      "text/plain": [
       "200"
      ]
     },
     "execution_count": 37,
     "metadata": {},
     "output_type": "execute_result"
    }
   ],
   "source": [
    "a"
   ]
  },
  {
   "cell_type": "code",
   "execution_count": 44,
   "id": "9c3ce793-a86e-468d-8d4f-e9694e194cd9",
   "metadata": {},
   "outputs": [],
   "source": [
    "def multiply(a,b):\n",
    "    print(a*b)"
   ]
  },
  {
   "cell_type": "code",
   "execution_count": 46,
   "id": "8d836f2f-d4b1-418a-a925-eccb94146097",
   "metadata": {},
   "outputs": [
    {
     "name": "stdout",
     "output_type": "stream",
     "text": [
      "10\n"
     ]
    }
   ],
   "source": [
    "multiply(2,5)"
   ]
  },
  {
   "cell_type": "code",
   "execution_count": 48,
   "id": "4165b260-6fba-46db-80cc-a57b96157e41",
   "metadata": {},
   "outputs": [
    {
     "ename": "TypeError",
     "evalue": "multiply() missing 1 required positional argument: 'b'",
     "output_type": "error",
     "traceback": [
      "\u001b[1;31m---------------------------------------------------------------------------\u001b[0m",
      "\u001b[1;31mTypeError\u001b[0m                                 Traceback (most recent call last)",
      "Cell \u001b[1;32mIn[48], line 1\u001b[0m\n\u001b[1;32m----> 1\u001b[0m multiply(\u001b[38;5;241m4\u001b[39m)\n",
      "\u001b[1;31mTypeError\u001b[0m: multiply() missing 1 required positional argument: 'b'"
     ]
    }
   ],
   "source": [
    "multiply(4)"
   ]
  },
  {
   "cell_type": "code",
   "execution_count": 47,
   "id": "d3d52b6b-e380-4a45-af6e-5cb0b4f9d063",
   "metadata": {},
   "outputs": [],
   "source": [
    "del multipliy"
   ]
  },
  {
   "cell_type": "code",
   "execution_count": 53,
   "id": "80f4e97d-41eb-4013-aff9-326c5b458944",
   "metadata": {},
   "outputs": [],
   "source": [
    "def multiply(a=1,b=1):\n",
    "    print(a*b)"
   ]
  },
  {
   "cell_type": "code",
   "execution_count": 54,
   "id": "ef3cce74-8c22-465d-94d0-22a8a349a2c9",
   "metadata": {},
   "outputs": [
    {
     "name": "stdout",
     "output_type": "stream",
     "text": [
      "1\n"
     ]
    }
   ],
   "source": [
    "multiply()"
   ]
  },
  {
   "cell_type": "code",
   "execution_count": 67,
   "id": "4a801f82-acf7-4662-847a-40502b7c8350",
   "metadata": {},
   "outputs": [
    {
     "data": {
      "text/plain": [
       "'!\"#$%&\\'()*+,-./:;<=>?@[\\\\]^_`{|}~'"
      ]
     },
     "execution_count": 67,
     "metadata": {},
     "output_type": "execute_result"
    }
   ],
   "source": [
    "import string\n",
    "punc = string.punctuation\n",
    "vowels = 'aeiouAEIOU'\n",
    "punc"
   ]
  },
  {
   "cell_type": "code",
   "execution_count": 83,
   "id": "dc9074cb-5a41-4b75-bed9-899af9042653",
   "metadata": {},
   "outputs": [],
   "source": [
    "def text_analyser(text):\n",
    "    upper_count = 0\n",
    "    upper=\"\"\n",
    "    lower_count = 0\n",
    "    lower=\n",
    "    space_count = 0\n",
    "    digit_count = 0\n",
    "    vowel_count=0\n",
    "    consonant_count = 0 \n",
    "    punctuation_count = 0\n",
    "    length_count = len(text)\n",
    "    words_count = len(text.split(\" \"))\n",
    "    sents_count = len(text.split(\".\"))\n",
    "    for char in text:\n",
    "        if char.isupper():\n",
    "            upper+=1\n",
    "            if char in vowels:\n",
    "                vowel+=1\n",
    "            else:\n",
    "                consonant+=1\n",
    "            \n",
    "        elif char.islower():\n",
    "            lower+=1\n",
    "            if char in vowels:\n",
    "                vowel+=1\n",
    "            else:\n",
    "                consonant+=1\n",
    "        elif char.isspace():\n",
    "            space+=1\n",
    "        elif char in punc:\n",
    "            punctuation+=1\n",
    "        else:\n",
    "            digit+=1\n",
    "    print(f\"\"\"\n",
    "            upper = {upper}\n",
    "            lower = {lower}\n",
    "            space = {space}\n",
    "            digit = {digit}\n",
    "            vowel = {vowel}\n",
    "            consonant = {consonant} \n",
    "            punctuation = {punctuation}\n",
    "            length = {length}\n",
    "            words = {words}\n",
    "            sents = {sents}\n",
    "            \"\"\")"
   ]
  },
  {
   "cell_type": "code",
   "execution_count": 86,
   "id": "654b9061-b180-4140-aa78-36a3ffeb58ad",
   "metadata": {},
   "outputs": [
    {
     "name": "stdin",
     "output_type": "stream",
     "text": [
      "Enter your text to analyse: >>>>>>>>>>>>>>> Python is commonly used for developing websites and software, task automation, data analysis, and data visualization.\n"
     ]
    },
    {
     "name": "stdout",
     "output_type": "stream",
     "text": [
      "\n",
      "            upper = 1\n",
      "            lower = 97\n",
      "            space = 15\n",
      "            digit = 0\n",
      "            vowel = 40\n",
      "            consonant = 58 \n",
      "            punctuation = 4\n",
      "            length = 117\n",
      "            words = 16\n",
      "            sents = 2\n",
      "            \n"
     ]
    }
   ],
   "source": [
    "text = input(\"Enter your text to analyse: >>>>>>>>>>>>>>>\")\n",
    "text_analyser(text)"
   ]
  },
  {
   "cell_type": "code",
   "execution_count": null,
   "id": "f87f1155-866a-41b3-b390-8138c8c53351",
   "metadata": {},
   "outputs": [],
   "source": []
  }
 ],
 "metadata": {
  "kernelspec": {
   "display_name": "Python 3 (ipykernel)",
   "language": "python",
   "name": "python3"
  },
  "language_info": {
   "codemirror_mode": {
    "name": "ipython",
    "version": 3
   },
   "file_extension": ".py",
   "mimetype": "text/x-python",
   "name": "python",
   "nbconvert_exporter": "python",
   "pygments_lexer": "ipython3",
   "version": "3.12.7"
  }
 },
 "nbformat": 4,
 "nbformat_minor": 5
}
