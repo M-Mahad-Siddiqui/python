{
 "cells": [
  {
   "cell_type": "markdown",
   "id": "fb1fa55a-3d1f-4981-bd68-04df44687cfd",
   "metadata": {},
   "source": [
    "# Date and Time Data Types and Tools"
   ]
  },
  {
   "cell_type": "code",
   "execution_count": 89,
   "id": "2f171cb8-dee0-412e-a570-6ab08be7395f",
   "metadata": {},
   "outputs": [],
   "source": [
    "import datetime"
   ]
  },
  {
   "cell_type": "code",
   "execution_count": 11,
   "id": "8bf06e40-cd8a-4a03-a4d4-bb543495cf35",
   "metadata": {},
   "outputs": [],
   "source": [
    "now = datetime.now()"
   ]
  },
  {
   "cell_type": "code",
   "execution_count": 13,
   "id": "ceee000d-ee6c-48f0-97a9-7f8cd001b810",
   "metadata": {},
   "outputs": [
    {
     "data": {
      "text/plain": [
       "datetime.date(2025, 5, 30)"
      ]
     },
     "execution_count": 13,
     "metadata": {},
     "output_type": "execute_result"
    }
   ],
   "source": [
    "now.date()"
   ]
  },
  {
   "cell_type": "code",
   "execution_count": 14,
   "id": "f19d3cc1-edd1-4b44-80ef-b4277cc40eb9",
   "metadata": {},
   "outputs": [
    {
     "data": {
      "text/plain": [
       "datetime.time(17, 36, 24, 203720)"
      ]
     },
     "execution_count": 14,
     "metadata": {},
     "output_type": "execute_result"
    }
   ],
   "source": [
    "now.time()"
   ]
  },
  {
   "cell_type": "code",
   "execution_count": 15,
   "id": "b9ddaad6-37bf-4dcb-8971-dcabf83d7d22",
   "metadata": {},
   "outputs": [
    {
     "data": {
      "text/plain": [
       "2025"
      ]
     },
     "execution_count": 15,
     "metadata": {},
     "output_type": "execute_result"
    }
   ],
   "source": [
    "now.year"
   ]
  },
  {
   "cell_type": "code",
   "execution_count": 16,
   "id": "b1c7334b-ee45-4a2b-8f2b-2603be600b80",
   "metadata": {},
   "outputs": [
    {
     "data": {
      "text/plain": [
       "5"
      ]
     },
     "execution_count": 16,
     "metadata": {},
     "output_type": "execute_result"
    }
   ],
   "source": [
    "now.month"
   ]
  },
  {
   "cell_type": "code",
   "execution_count": 17,
   "id": "f85ac4dc-28e5-4ad9-a6ad-b1acc7b51ef2",
   "metadata": {},
   "outputs": [
    {
     "data": {
      "text/plain": [
       "30"
      ]
     },
     "execution_count": 17,
     "metadata": {},
     "output_type": "execute_result"
    }
   ],
   "source": [
    "now.day"
   ]
  },
  {
   "cell_type": "code",
   "execution_count": 18,
   "id": "2d84ec77-3434-4eeb-99e4-0adb5d4984de",
   "metadata": {},
   "outputs": [
    {
     "data": {
      "text/plain": [
       "17"
      ]
     },
     "execution_count": 18,
     "metadata": {},
     "output_type": "execute_result"
    }
   ],
   "source": [
    "now.hour"
   ]
  },
  {
   "cell_type": "code",
   "execution_count": 19,
   "id": "9901f03b-a632-40d7-8f7e-e7eed0eb162a",
   "metadata": {},
   "outputs": [
    {
     "data": {
      "text/plain": [
       "36"
      ]
     },
     "execution_count": 19,
     "metadata": {},
     "output_type": "execute_result"
    }
   ],
   "source": [
    "now.minute"
   ]
  },
  {
   "cell_type": "code",
   "execution_count": 20,
   "id": "2bf42ce3-8ec1-4c4f-baef-fcff27fe65d9",
   "metadata": {},
   "outputs": [
    {
     "data": {
      "text/plain": [
       "24"
      ]
     },
     "execution_count": 20,
     "metadata": {},
     "output_type": "execute_result"
    }
   ],
   "source": [
    "now.second"
   ]
  },
  {
   "cell_type": "code",
   "execution_count": 21,
   "id": "0adeade3-0522-426e-81fb-171b1ac18dac",
   "metadata": {},
   "outputs": [
    {
     "data": {
      "text/plain": [
       "203720"
      ]
     },
     "execution_count": 21,
     "metadata": {},
     "output_type": "execute_result"
    }
   ],
   "source": [
    "now.microsecond"
   ]
  },
  {
   "cell_type": "markdown",
   "id": "006be7e2-5674-4b2e-ad4f-44695d3a7f4d",
   "metadata": {},
   "source": [
    "# timedelta \n",
    "represents the temporal difference between two datetime objects"
   ]
  },
  {
   "cell_type": "code",
   "execution_count": 24,
   "id": "4c07e5c6-dd17-4f34-82e9-cda698b3511c",
   "metadata": {},
   "outputs": [
    {
     "data": {
      "text/plain": [
       "datetime.datetime(2011, 7, 24, 0, 0)"
      ]
     },
     "execution_count": 24,
     "metadata": {},
     "output_type": "execute_result"
    }
   ],
   "source": [
    "datetime(2011, 7 , 24)"
   ]
  },
  {
   "cell_type": "code",
   "execution_count": 28,
   "id": "0868f572-11e8-429f-b48d-d27fef67e254",
   "metadata": {},
   "outputs": [
    {
     "data": {
      "text/plain": [
       "datetime.timedelta(days=949)"
      ]
     },
     "execution_count": 28,
     "metadata": {},
     "output_type": "execute_result"
    }
   ],
   "source": [
    "delta = datetime(2011, 1, 7) - datetime(2008, 6, 2)\n",
    "delta"
   ]
  },
  {
   "cell_type": "code",
   "execution_count": 29,
   "id": "1cc96d42-1d12-4ab5-97f3-3318a399a567",
   "metadata": {},
   "outputs": [],
   "source": [
    "from datetime import timedelta"
   ]
  },
  {
   "cell_type": "code",
   "execution_count": 31,
   "id": "5f32b553-33cc-4626-84d8-db3754b2d325",
   "metadata": {},
   "outputs": [],
   "source": [
    "start = datetime(2025, 5, 30)"
   ]
  },
  {
   "cell_type": "code",
   "execution_count": 32,
   "id": "e3cd0987-df49-46e3-a0b9-bc398e867de3",
   "metadata": {},
   "outputs": [
    {
     "data": {
      "text/plain": [
       "datetime.datetime(2025, 7, 14, 0, 0)"
      ]
     },
     "execution_count": 32,
     "metadata": {},
     "output_type": "execute_result"
    }
   ],
   "source": [
    "start + timedelta(45)"
   ]
  },
  {
   "cell_type": "code",
   "execution_count": 33,
   "id": "63f98336-3148-494b-aedc-a7e4c3c569fc",
   "metadata": {},
   "outputs": [],
   "source": [
    "stamp = datetime(2011, 1, 3)"
   ]
  },
  {
   "cell_type": "code",
   "execution_count": 34,
   "id": "5bba64d0-eddd-4751-836f-b4b37a624a2c",
   "metadata": {},
   "outputs": [
    {
     "data": {
      "text/plain": [
       "datetime.datetime(2011, 1, 3, 0, 0)"
      ]
     },
     "execution_count": 34,
     "metadata": {},
     "output_type": "execute_result"
    }
   ],
   "source": [
    "stamp"
   ]
  },
  {
   "cell_type": "code",
   "execution_count": 36,
   "id": "6fecffb5-cfc7-4c1e-b747-500e64271fa1",
   "metadata": {},
   "outputs": [
    {
     "data": {
      "text/plain": [
       "'2011-01-03 00:00:00'"
      ]
     },
     "execution_count": 36,
     "metadata": {},
     "output_type": "execute_result"
    }
   ],
   "source": [
    "str(stamp)"
   ]
  },
  {
   "cell_type": "code",
   "execution_count": 37,
   "id": "b7cd0208-4a26-45ce-8ea2-98ecae8bb066",
   "metadata": {},
   "outputs": [
    {
     "data": {
      "text/plain": [
       "'2011-01-03'"
      ]
     },
     "execution_count": 37,
     "metadata": {},
     "output_type": "execute_result"
    }
   ],
   "source": [
    "stamp.strftime('%Y-%m-%d')"
   ]
  },
  {
   "cell_type": "code",
   "execution_count": 42,
   "id": "f642c2f7-59c6-4b40-b9fd-1778dd7fe3b7",
   "metadata": {},
   "outputs": [
    {
     "data": {
      "text/plain": [
       "'11/01/03'"
      ]
     },
     "execution_count": 42,
     "metadata": {},
     "output_type": "execute_result"
    }
   ],
   "source": [
    "stamp.strftime('%y/%m/%d')"
   ]
  },
  {
   "cell_type": "code",
   "execution_count": 43,
   "id": "49ae74ec-db9c-40b0-aeda-2d122fd6e162",
   "metadata": {},
   "outputs": [],
   "source": [
    "value = '2011-01-03'"
   ]
  },
  {
   "cell_type": "code",
   "execution_count": 44,
   "id": "32b63c70-3415-40b3-89c6-d07e813ea32e",
   "metadata": {},
   "outputs": [
    {
     "data": {
      "text/plain": [
       "datetime.datetime(2011, 1, 3, 0, 0)"
      ]
     },
     "execution_count": 44,
     "metadata": {},
     "output_type": "execute_result"
    }
   ],
   "source": [
    "datetime.strptime(value, '%Y-%m-%d')"
   ]
  },
  {
   "cell_type": "code",
   "execution_count": 55,
   "id": "c78dce37-9372-4b06-8ac9-cc8170b82eec",
   "metadata": {},
   "outputs": [],
   "source": [
    "datestrs = ['7/6/2011', '8/06/2011']"
   ]
  },
  {
   "cell_type": "code",
   "execution_count": 56,
   "id": "eeb270b0-3b16-4325-b4ee-1b763541dafc",
   "metadata": {},
   "outputs": [
    {
     "data": {
      "text/plain": [
       "[datetime.datetime(2011, 7, 6, 0, 0), datetime.datetime(2011, 8, 6, 0, 0)]"
      ]
     },
     "execution_count": 56,
     "metadata": {},
     "output_type": "execute_result"
    }
   ],
   "source": [
    "[datetime.strptime(x, '%m/%d/%Y') for x in datestrs]"
   ]
  },
  {
   "cell_type": "code",
   "execution_count": 57,
   "id": "8be1e161-4a9d-45d2-a5cb-27015308dc40",
   "metadata": {},
   "outputs": [],
   "source": [
    "dates = [datetime(2011, 1, 2), datetime(2011, 1, 5),datetime(2011, 1, 7), datetime(2011, 1, 8),datetime(2011, 1, 10), datetime(2011, 1, 12)]"
   ]
  },
  {
   "cell_type": "code",
   "execution_count": 58,
   "id": "3fe2bd7b-25bc-4101-97a7-4d3d61b55d25",
   "metadata": {},
   "outputs": [
    {
     "data": {
      "text/plain": [
       "[datetime.datetime(2011, 1, 2, 0, 0),\n",
       " datetime.datetime(2011, 1, 5, 0, 0),\n",
       " datetime.datetime(2011, 1, 7, 0, 0),\n",
       " datetime.datetime(2011, 1, 8, 0, 0),\n",
       " datetime.datetime(2011, 1, 10, 0, 0),\n",
       " datetime.datetime(2011, 1, 12, 0, 0)]"
      ]
     },
     "execution_count": 58,
     "metadata": {},
     "output_type": "execute_result"
    }
   ],
   "source": [
    "dates"
   ]
  },
  {
   "cell_type": "code",
   "execution_count": 61,
   "id": "8099717c-86fd-41a7-83a9-c8cfd6296943",
   "metadata": {},
   "outputs": [
    {
     "data": {
      "text/plain": [
       "2011-01-02   -0.044442\n",
       "2011-01-05    0.007125\n",
       "2011-01-07    1.118445\n",
       "2011-01-08    0.889121\n",
       "2011-01-10    0.973117\n",
       "2011-01-12   -0.478306\n",
       "dtype: float64"
      ]
     },
     "execution_count": 61,
     "metadata": {},
     "output_type": "execute_result"
    }
   ],
   "source": [
    "import pandas as pd\n",
    "import numpy as np\n",
    "ts = pd.Series(np.random.randn(6), index=dates)\n",
    "ts"
   ]
  },
  {
   "cell_type": "code",
   "execution_count": 77,
   "id": "37909435-40f4-4f6d-8936-ccf42dfc450d",
   "metadata": {},
   "outputs": [
    {
     "data": {
      "text/plain": [
       "2000-01-01 00:00:00    1.004017\n",
       "2000-01-01 01:00:00   -0.211783\n",
       "2000-01-01 02:00:00   -0.263741\n",
       "2000-01-01 03:00:00    2.358849\n",
       "2000-01-01 04:00:00    1.125777\n",
       "                         ...   \n",
       "2000-02-11 11:00:00    0.309366\n",
       "2000-02-11 12:00:00   -0.630209\n",
       "2000-02-11 13:00:00   -0.461060\n",
       "2000-02-11 14:00:00   -0.154046\n",
       "2000-02-11 15:00:00   -0.238057\n",
       "Freq: h, Length: 1000, dtype: float64"
      ]
     },
     "execution_count": 77,
     "metadata": {},
     "output_type": "execute_result"
    }
   ],
   "source": [
    "longer_ts = pd.Series(np.random.randn(1000),index=pd.date_range('1/1/2000', periods=1000,freq='h'))\n",
    "longer_ts"
   ]
  },
  {
   "cell_type": "code",
   "execution_count": 78,
   "id": "d13801b5-36c8-4766-b21c-d19a94b424d7",
   "metadata": {},
   "outputs": [
    {
     "data": {
      "text/plain": [
       "2000-01-01    0.126463\n",
       "2000-01-02   -0.119858\n",
       "2000-01-03   -0.070501\n",
       "2000-01-04   -0.086311\n",
       "2000-01-05    0.324826\n",
       "2000-01-06   -0.392838\n",
       "2000-01-07   -0.096705\n",
       "2000-01-08    0.176688\n",
       "2000-01-09   -0.065134\n",
       "2000-01-10    0.205772\n",
       "2000-01-11   -0.001989\n",
       "2000-01-12   -0.135796\n",
       "2000-01-13    0.062309\n",
       "2000-01-14   -0.252231\n",
       "2000-01-15    0.466958\n",
       "2000-01-16    0.090237\n",
       "2000-01-17    0.082880\n",
       "2000-01-18   -0.052433\n",
       "2000-01-19    0.297055\n",
       "2000-01-20   -0.018150\n",
       "2000-01-21    0.372418\n",
       "2000-01-22    0.214818\n",
       "2000-01-23    0.474783\n",
       "2000-01-24   -0.195354\n",
       "2000-01-25    0.026822\n",
       "2000-01-26   -0.179569\n",
       "2000-01-27   -0.289574\n",
       "2000-01-28    0.082779\n",
       "2000-01-29   -0.136796\n",
       "2000-01-30   -0.338519\n",
       "2000-01-31    0.185914\n",
       "2000-02-01   -0.078685\n",
       "2000-02-02   -0.049045\n",
       "2000-02-03   -0.110535\n",
       "2000-02-04    0.077773\n",
       "2000-02-05   -0.135068\n",
       "2000-02-06    0.032713\n",
       "2000-02-07   -0.345070\n",
       "2000-02-08    0.104909\n",
       "2000-02-09    0.144925\n",
       "2000-02-10   -0.030090\n",
       "2000-02-11    0.383535\n",
       "Freq: D, dtype: float64"
      ]
     },
     "execution_count": 78,
     "metadata": {},
     "output_type": "execute_result"
    }
   ],
   "source": [
    "resampler = longer_ts.resample('D').mean()\n",
    "resampler"
   ]
  },
  {
   "cell_type": "code",
   "execution_count": 81,
   "id": "878a43b6-f880-4482-8e9d-9e4e3b19568b",
   "metadata": {},
   "outputs": [
    {
     "data": {
      "text/plain": [
       "0.12646340094839767"
      ]
     },
     "execution_count": 81,
     "metadata": {},
     "output_type": "execute_result"
    }
   ],
   "source": [
    "longer_ts.iloc[:24].mean()"
   ]
  },
  {
   "cell_type": "code",
   "execution_count": 82,
   "id": "64ccd22b-9f83-4165-8fc5-636bf80bae9e",
   "metadata": {},
   "outputs": [],
   "source": [
    "import pandas_datareader.data  as web "
   ]
  },
  {
   "cell_type": "code",
   "execution_count": 91,
   "id": "ec243de3-6443-4857-9b95-8eb4edfc93d3",
   "metadata": {},
   "outputs": [],
   "source": [
    "year =1\n",
    "end = datetime.datetime.today()\n",
    "start = datetime.date(datetime.date.today().year - year, datetime.date.today().month, datetime.date.today().day)"
   ]
  },
  {
   "cell_type": "code",
   "execution_count": 94,
   "id": "c8c90e9d-bc9e-4358-ac7f-5b7e28a64a23",
   "metadata": {},
   "outputs": [
    {
     "data": {
      "text/html": [
       "<div>\n",
       "<style scoped>\n",
       "    .dataframe tbody tr th:only-of-type {\n",
       "        vertical-align: middle;\n",
       "    }\n",
       "\n",
       "    .dataframe tbody tr th {\n",
       "        vertical-align: top;\n",
       "    }\n",
       "\n",
       "    .dataframe thead th {\n",
       "        text-align: right;\n",
       "    }\n",
       "</style>\n",
       "<table border=\"1\" class=\"dataframe\">\n",
       "  <thead>\n",
       "    <tr style=\"text-align: right;\">\n",
       "      <th></th>\n",
       "      <th>sp500</th>\n",
       "    </tr>\n",
       "    <tr>\n",
       "      <th>DATE</th>\n",
       "      <th></th>\n",
       "    </tr>\n",
       "  </thead>\n",
       "  <tbody>\n",
       "    <tr>\n",
       "      <th>2024-05-30</th>\n",
       "      <td>5235.48</td>\n",
       "    </tr>\n",
       "    <tr>\n",
       "      <th>2024-05-31</th>\n",
       "      <td>5277.51</td>\n",
       "    </tr>\n",
       "    <tr>\n",
       "      <th>2024-06-03</th>\n",
       "      <td>5283.40</td>\n",
       "    </tr>\n",
       "    <tr>\n",
       "      <th>2024-06-04</th>\n",
       "      <td>5291.34</td>\n",
       "    </tr>\n",
       "    <tr>\n",
       "      <th>2024-06-05</th>\n",
       "      <td>5354.03</td>\n",
       "    </tr>\n",
       "    <tr>\n",
       "      <th>...</th>\n",
       "      <td>...</td>\n",
       "    </tr>\n",
       "    <tr>\n",
       "      <th>2025-05-23</th>\n",
       "      <td>5802.82</td>\n",
       "    </tr>\n",
       "    <tr>\n",
       "      <th>2025-05-26</th>\n",
       "      <td>NaN</td>\n",
       "    </tr>\n",
       "    <tr>\n",
       "      <th>2025-05-27</th>\n",
       "      <td>5921.54</td>\n",
       "    </tr>\n",
       "    <tr>\n",
       "      <th>2025-05-28</th>\n",
       "      <td>5888.55</td>\n",
       "    </tr>\n",
       "    <tr>\n",
       "      <th>2025-05-29</th>\n",
       "      <td>5912.17</td>\n",
       "    </tr>\n",
       "  </tbody>\n",
       "</table>\n",
       "<p>261 rows × 1 columns</p>\n",
       "</div>"
      ],
      "text/plain": [
       "              sp500\n",
       "DATE               \n",
       "2024-05-30  5235.48\n",
       "2024-05-31  5277.51\n",
       "2024-06-03  5283.40\n",
       "2024-06-04  5291.34\n",
       "2024-06-05  5354.03\n",
       "...             ...\n",
       "2025-05-23  5802.82\n",
       "2025-05-26      NaN\n",
       "2025-05-27  5921.54\n",
       "2025-05-28  5888.55\n",
       "2025-05-29  5912.17\n",
       "\n",
       "[261 rows x 1 columns]"
      ]
     },
     "execution_count": 94,
     "metadata": {},
     "output_type": "execute_result"
    }
   ],
   "source": [
    "sp500 = web.DataReader(['sp500'], 'fred', start, end)\n",
    "sp500"
   ]
  },
  {
   "cell_type": "code",
   "execution_count": 95,
   "id": "4689d420-6725-4e39-8ae1-465c7de23d48",
   "metadata": {},
   "outputs": [
    {
     "data": {
      "text/html": [
       "<div>\n",
       "<style scoped>\n",
       "    .dataframe tbody tr th:only-of-type {\n",
       "        vertical-align: middle;\n",
       "    }\n",
       "\n",
       "    .dataframe tbody tr th {\n",
       "        vertical-align: top;\n",
       "    }\n",
       "\n",
       "    .dataframe thead th {\n",
       "        text-align: right;\n",
       "    }\n",
       "</style>\n",
       "<table border=\"1\" class=\"dataframe\">\n",
       "  <thead>\n",
       "    <tr style=\"text-align: right;\">\n",
       "      <th></th>\n",
       "      <th>sp500</th>\n",
       "    </tr>\n",
       "    <tr>\n",
       "      <th>DATE</th>\n",
       "      <th></th>\n",
       "    </tr>\n",
       "  </thead>\n",
       "  <tbody>\n",
       "    <tr>\n",
       "      <th>2024-05-30</th>\n",
       "      <td>NaN</td>\n",
       "    </tr>\n",
       "    <tr>\n",
       "      <th>2024-05-31</th>\n",
       "      <td>5235.48</td>\n",
       "    </tr>\n",
       "    <tr>\n",
       "      <th>2024-06-03</th>\n",
       "      <td>5277.51</td>\n",
       "    </tr>\n",
       "    <tr>\n",
       "      <th>2024-06-04</th>\n",
       "      <td>5283.40</td>\n",
       "    </tr>\n",
       "    <tr>\n",
       "      <th>2024-06-05</th>\n",
       "      <td>5291.34</td>\n",
       "    </tr>\n",
       "    <tr>\n",
       "      <th>...</th>\n",
       "      <td>...</td>\n",
       "    </tr>\n",
       "    <tr>\n",
       "      <th>2025-05-23</th>\n",
       "      <td>5842.01</td>\n",
       "    </tr>\n",
       "    <tr>\n",
       "      <th>2025-05-26</th>\n",
       "      <td>5802.82</td>\n",
       "    </tr>\n",
       "    <tr>\n",
       "      <th>2025-05-27</th>\n",
       "      <td>NaN</td>\n",
       "    </tr>\n",
       "    <tr>\n",
       "      <th>2025-05-28</th>\n",
       "      <td>5921.54</td>\n",
       "    </tr>\n",
       "    <tr>\n",
       "      <th>2025-05-29</th>\n",
       "      <td>5888.55</td>\n",
       "    </tr>\n",
       "  </tbody>\n",
       "</table>\n",
       "<p>261 rows × 1 columns</p>\n",
       "</div>"
      ],
      "text/plain": [
       "              sp500\n",
       "DATE               \n",
       "2024-05-30      NaN\n",
       "2024-05-31  5235.48\n",
       "2024-06-03  5277.51\n",
       "2024-06-04  5283.40\n",
       "2024-06-05  5291.34\n",
       "...             ...\n",
       "2025-05-23  5842.01\n",
       "2025-05-26  5802.82\n",
       "2025-05-27      NaN\n",
       "2025-05-28  5921.54\n",
       "2025-05-29  5888.55\n",
       "\n",
       "[261 rows x 1 columns]"
      ]
     },
     "execution_count": 95,
     "metadata": {},
     "output_type": "execute_result"
    }
   ],
   "source": [
    "sp500.shift(1)"
   ]
  },
  {
   "cell_type": "code",
   "execution_count": null,
   "id": "1269af65-e039-4096-808c-989f2ee13c97",
   "metadata": {},
   "outputs": [],
   "source": []
  }
 ],
 "metadata": {
  "kernelspec": {
   "display_name": "Python 3 (ipykernel)",
   "language": "python",
   "name": "python3"
  },
  "language_info": {
   "codemirror_mode": {
    "name": "ipython",
    "version": 3
   },
   "file_extension": ".py",
   "mimetype": "text/x-python",
   "name": "python",
   "nbconvert_exporter": "python",
   "pygments_lexer": "ipython3",
   "version": "3.12.3"
  }
 },
 "nbformat": 4,
 "nbformat_minor": 5
}
