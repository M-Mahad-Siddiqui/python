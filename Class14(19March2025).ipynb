{
 "cells": [
  {
   "cell_type": "markdown",
   "id": "7b10db13-8432-414c-9233-941820ff99df",
   "metadata": {},
   "source": [
    "# Functions\n",
    "       - simple python function\n",
    "                - print, input, . . .\n",
    "       - class functions\n",
    "              \"\".functions()\n",
    "       - user defined function"
   ]
  },
  {
   "cell_type": "code",
   "execution_count": 1,
   "id": "3c4926e2-32c1-4fd4-af71-f012f1149db1",
   "metadata": {},
   "outputs": [],
   "source": [
    "# function definition\n",
    "def say_hello():\n",
    "    print(\"Hello\")"
   ]
  },
  {
   "cell_type": "code",
   "execution_count": 5,
   "id": "48b4115c-2fa4-44e1-a878-26a0df198427",
   "metadata": {},
   "outputs": [
    {
     "name": "stdout",
     "output_type": "stream",
     "text": [
      "Hello\n"
     ]
    }
   ],
   "source": [
    "# function call\n",
    "say_hello()"
   ]
  },
  {
   "cell_type": "code",
   "execution_count": 6,
   "id": "efd528c7-85bb-47b2-8c15-027cd7a6511b",
   "metadata": {},
   "outputs": [
    {
     "name": "stdout",
     "output_type": "stream",
     "text": [
      "Hello\n"
     ]
    }
   ],
   "source": [
    "say_hello()"
   ]
  },
  {
   "cell_type": "code",
   "execution_count": 7,
   "id": "fb4f9ab0-e004-43e2-89a4-c2ab007dcfc2",
   "metadata": {},
   "outputs": [
    {
     "data": {
      "text/plain": [
       "<function __main__.say_hello()>"
      ]
     },
     "execution_count": 7,
     "metadata": {},
     "output_type": "execute_result"
    }
   ],
   "source": [
    "say_hello"
   ]
  },
  {
   "cell_type": "code",
   "execution_count": 8,
   "id": "2c89e184-0c46-4b42-a5ce-b0fa17e98c01",
   "metadata": {},
   "outputs": [],
   "source": [
    "# we can communicate with function using paramters and arguments\n",
    "def greet_user(name):  # name is a parameter\n",
    "    print(f\"welcome {name}\") "
   ]
  },
  {
   "cell_type": "code",
   "execution_count": 9,
   "id": "a18852fa-3242-498f-b51d-05c0dabf3c0e",
   "metadata": {},
   "outputs": [
    {
     "name": "stdout",
     "output_type": "stream",
     "text": [
      "welcome Abdullah\n"
     ]
    }
   ],
   "source": [
    "greet_user(\"Abdullah\")  # argument"
   ]
  },
  {
   "cell_type": "code",
   "execution_count": 10,
   "id": "c8fba041-0d8d-4352-b28e-6c11c58faaae",
   "metadata": {},
   "outputs": [
    {
     "name": "stdout",
     "output_type": "stream",
     "text": [
      "welcome Waqas\n"
     ]
    }
   ],
   "source": [
    "greet_user(\"Waqas\")"
   ]
  },
  {
   "cell_type": "code",
   "execution_count": 11,
   "id": "3df85397-759b-484d-a540-5271953ba26b",
   "metadata": {},
   "outputs": [
    {
     "name": "stdout",
     "output_type": "stream",
     "text": [
      "welcome Nasir Hussain\n"
     ]
    }
   ],
   "source": [
    "greet_user(\"Nasir Hussain\")"
   ]
  },
  {
   "cell_type": "code",
   "execution_count": 16,
   "id": "de384454-9ae9-400d-87be-56faa35bb10f",
   "metadata": {},
   "outputs": [],
   "source": [
    "def rsToDollar(rs):\n",
    "   print(f\"Rs.{rs} are equivalent to ${round(rs/279.76,1)}\")"
   ]
  },
  {
   "cell_type": "code",
   "execution_count": 17,
   "id": "3f704d4a-22cd-49e0-9413-11d7adf5df33",
   "metadata": {},
   "outputs": [
    {
     "name": "stdout",
     "output_type": "stream",
     "text": [
      "Rs.100000 are equivalent to $357.4\n"
     ]
    }
   ],
   "source": [
    "rsToDollar(100000)"
   ]
  },
  {
   "cell_type": "code",
   "execution_count": 18,
   "id": "6bb0f9ab-7cfa-472e-ac06-98ea0f395232",
   "metadata": {},
   "outputs": [
    {
     "name": "stdout",
     "output_type": "stream",
     "text": [
      "Rs.10000000 are equivalent to $35744.9\n"
     ]
    }
   ],
   "source": [
    "rsToDollar(10000000)"
   ]
  },
  {
   "cell_type": "code",
   "execution_count": 31,
   "id": "5167ea82-4b2d-4a3d-b4b8-5c7d5a05cd19",
   "metadata": {},
   "outputs": [],
   "source": [
    "def fullname(first_name, last_name,middle_name=\"\"):\n",
    "    full_name  = f\"{first_name}{middle_name}{last_name}\"\n",
    "    print(full_name)\n",
    "  "
   ]
  },
  {
   "cell_type": "code",
   "execution_count": 32,
   "id": "4f288979-6a6e-4ab9-b080-2f4405a67f6e",
   "metadata": {},
   "outputs": [
    {
     "name": "stdout",
     "output_type": "stream",
     "text": [
      "AlamgirNooriKhan\n"
     ]
    }
   ],
   "source": [
    "# alamagir khan noori\n",
    "fullname(\"Alamgir\", 'Khan', \"Noori\")"
   ]
  },
  {
   "cell_type": "markdown",
   "id": "88c268f7-b8f0-4fed-8350-0e04098bdc68",
   "metadata": {},
   "source": [
    "#### Positional Argument"
   ]
  },
  {
   "cell_type": "code",
   "execution_count": 33,
   "id": "76cc0d4b-5651-432a-ad85-dab0db2319fc",
   "metadata": {},
   "outputs": [
    {
     "name": "stdout",
     "output_type": "stream",
     "text": [
      "KhanAlamgirNoori\n"
     ]
    }
   ],
   "source": [
    "fullname(\"Khan\", \"Noori\", \"Alamgir\")"
   ]
  },
  {
   "cell_type": "markdown",
   "id": "904033a6-a31f-46b5-a445-46d34eaf0c02",
   "metadata": {},
   "source": [
    "#### KeyWord Argument"
   ]
  },
  {
   "cell_type": "code",
   "execution_count": 34,
   "id": "6fb0b2fa-0707-4649-bb8d-5eaa082d1754",
   "metadata": {},
   "outputs": [
    {
     "name": "stdout",
     "output_type": "stream",
     "text": [
      "AlamgirKhanNoori\n"
     ]
    }
   ],
   "source": [
    "fullname(last_name=\"Noori\", middle_name='Khan', first_name='Alamgir')"
   ]
  },
  {
   "cell_type": "markdown",
   "id": "8b8c3f33-e792-4121-b91d-b6ffe2b15867",
   "metadata": {},
   "source": [
    "#### Default Parameter"
   ]
  },
  {
   "cell_type": "code",
   "execution_count": 35,
   "id": "189cd365-02ed-40be-80ee-5d3b3d3c18b3",
   "metadata": {},
   "outputs": [
    {
     "name": "stdout",
     "output_type": "stream",
     "text": [
      "NasirHussain\n"
     ]
    }
   ],
   "source": [
    "fullname(first_name=\"Nasir\", last_name=\"Hussain\")"
   ]
  },
  {
   "cell_type": "code",
   "execution_count": 41,
   "id": "05c3743c-c9d1-4c7e-9ddc-0af845780219",
   "metadata": {},
   "outputs": [],
   "source": [
    "def add(c,d,e,f,a,b,g):\n",
    "    print(a+b+c+d+e+f+g)"
   ]
  },
  {
   "cell_type": "code",
   "execution_count": 37,
   "id": "0697cf1a-13e2-4b47-b720-47b54bb3b224",
   "metadata": {},
   "outputs": [
    {
     "ename": "SyntaxError",
     "evalue": "positional argument follows keyword argument (2535781188.py, line 1)",
     "output_type": "error",
     "traceback": [
      "\u001b[1;36m  Cell \u001b[1;32mIn[37], line 1\u001b[1;36m\u001b[0m\n\u001b[1;33m    add(a=10, b=20, 23, 56, 12,g=1)\u001b[0m\n\u001b[1;37m                                  ^\u001b[0m\n\u001b[1;31mSyntaxError\u001b[0m\u001b[1;31m:\u001b[0m positional argument follows keyword argument\n"
     ]
    }
   ],
   "source": [
    "add(a=10, b=20, 23, 56, 12,g=1)"
   ]
  },
  {
   "cell_type": "code",
   "execution_count": 42,
   "id": "f503b0cb-d399-47fa-991d-c8fdc4749b0e",
   "metadata": {},
   "outputs": [
    {
     "name": "stdout",
     "output_type": "stream",
     "text": [
      "222\n"
     ]
    }
   ],
   "source": [
    "add(23,56,12,100,  a=10, b=20,g=1)"
   ]
  },
  {
   "cell_type": "code",
   "execution_count": 52,
   "id": "947508e6-c2c9-4cc3-9478-1ada3310b7d7",
   "metadata": {},
   "outputs": [],
   "source": [
    "def add(a=0,b=0,c=0):\n",
    "    cc=a+b+c\n",
    "    print(cc)"
   ]
  },
  {
   "cell_type": "code",
   "execution_count": 53,
   "id": "44a1860b-980b-473a-bf25-871cd44cbaf7",
   "metadata": {},
   "outputs": [
    {
     "name": "stdout",
     "output_type": "stream",
     "text": [
      "7\n"
     ]
    }
   ],
   "source": [
    "add(1,2,4)"
   ]
  },
  {
   "cell_type": "code",
   "execution_count": 54,
   "id": "dc62f2b4-8947-468c-932a-7ffc1098ca71",
   "metadata": {},
   "outputs": [
    {
     "name": "stdout",
     "output_type": "stream",
     "text": [
      "100\n"
     ]
    }
   ],
   "source": [
    "add(100)"
   ]
  },
  {
   "cell_type": "code",
   "execution_count": 55,
   "id": "e253df4d-ff30-4ef1-92a4-edf5c327dc7f",
   "metadata": {},
   "outputs": [
    {
     "ename": "TypeError",
     "evalue": "add() takes from 0 to 3 positional arguments but 7 were given",
     "output_type": "error",
     "traceback": [
      "\u001b[1;31m---------------------------------------------------------------------------\u001b[0m",
      "\u001b[1;31mTypeError\u001b[0m                                 Traceback (most recent call last)",
      "Cell \u001b[1;32mIn[55], line 1\u001b[0m\n\u001b[1;32m----> 1\u001b[0m add(\u001b[38;5;241m1\u001b[39m,\u001b[38;5;241m2\u001b[39m,\u001b[38;5;241m3\u001b[39m,\u001b[38;5;241m4\u001b[39m,\u001b[38;5;241m5\u001b[39m,\u001b[38;5;241m6\u001b[39m,\u001b[38;5;241m7\u001b[39m)\n",
      "\u001b[1;31mTypeError\u001b[0m: add() takes from 0 to 3 positional arguments but 7 were given"
     ]
    }
   ],
   "source": [
    "add(1,2,3,4,5,6,7)"
   ]
  },
  {
   "cell_type": "markdown",
   "id": "6ce383ad-cc1e-4339-a0f4-81a96fc37e50",
   "metadata": {},
   "source": [
    "# Arbitrary Number of Arguments"
   ]
  },
  {
   "cell_type": "code",
   "execution_count": 60,
   "id": "d7e9f096-28e8-4d42-bd73-48dceee8b1ac",
   "metadata": {},
   "outputs": [],
   "source": [
    "def bio_data(name, age, gender, qual, *other_info):\n",
    "    print(name, age, gender, qual)\n",
    "    print(other_info)"
   ]
  },
  {
   "cell_type": "code",
   "execution_count": 61,
   "id": "fc686fe5-7b8c-4b0c-86e7-7193b35a6552",
   "metadata": {},
   "outputs": [
    {
     "name": "stdout",
     "output_type": "stream",
     "text": [
      "nasir 35 M Matric\n",
      "('1234', 'B', 'B+')\n"
     ]
    }
   ],
   "source": [
    "bio_data(\"nasir\", 35, 'M',\"Matric\", \"1234\", 'B', \"B+\")"
   ]
  },
  {
   "cell_type": "code",
   "execution_count": 65,
   "id": "0b5ce15c-66e5-48c9-bb13-6807a7089470",
   "metadata": {},
   "outputs": [],
   "source": [
    "def profile_builder(name, qualification, subject,research,e_mail, city, *other_info):\n",
    "    profile={}\n",
    "    profile['name']=name\n",
    "    profile['qual']=qualification\n",
    "    profile['subject']=subject\n",
    "    profile['research']=research\n",
    "    profile['email']=e_mail\n",
    "    profile['city']=city\n",
    "    print(other_info)\n",
    "    print(profile)"
   ]
  },
  {
   "cell_type": "code",
   "execution_count": 66,
   "id": "8fdd07cf-c2e3-4dfa-930b-762fdd7211c9",
   "metadata": {},
   "outputs": [
    {
     "name": "stdout",
     "output_type": "stream",
     "text": [
      "()\n",
      "{'name': 'Abdul Basit', 'qual': 'Bcom', 'subject': 'AI', 'research': 'Computer', 'email': 'ab@gmail.com', 'city': 'Karachi'}\n"
     ]
    }
   ],
   "source": [
    "profile_builder('Abdul Basit', 'Bcom', 'AI', 'Computer', 'ab@gmail.com', 'Karachi')"
   ]
  },
  {
   "cell_type": "code",
   "execution_count": 67,
   "id": "ce63746e-c911-4c4c-8488-c8ac6ad826c7",
   "metadata": {},
   "outputs": [
    {
     "name": "stdout",
     "output_type": "stream",
     "text": [
      "('married', '2kids', 'biryani', 'rohafza')\n",
      "{'name': 'Abdul Basit', 'qual': 'Bcom', 'subject': 'AI', 'research': 'Computer', 'email': 'ab@gmail.com', 'city': 'Karachi'}\n"
     ]
    }
   ],
   "source": [
    "profile_builder('Abdul Basit', 'Bcom', 'AI', 'Computer', 'ab@gmail.com', 'Karachi', 'married','2kids','biryani','rohafza')"
   ]
  },
  {
   "cell_type": "code",
   "execution_count": 78,
   "id": "22a4c42e-b415-479c-b4d1-9f9f15b215e6",
   "metadata": {},
   "outputs": [],
   "source": [
    "def profile_builder(name, qualification, subject,research,e_mail, city, **other_info):\n",
    "    profile={}\n",
    "    profile['name']=name\n",
    "    profile['qual']=qualification\n",
    "    profile['subject']=subject\n",
    "    profile['research']=research\n",
    "    profile['email']=e_mail\n",
    "    profile['city']=city\n",
    "    profile.update(other_info)\n",
    "    print(profile)"
   ]
  },
  {
   "cell_type": "code",
   "execution_count": 79,
   "id": "f871acd6-823a-4eac-a1c6-db828112a785",
   "metadata": {},
   "outputs": [
    {
     "name": "stdout",
     "output_type": "stream",
     "text": [
      "{'name': 'Abdul Basit', 'qual': 'Bcom', 'subject': 'AI', 'research': 'Computer', 'email': 'ab@gmail.com', 'city': 'Karachi', 'marital_status': 'married', 'kids': 2, 'f_food': 'biryani', 'f_drink': 'RoohAfza'}\n"
     ]
    }
   ],
   "source": [
    "profile_builder('Abdul Basit', 'Bcom', 'AI', 'Computer', 'ab@gmail.com', 'Karachi',\n",
    "                marital_status='married',\n",
    "                kids=2,\n",
    "                f_food='biryani', \n",
    "                f_drink='RoohAfza')"
   ]
  },
  {
   "cell_type": "code",
   "execution_count": 72,
   "id": "5f41a61e-8b5f-4c1c-af34-9258b7a53374",
   "metadata": {},
   "outputs": [],
   "source": [
    "def build_profile(first, last, **user_info):\n",
    "\n",
    "    profile = {}\n",
    "    profile['first_name'] = first\n",
    "    profile['last_name'] = last\n",
    "    for key, value in user_info.items():\n",
    "        profile[key] = value\n",
    "    return profile\n",
    "    "
   ]
  },
  {
   "cell_type": "code",
   "execution_count": 73,
   "id": "549c63a8-6e85-42f4-a441-3c82e1179b23",
   "metadata": {},
   "outputs": [
    {
     "name": "stdout",
     "output_type": "stream",
     "text": [
      "{'first_name': 'albert', 'last_name': 'einstein', 'location': 'princeton', 'field': 'physics'}\n"
     ]
    }
   ],
   "source": [
    "user_profile = build_profile('albert', 'einstein',location='princeton', field='physics')\n",
    "print(user_profile)"
   ]
  },
  {
   "cell_type": "code",
   "execution_count": 90,
   "id": "f034178f-801d-4cd8-98a5-051183a11b65",
   "metadata": {},
   "outputs": [],
   "source": [
    "def add(a,b,*c):\n",
    "    \n",
    "    print(a+b+sum(c))\n"
   ]
  },
  {
   "cell_type": "code",
   "execution_count": 92,
   "id": "24a84a9a-000b-41a8-b919-278859ba015b",
   "metadata": {},
   "outputs": [
    {
     "name": "stdout",
     "output_type": "stream",
     "text": [
      "65\n"
     ]
    }
   ],
   "source": [
    "add(2,3,4,5,6,7,8,6,7,8,9)"
   ]
  },
  {
   "cell_type": "code",
   "execution_count": 89,
   "id": "eb6e056c-6d3c-4566-9363-672fb30f2064",
   "metadata": {},
   "outputs": [
    {
     "data": {
      "text/plain": [
       "21"
      ]
     },
     "execution_count": 89,
     "metadata": {},
     "output_type": "execute_result"
    }
   ],
   "source": [
    "1 + 3 +sum((3,5,9))"
   ]
  },
  {
   "cell_type": "raw",
   "id": "f628de89-d408-4f78-b98f-52684e6ded7b",
   "metadata": {},
   "source": [
    "8-12. Sandwiches: Write a function that accepts a list of items a person wants\n",
    "on a sandwich. The function should have one parameter that collects as many\n",
    "items as the function call provides, and it should print a summary of the sandwich\n",
    "that is being ordered. Call the function three times, using a different number\n",
    "of arguments each time."
   ]
  },
  {
   "cell_type": "code",
   "execution_count": 97,
   "id": "358e64c9-5995-47f1-83a3-71d7567efbd8",
   "metadata": {},
   "outputs": [],
   "source": [
    "def sandwitch(*items):\n",
    "    print(\"The sandwithc you ordered is being preapred with toppings:\")\n",
    "    for i,item in enumerate(items):\n",
    "        print(f\"{i}- {item}\")\n",
    "        "
   ]
  },
  {
   "cell_type": "code",
   "execution_count": 98,
   "id": "1d733139-9550-43f1-9923-f75b402f22d1",
   "metadata": {},
   "outputs": [
    {
     "name": "stdout",
     "output_type": "stream",
     "text": [
      "The sandwithc you ordered is being preapred with toppings:\n",
      "0- olives\n",
      "1- mushrooms\n",
      "2- mayonnese\n",
      "3- cheese\n",
      "4- egg\n",
      "5- capsicum\n"
     ]
    }
   ],
   "source": [
    "sandwitch('olives','mushrooms', 'mayonnese', 'cheese', \"egg\", 'capsicum')"
   ]
  },
  {
   "cell_type": "code",
   "execution_count": 96,
   "id": "0ce05cb4-36ed-4f72-af93-a32fe9eb5247",
   "metadata": {},
   "outputs": [
    {
     "name": "stdout",
     "output_type": "stream",
     "text": [
      "0 olives\n",
      "1 mushrooms\n",
      "2 mayonnese\n",
      "3 cheese\n",
      "4 egg\n",
      "5 capsicum\n"
     ]
    }
   ],
   "source": [
    "for i,a in enumerate(('olives','mushrooms', 'mayonnese', 'cheese', \"egg\", 'capsicum')):\n",
    "    print(i,a)"
   ]
  },
  {
   "cell_type": "code",
   "execution_count": 106,
   "id": "7003ea33-835b-4973-8753-d25dc21457c9",
   "metadata": {},
   "outputs": [],
   "source": [
    "# write a function that accepts a list of numbers and find the \n",
    "# min, max, sum, mean, median, mode, std, variance, \n",
    "\n",
    "ages= [15,16,17,17,18,22,25,23,25,60, 45, 55,24,20,20,24,25,56,17,22,24]"
   ]
  },
  {
   "cell_type": "code",
   "execution_count": 107,
   "id": "e478ac43-a128-40dd-b11c-78b147455e53",
   "metadata": {},
   "outputs": [
    {
     "data": {
      "text/plain": [
       "15"
      ]
     },
     "execution_count": 107,
     "metadata": {},
     "output_type": "execute_result"
    }
   ],
   "source": [
    "min(ages)"
   ]
  },
  {
   "cell_type": "code",
   "execution_count": 108,
   "id": "179d1171-06a7-41b3-898b-fade0d949586",
   "metadata": {},
   "outputs": [
    {
     "data": {
      "text/plain": [
       "60"
      ]
     },
     "execution_count": 108,
     "metadata": {},
     "output_type": "execute_result"
    }
   ],
   "source": [
    "max(ages)"
   ]
  },
  {
   "cell_type": "code",
   "execution_count": 109,
   "id": "cbc9b5ea-a756-4660-86c5-0b21c494ebdf",
   "metadata": {},
   "outputs": [
    {
     "data": {
      "text/plain": [
       "27.142857142857142"
      ]
     },
     "execution_count": 109,
     "metadata": {},
     "output_type": "execute_result"
    }
   ],
   "source": [
    "t=0\n",
    "for age in ages:\n",
    "    t+=age\n",
    "t/len(ages)\n",
    "    "
   ]
  },
  {
   "cell_type": "code",
   "execution_count": 110,
   "id": "06537a86-1540-4782-a260-b627473eef8a",
   "metadata": {},
   "outputs": [
    {
     "data": {
      "text/plain": [
       "[15,\n",
       " 16,\n",
       " 17,\n",
       " 17,\n",
       " 17,\n",
       " 18,\n",
       " 20,\n",
       " 20,\n",
       " 22,\n",
       " 22,\n",
       " 23,\n",
       " 24,\n",
       " 24,\n",
       " 24,\n",
       " 25,\n",
       " 25,\n",
       " 25,\n",
       " 45,\n",
       " 55,\n",
       " 56,\n",
       " 60]"
      ]
     },
     "execution_count": 110,
     "metadata": {},
     "output_type": "execute_result"
    }
   ],
   "source": [
    "ages.sort()\n",
    "ages"
   ]
  },
  {
   "cell_type": "code",
   "execution_count": 111,
   "id": "f630989a-7b2f-400b-82b8-9f2b44ed6e67",
   "metadata": {},
   "outputs": [
    {
     "data": {
      "text/plain": [
       "21"
      ]
     },
     "execution_count": 111,
     "metadata": {},
     "output_type": "execute_result"
    }
   ],
   "source": [
    "len(ages)"
   ]
  },
  {
   "cell_type": "code",
   "execution_count": 112,
   "id": "51a0fbdb-e0fe-4c70-9613-f1f90a63fc93",
   "metadata": {},
   "outputs": [
    {
     "data": {
      "text/plain": [
       "11.0"
      ]
     },
     "execution_count": 112,
     "metadata": {},
     "output_type": "execute_result"
    }
   ],
   "source": [
    "(21+1)/2"
   ]
  },
  {
   "cell_type": "code",
   "execution_count": 114,
   "id": "9e03fca0-1399-4394-9e32-1c2689e86b71",
   "metadata": {},
   "outputs": [
    {
     "data": {
      "text/plain": [
       "24"
      ]
     },
     "execution_count": 114,
     "metadata": {},
     "output_type": "execute_result"
    }
   ],
   "source": [
    "ages[(len(ages)+1)//2]"
   ]
  },
  {
   "cell_type": "markdown",
   "id": "44399a8c-fef6-4bfa-8d27-6f3354aea716",
   "metadata": {},
   "source": [
    "# Return "
   ]
  },
  {
   "cell_type": "code",
   "execution_count": 121,
   "id": "cacb5014-935a-4099-98b3-401b789a4bcb",
   "metadata": {},
   "outputs": [],
   "source": [
    "def add(a,b):\n",
    "    c=a+b\n",
    "    return c"
   ]
  },
  {
   "cell_type": "code",
   "execution_count": 122,
   "id": "64b9c267-5b47-4877-8334-aefaaa12c930",
   "metadata": {},
   "outputs": [
    {
     "name": "stdout",
     "output_type": "stream",
     "text": [
      "7\n"
     ]
    }
   ],
   "source": [
    "print(add(2,5))"
   ]
  },
  {
   "cell_type": "code",
   "execution_count": 127,
   "id": "0cdb3f29-8cec-4ea5-a8ad-56ee34a83f2b",
   "metadata": {},
   "outputs": [],
   "source": [
    "res = add(2,45)"
   ]
  },
  {
   "cell_type": "code",
   "execution_count": 128,
   "id": "7acd526d-e942-40d2-a617-9fd923859b0f",
   "metadata": {},
   "outputs": [
    {
     "data": {
      "text/plain": [
       "47"
      ]
     },
     "execution_count": 128,
     "metadata": {},
     "output_type": "execute_result"
    }
   ],
   "source": [
    "res"
   ]
  },
  {
   "cell_type": "code",
   "execution_count": null,
   "id": "727f5271-563f-4e47-b78e-2efcc515e4fe",
   "metadata": {},
   "outputs": [],
   "source": []
  }
 ],
 "metadata": {
  "kernelspec": {
   "display_name": "Python 3 (ipykernel)",
   "language": "python",
   "name": "python3"
  },
  "language_info": {
   "codemirror_mode": {
    "name": "ipython",
    "version": 3
   },
   "file_extension": ".py",
   "mimetype": "text/x-python",
   "name": "python",
   "nbconvert_exporter": "python",
   "pygments_lexer": "ipython3",
   "version": "3.12.3"
  }
 },
 "nbformat": 4,
 "nbformat_minor": 5
}
