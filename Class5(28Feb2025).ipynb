{
 "cells": [
  {
   "cell_type": "code",
   "execution_count": 6,
   "id": "08f4f8c1-923d-4143-aa1b-148adbf24017",
   "metadata": {},
   "outputs": [
    {
     "name": "stdin",
     "output_type": "stream",
     "text": [
      "Enter marks in python:  23\n",
      "Enter marks in ml:  23\n",
      "Enter marks in dl:  23\n",
      "Enter marks in gan:  23\n",
      "Enter marks in da:  23\n"
     ]
    },
    {
     "name": "stdout",
     "output_type": "stream",
     "text": [
      "\n",
      "\n",
      "        Marks : 115\n",
      "        Perct : 23.0\n",
      "        Grade :F\n",
      "        Result :Fail in Python\n",
      "        \n"
     ]
    }
   ],
   "source": [
    "python = int(input(\"Enter marks in python: \"))\n",
    "ml = int(input(\"Enter marks in ml: \"))\n",
    "dl = int(input(\"Enter marks in dl: \"))\n",
    "gan = int(input(\"Enter marks in gan: \"))\n",
    "da = int(input(\"Enter marks in da: \"))\n",
    "\n",
    "if python>=50:\n",
    "    if ml>=50:\n",
    "        if dl>=50:\n",
    "            if gan>=50:\n",
    "                if da>=50:\n",
    "                    result='Pass'\n",
    "                else:\n",
    "                    result=\"Fail in Data Analysis\"\n",
    "            else:\n",
    "                result=\"Fail Gan\"\n",
    "        else:\n",
    "            result=\"Fail in Deep Learning\"\n",
    "    else:\n",
    "        result=\"Fail in Machine Learning\"\n",
    "else:\n",
    "    result=\"Fail in Python\"\n",
    "\n",
    "    \n",
    "\n",
    "obt = python + ml + dl+ gan + da\n",
    "total =500\n",
    "percentage = round(obt / total * 100, 2)\n",
    "grade = None\n",
    "\n",
    "if percentage>=90:\n",
    "    grade=\"A*\"\n",
    "elif percentage>=80:\n",
    "    grade=\"A\"\n",
    "elif percentage>=70:\n",
    "    grade=\"B\"\n",
    "elif percentage>=60:\n",
    "    grade=\"C\"\n",
    "elif percentage>=50:\n",
    "    grade=\"D\"\n",
    "else:\n",
    "    grade = \"F\"\n",
    "        \n",
    "\n",
    "print(f\"\"\"\n",
    "\n",
    "        Marks : {obt}\n",
    "        Perct : {percentage}\n",
    "        Grade :{grade}\n",
    "        Result :{result}\n",
    "        \"\"\"\n",
    "     )"
   ]
  },
  {
   "cell_type": "markdown",
   "id": "1485a509-708c-4ab5-94eb-3d7ae4ce0097",
   "metadata": {},
   "source": [
    "# Python Collections / Data Structures  (iterables)\n",
    "    - String : groups of characters\n",
    "    - List\n",
    "    - Tuple\n",
    "    - Dictionary\n",
    "    - Set"
   ]
  },
  {
   "cell_type": "code",
   "execution_count": 7,
   "id": "7731733f-105c-4784-9713-1c12c33d023f",
   "metadata": {},
   "outputs": [],
   "source": [
    "name = \"Furqan\"\n",
    "    #   012345"
   ]
  },
  {
   "cell_type": "code",
   "execution_count": 8,
   "id": "564fb5f1-f7dc-49df-893d-a3c71bd75cb4",
   "metadata": {},
   "outputs": [
    {
     "data": {
      "text/plain": [
       "'a'"
      ]
     },
     "execution_count": 8,
     "metadata": {},
     "output_type": "execute_result"
    }
   ],
   "source": [
    "name[4]"
   ]
  },
  {
   "cell_type": "code",
   "execution_count": 9,
   "id": "b8a95ff2-35b7-4772-97b0-683bc366b827",
   "metadata": {},
   "outputs": [
    {
     "data": {
      "text/plain": [
       "'r'"
      ]
     },
     "execution_count": 9,
     "metadata": {},
     "output_type": "execute_result"
    }
   ],
   "source": [
    "name[2]"
   ]
  },
  {
   "cell_type": "markdown",
   "id": "f7137689-bd9e-41f0-9779-ab3df9ee10e9",
   "metadata": {},
   "source": [
    "# List \n",
    "     - collection ( can hold many values )\n",
    "     - mutable\n",
    "     - []\n"
   ]
  },
  {
   "cell_type": "markdown",
   "id": "0a7f1230-7c91-4a8c-baba-1ab811333494",
   "metadata": {},
   "source": [
    "#### Declaration of list"
   ]
  },
  {
   "cell_type": "code",
   "execution_count": 11,
   "id": "788884ec-070a-4937-91c0-d5c19d0b16fe",
   "metadata": {},
   "outputs": [],
   "source": [
    "# index -ve   -6               -5          -4       -3       -2       -1\n",
    "students =['Abdul Basit', 'Jawed Iqbal', 'Salman', 'Ahsan', 'Umer','Hassan']\n",
    "# index +ve    0                1           2         3        4      5     "
   ]
  },
  {
   "cell_type": "code",
   "execution_count": 13,
   "id": "cb43c455-89ed-4616-a354-03bb8f4a04e7",
   "metadata": {},
   "outputs": [
    {
     "name": "stdout",
     "output_type": "stream",
     "text": [
      "<class 'list'>\n"
     ]
    }
   ],
   "source": [
    "print(type(students))"
   ]
  },
  {
   "cell_type": "markdown",
   "id": "10dd02d2-b02a-4159-be8f-9fcffb3cf8c6",
   "metadata": {},
   "source": [
    "# Indexing\n",
    "#### Acessing list memebers via indices"
   ]
  },
  {
   "cell_type": "code",
   "execution_count": 12,
   "id": "f7bb2ebd-6326-428b-b9ae-df23754520d2",
   "metadata": {},
   "outputs": [
    {
     "data": {
      "text/plain": [
       "'Salman'"
      ]
     },
     "execution_count": 12,
     "metadata": {},
     "output_type": "execute_result"
    }
   ],
   "source": [
    "students[2]"
   ]
  },
  {
   "cell_type": "code",
   "execution_count": 14,
   "id": "6d7591b3-16ab-4e22-821a-ae0a0e5da9f8",
   "metadata": {},
   "outputs": [
    {
     "data": {
      "text/plain": [
       "'Salman'"
      ]
     },
     "execution_count": 14,
     "metadata": {},
     "output_type": "execute_result"
    }
   ],
   "source": [
    "students[-4]"
   ]
  },
  {
   "cell_type": "code",
   "execution_count": 15,
   "id": "a7af9c4b-2257-4507-8673-c5a2e3a03af3",
   "metadata": {},
   "outputs": [
    {
     "data": {
      "text/plain": [
       "'Abdul Basit'"
      ]
     },
     "execution_count": 15,
     "metadata": {},
     "output_type": "execute_result"
    }
   ],
   "source": [
    "students[0]"
   ]
  },
  {
   "cell_type": "markdown",
   "id": "f87debed-2ae1-46db-948b-a7a3fd919f90",
   "metadata": {},
   "source": [
    "# Slicing\n",
    " - Copy of sub list\n",
    " - listname[starting_index : ending_index]"
   ]
  },
  {
   "cell_type": "code",
   "execution_count": 17,
   "id": "0691f86f-dd79-4485-9922-0f76947b357f",
   "metadata": {},
   "outputs": [],
   "source": [
    "students =['Abdul Basit', 'Jawed Iqbal', 'Salman', 'Ahsan', 'Umer','Hassan', 'Nasir', 'Noor', \"Ali\"]"
   ]
  },
  {
   "cell_type": "code",
   "execution_count": 19,
   "id": "2323266c-6ce7-4317-baf9-7945eae25d14",
   "metadata": {},
   "outputs": [],
   "source": [
    "sliced = students[1:4] "
   ]
  },
  {
   "cell_type": "code",
   "execution_count": 23,
   "id": "b1d2bee8-8e3e-4ed2-93e6-6fbb5bc7e329",
   "metadata": {},
   "outputs": [
    {
     "data": {
      "text/plain": [
       "['Abdul Basit', 'Jawed Iqbal', 'Salman', 'Ahsan', 'Umer', 'Hassan']"
      ]
     },
     "execution_count": 23,
     "metadata": {},
     "output_type": "execute_result"
    }
   ],
   "source": [
    "students[:6]"
   ]
  },
  {
   "cell_type": "code",
   "execution_count": 24,
   "id": "46a6e8f9-83a2-4d0b-9a83-38a150798e41",
   "metadata": {},
   "outputs": [
    {
     "data": {
      "text/plain": [
       "['Umer', 'Hassan', 'Nasir', 'Noor', 'Ali']"
      ]
     },
     "execution_count": 24,
     "metadata": {},
     "output_type": "execute_result"
    }
   ],
   "source": [
    "students[4:]"
   ]
  },
  {
   "cell_type": "code",
   "execution_count": 25,
   "id": "a766e951-1bfc-4825-af21-05b847a73506",
   "metadata": {},
   "outputs": [
    {
     "data": {
      "text/plain": [
       "['Abdul Basit',\n",
       " 'Jawed Iqbal',\n",
       " 'Salman',\n",
       " 'Ahsan',\n",
       " 'Umer',\n",
       " 'Hassan',\n",
       " 'Nasir',\n",
       " 'Noor',\n",
       " 'Ali']"
      ]
     },
     "execution_count": 25,
     "metadata": {},
     "output_type": "execute_result"
    }
   ],
   "source": [
    "students[:]"
   ]
  },
  {
   "cell_type": "raw",
   "id": "c1f3a0e3-4107-4e4a-b078-8c16809b0b59",
   "metadata": {},
   "source": [
    "listname[starting_index : ending_index : step]"
   ]
  },
  {
   "cell_type": "code",
   "execution_count": 26,
   "id": "9f4b59c5-77d8-4e3f-a45e-00f7ba18b937",
   "metadata": {},
   "outputs": [
    {
     "data": {
      "text/plain": [
       "['Abdul Basit', 'Salman', 'Umer', 'Nasir', 'Ali']"
      ]
     },
     "execution_count": 26,
     "metadata": {},
     "output_type": "execute_result"
    }
   ],
   "source": [
    "students[::2]"
   ]
  },
  {
   "cell_type": "code",
   "execution_count": 27,
   "id": "e1618e47-0619-4872-8aa1-75bef516cfb6",
   "metadata": {},
   "outputs": [],
   "source": [
    "#            -9                 -8           -7       -6       -5      -4        -3     -2       -1\n",
    "students =['Abdul Basit', 'Jawed Iqbal', 'Salman', 'Ahsan', 'Umer','Hassan', 'Nasir', 'Noor', \"Ali\"]\n",
    "#             0                 1           2         3        4         5        6     7       8"
   ]
  },
  {
   "cell_type": "code",
   "execution_count": null,
   "id": "ceeda62a-09c6-41b4-ac61-745195a95643",
   "metadata": {},
   "outputs": [],
   "source": [
    "students[1:-5]"
   ]
  }
 ],
 "metadata": {
  "kernelspec": {
   "display_name": "Python 3 (ipykernel)",
   "language": "python",
   "name": "python3"
  },
  "language_info": {
   "codemirror_mode": {
    "name": "ipython",
    "version": 3
   },
   "file_extension": ".py",
   "mimetype": "text/x-python",
   "name": "python",
   "nbconvert_exporter": "python",
   "pygments_lexer": "ipython3",
   "version": "3.12.7"
  }
 },
 "nbformat": 4,
 "nbformat_minor": 5
}
