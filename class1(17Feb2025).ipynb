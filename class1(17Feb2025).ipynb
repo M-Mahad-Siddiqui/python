{
 "cells": [
  {
   "cell_type": "markdown",
   "id": "7b285081-fd3b-4ac5-a1a7-30788176ba01",
   "metadata": {},
   "source": [
    "# Python Programmaing Fundamentals"
   ]
  },
  {
   "cell_type": "code",
   "execution_count": 1,
   "id": "1545a497-982c-4b07-8948-9e273ae802ad",
   "metadata": {},
   "outputs": [
    {
     "name": "stdout",
     "output_type": "stream",
     "text": [
      "Hello Python\n"
     ]
    }
   ],
   "source": [
    "print(\"Hello Python\")"
   ]
  },
  {
   "cell_type": "code",
   "execution_count": null,
   "id": "bb69275a-a822-422f-bc5f-91e6aa6bb9e1",
   "metadata": {},
   "outputs": [],
   "source": [
    "print(\"Hello Python\")\n",
    "Print(\"Hello Python\")\n",
    "PRINT(\"Hello Python\")\n",
    "print(hello python)\n",
    "print(113)"
   ]
  },
  {
   "cell_type": "raw",
   "id": "664f008c-a749-450e-97c0-271bcc44f359",
   "metadata": {},
   "source": [
    "Values: Data\n",
    "Data : Text : \"I am text data\"   :   String :str\n",
    "       Numbers: \n",
    "            - Whole   : integers   int  1,2,3,4,5,\n",
    "            - Decimals : floats    flaot 2.3,5.6\n",
    "       Boolean: True False"
   ]
  },
  {
   "cell_type": "markdown",
   "id": "209c5ae5-134f-404d-8036-a79aa3e96ff3",
   "metadata": {},
   "source": []
  },
  {
   "cell_type": "code",
   "execution_count": null,
   "id": "c3ba35ab-51ff-4922-8309-5f37ab421d40",
   "metadata": {},
   "outputs": [],
   "source": []
  }
 ],
 "metadata": {
  "kernelspec": {
   "display_name": "Python 3 (ipykernel)",
   "language": "python",
   "name": "python3"
  },
  "language_info": {
   "codemirror_mode": {
    "name": "ipython",
    "version": 3
   },
   "file_extension": ".py",
   "mimetype": "text/x-python",
   "name": "python",
   "nbconvert_exporter": "python",
   "pygments_lexer": "ipython3",
   "version": "3.12.7"
  }
 },
 "nbformat": 4,
 "nbformat_minor": 5
}
