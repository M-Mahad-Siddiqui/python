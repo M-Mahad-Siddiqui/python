{
 "cells": [
  {
   "cell_type": "code",
   "execution_count": 1,
   "id": "e60de9e7-d18b-450c-b551-a78a84b500d7",
   "metadata": {},
   "outputs": [],
   "source": [
    "import pandas as pd"
   ]
  },
  {
   "cell_type": "code",
   "execution_count": 3,
   "id": "510059d4-2b4d-4f64-82d8-27630d3e13a2",
   "metadata": {},
   "outputs": [],
   "source": [
    "data = pd.read_excel(\"employee.xlsx\")"
   ]
  },
  {
   "cell_type": "code",
   "execution_count": 30,
   "id": "35e8ddf2-fc63-4c54-adb0-cd2780b82fef",
   "metadata": {},
   "outputs": [],
   "source": [
    "data.Emp_ID = data.Emp_ID.astype('str')"
   ]
  },
  {
   "cell_type": "markdown",
   "id": "1945e4dc-3857-41e9-91a5-99e9f305af7e",
   "metadata": {},
   "source": [
    "# Exploratory Data Analysis (EDA)"
   ]
  },
  {
   "cell_type": "code",
   "execution_count": 4,
   "id": "296cd9e6-ade3-4106-ae0d-345b224d97dd",
   "metadata": {},
   "outputs": [
    {
     "data": {
      "text/plain": [
       "(18, 6)"
      ]
     },
     "execution_count": 4,
     "metadata": {},
     "output_type": "execute_result"
    }
   ],
   "source": [
    "data.shape"
   ]
  },
  {
   "cell_type": "code",
   "execution_count": 38,
   "id": "dc41b8b5-939d-45de-80fe-a933575a88c9",
   "metadata": {},
   "outputs": [],
   "source": [
    "data.head(3)\n",
    "data.loc[2,'Age'] = 90"
   ]
  },
  {
   "cell_type": "code",
   "execution_count": 40,
   "id": "7e4bc315-cf4b-4322-af87-82e5e684f5e6",
   "metadata": {},
   "outputs": [
    {
     "data": {
      "text/html": [
       "<div>\n",
       "<style scoped>\n",
       "    .dataframe tbody tr th:only-of-type {\n",
       "        vertical-align: middle;\n",
       "    }\n",
       "\n",
       "    .dataframe tbody tr th {\n",
       "        vertical-align: top;\n",
       "    }\n",
       "\n",
       "    .dataframe thead th {\n",
       "        text-align: right;\n",
       "    }\n",
       "</style>\n",
       "<table border=\"1\" class=\"dataframe\">\n",
       "  <thead>\n",
       "    <tr style=\"text-align: right;\">\n",
       "      <th></th>\n",
       "      <th>Serial</th>\n",
       "      <th>Emp_ID</th>\n",
       "      <th>Designation</th>\n",
       "      <th>Department</th>\n",
       "      <th>Age</th>\n",
       "      <th>Salary</th>\n",
       "    </tr>\n",
       "  </thead>\n",
       "  <tbody>\n",
       "    <tr>\n",
       "      <th>0</th>\n",
       "      <td>1</td>\n",
       "      <td>1101</td>\n",
       "      <td>Manager</td>\n",
       "      <td>Accounts</td>\n",
       "      <td>50.0</td>\n",
       "      <td>200000.0</td>\n",
       "    </tr>\n",
       "    <tr>\n",
       "      <th>1</th>\n",
       "      <td>2</td>\n",
       "      <td>1107</td>\n",
       "      <td>Officer</td>\n",
       "      <td>IT</td>\n",
       "      <td>30.0</td>\n",
       "      <td>80000.0</td>\n",
       "    </tr>\n",
       "    <tr>\n",
       "      <th>2</th>\n",
       "      <td>3</td>\n",
       "      <td>1203</td>\n",
       "      <td>Officer</td>\n",
       "      <td>HR</td>\n",
       "      <td>90.0</td>\n",
       "      <td>NaN</td>\n",
       "    </tr>\n",
       "    <tr>\n",
       "      <th>3</th>\n",
       "      <td>4</td>\n",
       "      <td>1005</td>\n",
       "      <td>Manager</td>\n",
       "      <td>HR</td>\n",
       "      <td>45.0</td>\n",
       "      <td>120000.0</td>\n",
       "    </tr>\n",
       "    <tr>\n",
       "      <th>4</th>\n",
       "      <td>5</td>\n",
       "      <td>2123</td>\n",
       "      <td>Office Boy</td>\n",
       "      <td>Accounts</td>\n",
       "      <td>27.0</td>\n",
       "      <td>45000.0</td>\n",
       "    </tr>\n",
       "  </tbody>\n",
       "</table>\n",
       "</div>"
      ],
      "text/plain": [
       "   Serial Emp_ID Designation Department   Age    Salary\n",
       "0       1   1101     Manager   Accounts  50.0  200000.0\n",
       "1       2   1107     Officer         IT  30.0   80000.0\n",
       "2       3   1203     Officer         HR  90.0       NaN\n",
       "3       4   1005     Manager         HR  45.0  120000.0\n",
       "4       5   2123  Office Boy   Accounts  27.0   45000.0"
      ]
     },
     "execution_count": 40,
     "metadata": {},
     "output_type": "execute_result"
    }
   ],
   "source": [
    "data.head()"
   ]
  },
  {
   "cell_type": "code",
   "execution_count": 9,
   "id": "114f87c2-09db-43e1-9269-ce6cac194fc1",
   "metadata": {},
   "outputs": [
    {
     "data": {
      "text/html": [
       "<div>\n",
       "<style scoped>\n",
       "    .dataframe tbody tr th:only-of-type {\n",
       "        vertical-align: middle;\n",
       "    }\n",
       "\n",
       "    .dataframe tbody tr th {\n",
       "        vertical-align: top;\n",
       "    }\n",
       "\n",
       "    .dataframe thead th {\n",
       "        text-align: right;\n",
       "    }\n",
       "</style>\n",
       "<table border=\"1\" class=\"dataframe\">\n",
       "  <thead>\n",
       "    <tr style=\"text-align: right;\">\n",
       "      <th></th>\n",
       "      <th>Serial</th>\n",
       "      <th>Emp_ID</th>\n",
       "      <th>Designation</th>\n",
       "      <th>Department</th>\n",
       "      <th>Age</th>\n",
       "      <th>Salary</th>\n",
       "    </tr>\n",
       "  </thead>\n",
       "  <tbody>\n",
       "    <tr>\n",
       "      <th>2</th>\n",
       "      <td>3</td>\n",
       "      <td>1203</td>\n",
       "      <td>Officer</td>\n",
       "      <td>HR</td>\n",
       "      <td>28.0</td>\n",
       "      <td>NaN</td>\n",
       "    </tr>\n",
       "    <tr>\n",
       "      <th>16</th>\n",
       "      <td>17</td>\n",
       "      <td>2156</td>\n",
       "      <td>Engineer</td>\n",
       "      <td>Production</td>\n",
       "      <td>45.0</td>\n",
       "      <td>89000.0</td>\n",
       "    </tr>\n",
       "    <tr>\n",
       "      <th>14</th>\n",
       "      <td>15</td>\n",
       "      <td>2912</td>\n",
       "      <td>Officer</td>\n",
       "      <td>IT</td>\n",
       "      <td>31.0</td>\n",
       "      <td>90000.0</td>\n",
       "    </tr>\n",
       "    <tr>\n",
       "      <th>6</th>\n",
       "      <td>7</td>\n",
       "      <td>1111</td>\n",
       "      <td>Accountant</td>\n",
       "      <td>Accounts</td>\n",
       "      <td>NaN</td>\n",
       "      <td>110000.0</td>\n",
       "    </tr>\n",
       "    <tr>\n",
       "      <th>1</th>\n",
       "      <td>2</td>\n",
       "      <td>1107</td>\n",
       "      <td>Officer</td>\n",
       "      <td>IT</td>\n",
       "      <td>30.0</td>\n",
       "      <td>80000.0</td>\n",
       "    </tr>\n",
       "  </tbody>\n",
       "</table>\n",
       "</div>"
      ],
      "text/plain": [
       "    Serial  Emp_ID Designation  Department   Age    Salary\n",
       "2        3    1203     Officer          HR  28.0       NaN\n",
       "16      17    2156    Engineer  Production  45.0   89000.0\n",
       "14      15    2912     Officer          IT  31.0   90000.0\n",
       "6        7    1111  Accountant    Accounts   NaN  110000.0\n",
       "1        2    1107     Officer          IT  30.0   80000.0"
      ]
     },
     "execution_count": 9,
     "metadata": {},
     "output_type": "execute_result"
    }
   ],
   "source": [
    "data.sample(5)"
   ]
  },
  {
   "cell_type": "markdown",
   "id": "662b6840-012a-475b-b67a-19629ac5544b",
   "metadata": {},
   "source": [
    "# Univariate Analysis\n",
    "    - Data Convergence : min, max, mean , mode \n",
    "    - Data Dispersion :  var, std"
   ]
  },
  {
   "cell_type": "code",
   "execution_count": 13,
   "id": "2a99fd59-a954-4221-9850-f0972bb85def",
   "metadata": {},
   "outputs": [
    {
     "data": {
      "text/plain": [
       "array(['Manager', 'Officer', 'Office Boy', 'Accountant', 'Engineer'],\n",
       "      dtype=object)"
      ]
     },
     "execution_count": 13,
     "metadata": {},
     "output_type": "execute_result"
    }
   ],
   "source": [
    "data.Designation.unique()"
   ]
  },
  {
   "cell_type": "code",
   "execution_count": 14,
   "id": "354a6824-d11d-4c49-ae4a-18c4d271f2c8",
   "metadata": {},
   "outputs": [
    {
     "data": {
      "text/plain": [
       "array(['Accounts', 'IT', 'HR', nan, 'Production', 'Account'], dtype=object)"
      ]
     },
     "execution_count": 14,
     "metadata": {},
     "output_type": "execute_result"
    }
   ],
   "source": [
    "data.Department.unique()"
   ]
  },
  {
   "cell_type": "code",
   "execution_count": 15,
   "id": "33d5618a-2a35-4989-8c40-e60eb4b3cfa1",
   "metadata": {},
   "outputs": [
    {
     "data": {
      "text/plain": [
       "Designation\n",
       "Officer       7\n",
       "Manager       3\n",
       "Accountant    3\n",
       "Engineer      3\n",
       "Office Boy    2\n",
       "Name: count, dtype: int64"
      ]
     },
     "execution_count": 15,
     "metadata": {},
     "output_type": "execute_result"
    }
   ],
   "source": [
    "data.Designation.value_counts()"
   ]
  },
  {
   "cell_type": "code",
   "execution_count": null,
   "id": "168a90f0-886f-4647-8d87-e03791b83ed0",
   "metadata": {},
   "outputs": [],
   "source": [
    "Data: Numerical\n",
    "        - dicrete \n",
    "        - continuous\n",
    "    : Non Numeric\n",
    "         - Ordinal \n",
    "         - Nominal"
   ]
  },
  {
   "cell_type": "code",
   "execution_count": 18,
   "id": "ff3ead13-f1fd-4870-90d9-5de91dcf578b",
   "metadata": {},
   "outputs": [
    {
     "data": {
      "text/plain": [
       "50.0"
      ]
     },
     "execution_count": 18,
     "metadata": {},
     "output_type": "execute_result"
    }
   ],
   "source": [
    "data.Age.max()"
   ]
  },
  {
   "cell_type": "code",
   "execution_count": 19,
   "id": "123aa1ef-8963-49b8-ae4f-8e01588cce6d",
   "metadata": {},
   "outputs": [
    {
     "data": {
      "text/plain": [
       "23.0"
      ]
     },
     "execution_count": 19,
     "metadata": {},
     "output_type": "execute_result"
    }
   ],
   "source": [
    "data.Age.min()"
   ]
  },
  {
   "cell_type": "code",
   "execution_count": 20,
   "id": "9cfd1b29-80a5-485d-868a-741b89c9d421",
   "metadata": {},
   "outputs": [
    {
     "data": {
      "text/plain": [
       "34.294117647058826"
      ]
     },
     "execution_count": 20,
     "metadata": {},
     "output_type": "execute_result"
    }
   ],
   "source": [
    "data.Age.mean()"
   ]
  },
  {
   "cell_type": "code",
   "execution_count": 21,
   "id": "a4be2af6-5e95-4917-8488-b216ae7f91ac",
   "metadata": {},
   "outputs": [
    {
     "data": {
      "text/plain": [
       "94.4705882352941"
      ]
     },
     "execution_count": 21,
     "metadata": {},
     "output_type": "execute_result"
    }
   ],
   "source": [
    "data.Age.var()"
   ]
  },
  {
   "cell_type": "code",
   "execution_count": 22,
   "id": "22927eda-97a4-4eaa-8652-c32fb14301c9",
   "metadata": {},
   "outputs": [
    {
     "data": {
      "text/plain": [
       "9.719598151945075"
      ]
     },
     "execution_count": 22,
     "metadata": {},
     "output_type": "execute_result"
    }
   ],
   "source": [
    "data.Age.std()"
   ]
  },
  {
   "cell_type": "code",
   "execution_count": 33,
   "id": "4e753b5c-6513-489b-8147-e34812ee95e1",
   "metadata": {},
   "outputs": [
    {
     "data": {
      "text/plain": [
       "<matplotlib.collections.PathCollection at 0x26c4862e570>"
      ]
     },
     "execution_count": 33,
     "metadata": {},
     "output_type": "execute_result"
    },
    {
     "data": {
      "image/png": "[encoded data removed]",
      "text/plain": [
       "<Figure size 1200x600 with 1 Axes>"
      ]
     },
     "metadata": {},
     "output_type": "display_data"
    }
   ],
   "source": [
    "import matplotlib.pyplot as plt\n",
    "plt.figure(figsize=(12,6))\n",
    "plt.scatter(data.Emp_ID, data.Age)"
   ]
  },
  {
   "cell_type": "code",
   "execution_count": 34,
   "id": "b815cbbc-77af-4bed-b854-6364b50a9d83",
   "metadata": {},
   "outputs": [],
   "source": [
    "import seaborn as sns"
   ]
  },
  {
   "cell_type": "code",
   "execution_count": 45,
   "id": "a05fce18-794d-424c-ab35-fdbd15ddc773",
   "metadata": {},
   "outputs": [
    {
     "data": {
      "text/plain": [
       "<Axes: ylabel='Age'>"
      ]
     },
     "execution_count": 45,
     "metadata": {},
     "output_type": "execute_result"
    },
    {
     "data": {
      "image/png": "[encoded data removed]",
      "text/plain": [
       "<Figure size 640x480 with 1 Axes>"
      ]
     },
     "metadata": {},
     "output_type": "display_data"
    }
   ],
   "source": [
    "sns.boxplot(data.Age)"
   ]
  },
  {
   "cell_type": "code",
   "execution_count": 48,
   "id": "38388a94-eaba-45fe-b18e-73347936faf0",
   "metadata": {},
   "outputs": [
    {
     "data": {
      "text/plain": [
       "39.333333333333336"
      ]
     },
     "execution_count": 48,
     "metadata": {},
     "output_type": "execute_result"
    }
   ],
   "source": [
    "data[data.Designation=='Manager']['Age'].mean()"
   ]
  },
  {
   "cell_type": "code",
   "execution_count": 49,
   "id": "8fab863b-4f01-4320-89a0-992392fcc9d1",
   "metadata": {},
   "outputs": [
    {
     "data": {
      "text/plain": [
       "36.42857142857143"
      ]
     },
     "execution_count": 49,
     "metadata": {},
     "output_type": "execute_result"
    }
   ],
   "source": [
    "data[data.Designation=='Officer']['Age'].mean()"
   ]
  },
  {
   "cell_type": "code",
   "execution_count": 50,
   "id": "0472cb70-f284-40ec-9981-2276c1b50104",
   "metadata": {},
   "outputs": [
    {
     "data": {
      "text/plain": [
       "27.0"
      ]
     },
     "execution_count": 50,
     "metadata": {},
     "output_type": "execute_result"
    }
   ],
   "source": [
    "data[data.Designation=='Office Boy']['Age'].mean()"
   ]
  },
  {
   "cell_type": "code",
   "execution_count": 51,
   "id": "5e1f64b9-9812-4029-84d7-3aac7cb68b91",
   "metadata": {},
   "outputs": [
    {
     "data": {
      "text/plain": [
       "41.5"
      ]
     },
     "execution_count": 51,
     "metadata": {},
     "output_type": "execute_result"
    }
   ],
   "source": [
    "data[data.Designation=='Accountant']['Age'].mean()"
   ]
  },
  {
   "cell_type": "code",
   "execution_count": 52,
   "id": "a60cf3ab-f441-4093-bf89-ebcb9d70f8ef",
   "metadata": {},
   "outputs": [
    {
     "data": {
      "text/plain": [
       "45.0"
      ]
     },
     "execution_count": 52,
     "metadata": {},
     "output_type": "execute_result"
    }
   ],
   "source": [
    "data[data.Designation=='Engineer']['Age'].mean()"
   ]
  },
  {
   "cell_type": "code",
   "execution_count": 66,
   "id": "592451d3-88db-48d7-8272-0f4ba5dda009",
   "metadata": {},
   "outputs": [
    {
     "data": {
      "text/plain": [
       "Designation\n",
       "Accountant    41.500000\n",
       "Engineer      45.000000\n",
       "Manager       39.333333\n",
       "Office Boy    27.000000\n",
       "Officer       36.428571\n",
       "Name: Age, dtype: float64"
      ]
     },
     "execution_count": 66,
     "metadata": {},
     "output_type": "execute_result"
    }
   ],
   "source": [
    "data.groupby('Designation')['Age'].mean()"
   ]
  },
  {
   "cell_type": "code",
   "execution_count": null,
   "id": "c9cf2005-1832-453b-b81b-67f5f5852bd5",
   "metadata": {},
   "outputs": [],
   "source": []
  }
 ],
 "metadata": {
  "kernelspec": {
   "display_name": "Python 3 (ipykernel)",
   "language": "python",
   "name": "python3"
  },
  "language_info": {
   "codemirror_mode": {
    "name": "ipython",
    "version": 3
   },
   "file_extension": ".py",
   "mimetype": "text/x-python",
   "name": "python",
   "nbconvert_exporter": "python",
   "pygments_lexer": "ipython3",
   "version": "3.12.3"
  }
 },
 "nbformat": 4,
 "nbformat_minor": 5
}
