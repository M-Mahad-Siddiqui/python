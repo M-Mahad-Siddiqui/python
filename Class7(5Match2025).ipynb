{
 "cells": [
  {
   "cell_type": "code",
   "execution_count": 6,
   "id": "08f4f8c1-923d-4143-aa1b-148adbf24017",
   "metadata": {},
   "outputs": [
    {
     "name": "stdin",
     "output_type": "stream",
     "text": [
      "Enter marks in python:  23\n",
      "Enter marks in ml:  23\n",
      "Enter marks in dl:  23\n",
      "Enter marks in gan:  23\n",
      "Enter marks in da:  23\n"
     ]
    },
    {
     "name": "stdout",
     "output_type": "stream",
     "text": [
      "\n",
      "\n",
      "        Marks : 115\n",
      "        Perct : 23.0\n",
      "        Grade :F\n",
      "        Result :Fail in Python\n",
      "        \n"
     ]
    }
   ],
   "source": [
    "python = int(input(\"Enter marks in python: \"))\n",
    "ml = int(input(\"Enter marks in ml: \"))\n",
    "dl = int(input(\"Enter marks in dl: \"))\n",
    "gan = int(input(\"Enter marks in gan: \"))\n",
    "da = int(input(\"Enter marks in da: \"))\n",
    "\n",
    "if python>=50:\n",
    "    if ml>=50:\n",
    "        if dl>=50:\n",
    "            if gan>=50:\n",
    "                if da>=50:\n",
    "                    result='Pass'\n",
    "                else:\n",
    "                    result=\"Fail in Data Analysis\"\n",
    "            else:\n",
    "                result=\"Fail Gan\"\n",
    "        else:\n",
    "            result=\"Fail in Deep Learning\"\n",
    "    else:\n",
    "        result=\"Fail in Machine Learning\"\n",
    "else:\n",
    "    result=\"Fail in Python\"\n",
    "\n",
    "    \n",
    "\n",
    "obt = python + ml + dl+ gan + da\n",
    "total =500\n",
    "percentage = round(obt / total * 100, 2)\n",
    "grade = None\n",
    "\n",
    "if percentage>=90:\n",
    "    grade=\"A*\"\n",
    "elif percentage>=80:\n",
    "    grade=\"A\"\n",
    "elif percentage>=70:\n",
    "    grade=\"B\"\n",
    "elif percentage>=60:\n",
    "    grade=\"C\"\n",
    "elif percentage>=50:\n",
    "    grade=\"D\"\n",
    "else:\n",
    "    grade = \"F\"\n",
    "        \n",
    "\n",
    "print(f\"\"\"\n",
    "\n",
    "        Marks : {obt}\n",
    "        Perct : {percentage}\n",
    "        Grade :{grade}\n",
    "        Result :{result}\n",
    "        \"\"\"\n",
    "     )"
   ]
  },
  {
   "cell_type": "markdown",
   "id": "1485a509-708c-4ab5-94eb-3d7ae4ce0097",
   "metadata": {},
   "source": [
    "# Python Collections / Data Structures  (iterables)\n",
    "    - String : groups of characters\n",
    "    - List\n",
    "    - Tuple\n",
    "    - Dictionary\n",
    "    - Set"
   ]
  },
  {
   "cell_type": "code",
   "execution_count": 7,
   "id": "7731733f-105c-4784-9713-1c12c33d023f",
   "metadata": {},
   "outputs": [],
   "source": [
    "name = \"Furqan\"\n",
    "    #   012345"
   ]
  },
  {
   "cell_type": "code",
   "execution_count": 8,
   "id": "564fb5f1-f7dc-49df-893d-a3c71bd75cb4",
   "metadata": {},
   "outputs": [
    {
     "data": {
      "text/plain": [
       "'a'"
      ]
     },
     "execution_count": 8,
     "metadata": {},
     "output_type": "execute_result"
    }
   ],
   "source": [
    "name[4]"
   ]
  },
  {
   "cell_type": "code",
   "execution_count": 9,
   "id": "b8a95ff2-35b7-4772-97b0-683bc366b827",
   "metadata": {},
   "outputs": [
    {
     "data": {
      "text/plain": [
       "'r'"
      ]
     },
     "execution_count": 9,
     "metadata": {},
     "output_type": "execute_result"
    }
   ],
   "source": [
    "name[2]"
   ]
  },
  {
   "cell_type": "markdown",
   "id": "f7137689-bd9e-41f0-9779-ab3df9ee10e9",
   "metadata": {},
   "source": [
    "# List \n",
    "     - collection ( can hold many values )\n",
    "     - mutable\n",
    "     - []\n"
   ]
  },
  {
   "cell_type": "markdown",
   "id": "0a7f1230-7c91-4a8c-baba-1ab811333494",
   "metadata": {},
   "source": [
    "#### Declaration of list"
   ]
  },
  {
   "cell_type": "code",
   "execution_count": 11,
   "id": "788884ec-070a-4937-91c0-d5c19d0b16fe",
   "metadata": {},
   "outputs": [],
   "source": [
    "# index -ve   -6               -5          -4       -3       -2       -1\n",
    "students =['Abdul Basit', 'Jawed Iqbal', 'Salman', 'Ahsan', 'Umer','Hassan']\n",
    "# index +ve    0                1           2         3        4      5     "
   ]
  },
  {
   "cell_type": "code",
   "execution_count": 13,
   "id": "cb43c455-89ed-4616-a354-03bb8f4a04e7",
   "metadata": {},
   "outputs": [
    {
     "name": "stdout",
     "output_type": "stream",
     "text": [
      "<class 'list'>\n"
     ]
    }
   ],
   "source": [
    "print(type(students))"
   ]
  },
  {
   "cell_type": "markdown",
   "id": "10dd02d2-b02a-4159-be8f-9fcffb3cf8c6",
   "metadata": {},
   "source": [
    "# Indexing\n",
    "#### Accessing list members via indices"
   ]
  },
  {
   "cell_type": "code",
   "execution_count": 12,
   "id": "f7bb2ebd-6326-428b-b9ae-df23754520d2",
   "metadata": {},
   "outputs": [
    {
     "data": {
      "text/plain": [
       "'Salman'"
      ]
     },
     "execution_count": 12,
     "metadata": {},
     "output_type": "execute_result"
    }
   ],
   "source": [
    "students[2]"
   ]
  },
  {
   "cell_type": "code",
   "execution_count": 14,
   "id": "6d7591b3-16ab-4e22-821a-ae0a0e5da9f8",
   "metadata": {},
   "outputs": [
    {
     "data": {
      "text/plain": [
       "'Salman'"
      ]
     },
     "execution_count": 14,
     "metadata": {},
     "output_type": "execute_result"
    }
   ],
   "source": [
    "students[-4]"
   ]
  },
  {
   "cell_type": "code",
   "execution_count": 15,
   "id": "a7af9c4b-2257-4507-8673-c5a2e3a03af3",
   "metadata": {},
   "outputs": [
    {
     "data": {
      "text/plain": [
       "'Abdul Basit'"
      ]
     },
     "execution_count": 15,
     "metadata": {},
     "output_type": "execute_result"
    }
   ],
   "source": [
    "students[0]"
   ]
  },
  {
   "cell_type": "markdown",
   "id": "f87debed-2ae1-46db-948b-a7a3fd919f90",
   "metadata": {},
   "source": [
    "# Slicing\n",
    " - Copy of sub list\n",
    " - listname[starting_index : ending_index]"
   ]
  },
  {
   "cell_type": "code",
   "execution_count": 17,
   "id": "0691f86f-dd79-4485-9922-0f76947b357f",
   "metadata": {},
   "outputs": [],
   "source": [
    "students =['Abdul Basit', 'Jawed Iqbal', 'Salman', 'Ahsan', 'Umer','Hassan', 'Nasir', 'Noor', \"Ali\"]"
   ]
  },
  {
   "cell_type": "code",
   "execution_count": 19,
   "id": "2323266c-6ce7-4317-baf9-7945eae25d14",
   "metadata": {},
   "outputs": [],
   "source": [
    "sliced = students[1:4] "
   ]
  },
  {
   "cell_type": "code",
   "execution_count": 23,
   "id": "b1d2bee8-8e3e-4ed2-93e6-6fbb5bc7e329",
   "metadata": {},
   "outputs": [
    {
     "data": {
      "text/plain": [
       "['Abdul Basit', 'Jawed Iqbal', 'Salman', 'Ahsan', 'Umer', 'Hassan']"
      ]
     },
     "execution_count": 23,
     "metadata": {},
     "output_type": "execute_result"
    }
   ],
   "source": [
    "students[:6]"
   ]
  },
  {
   "cell_type": "code",
   "execution_count": 24,
   "id": "46a6e8f9-83a2-4d0b-9a83-38a150798e41",
   "metadata": {},
   "outputs": [
    {
     "data": {
      "text/plain": [
       "['Umer', 'Hassan', 'Nasir', 'Noor', 'Ali']"
      ]
     },
     "execution_count": 24,
     "metadata": {},
     "output_type": "execute_result"
    }
   ],
   "source": [
    "students[4:]"
   ]
  },
  {
   "cell_type": "code",
   "execution_count": 25,
   "id": "a766e951-1bfc-4825-af21-05b847a73506",
   "metadata": {},
   "outputs": [
    {
     "data": {
      "text/plain": [
       "['Abdul Basit',\n",
       " 'Jawed Iqbal',\n",
       " 'Salman',\n",
       " 'Ahsan',\n",
       " 'Umer',\n",
       " 'Hassan',\n",
       " 'Nasir',\n",
       " 'Noor',\n",
       " 'Ali']"
      ]
     },
     "execution_count": 25,
     "metadata": {},
     "output_type": "execute_result"
    }
   ],
   "source": [
    "students[:]"
   ]
  },
  {
   "cell_type": "raw",
   "id": "c1f3a0e3-4107-4e4a-b078-8c16809b0b59",
   "metadata": {},
   "source": [
    "listname[starting_index : ending_index : step]"
   ]
  },
  {
   "cell_type": "code",
   "execution_count": 26,
   "id": "9f4b59c5-77d8-4e3f-a45e-00f7ba18b937",
   "metadata": {},
   "outputs": [
    {
     "data": {
      "text/plain": [
       "['Abdul Basit', 'Salman', 'Umer', 'Nasir', 'Ali']"
      ]
     },
     "execution_count": 26,
     "metadata": {},
     "output_type": "execute_result"
    }
   ],
   "source": [
    "students[::2]"
   ]
  },
  {
   "cell_type": "code",
   "execution_count": 1,
   "id": "e1618e47-0619-4872-8aa1-75bef516cfb6",
   "metadata": {},
   "outputs": [],
   "source": [
    "#            -9                 -8           -7       -6       -5      -4        -3     -2       -1\n",
    "students =['Abdul Basit', 'Jawed Iqbal', 'Salman', 'Ahsan', 'Umer','Hassan', 'Nasir', 'Noor', \"Ali\"]\n",
    "#             0                 1           2         3        4         5        6     7       8"
   ]
  },
  {
   "cell_type": "code",
   "execution_count": 2,
   "id": "ceeda62a-09c6-41b4-ac61-745195a95643",
   "metadata": {},
   "outputs": [
    {
     "data": {
      "text/plain": [
       "['Jawed Iqbal', 'Salman', 'Ahsan']"
      ]
     },
     "execution_count": 2,
     "metadata": {},
     "output_type": "execute_result"
    }
   ],
   "source": [
    "students[1:-5]"
   ]
  },
  {
   "cell_type": "code",
   "execution_count": 3,
   "id": "44407f7c-985b-4cf5-bf27-728768b308df",
   "metadata": {},
   "outputs": [
    {
     "data": {
      "text/plain": [
       "['Abdul Basit',\n",
       " 'Jawed Iqbal',\n",
       " 'Salman',\n",
       " 'Ahsan',\n",
       " 'Umer',\n",
       " 'Hassan',\n",
       " 'Nasir',\n",
       " 'Noor',\n",
       " 'Ali']"
      ]
     },
     "execution_count": 3,
     "metadata": {},
     "output_type": "execute_result"
    }
   ],
   "source": [
    "students[:]"
   ]
  },
  {
   "cell_type": "code",
   "execution_count": 5,
   "id": "7e30b8d9-6076-4344-a572-f38456ee2c0a",
   "metadata": {},
   "outputs": [
    {
     "data": {
      "text/plain": [
       "['Ali', 'Nasir', 'Umer', 'Salman', 'Abdul Basit']"
      ]
     },
     "execution_count": 5,
     "metadata": {},
     "output_type": "execute_result"
    }
   ],
   "source": [
    "students[::-2]"
   ]
  },
  {
   "cell_type": "code",
   "execution_count": 6,
   "id": "1bb800ef-91b9-4afc-aa6e-6da63d28e06f",
   "metadata": {},
   "outputs": [
    {
     "data": {
      "text/plain": [
       "[]"
      ]
     },
     "execution_count": 6,
     "metadata": {},
     "output_type": "execute_result"
    }
   ],
   "source": [
    "students[6:1]"
   ]
  },
  {
   "cell_type": "code",
   "execution_count": 7,
   "id": "d6f8739d-c3a5-40e4-ad32-055220947650",
   "metadata": {},
   "outputs": [
    {
     "data": {
      "text/plain": [
       "['Nasir', 'Hassan', 'Umer', 'Ahsan', 'Salman']"
      ]
     },
     "execution_count": 7,
     "metadata": {},
     "output_type": "execute_result"
    }
   ],
   "source": [
    "students[6:1:-1]"
   ]
  },
  {
   "cell_type": "code",
   "execution_count": 8,
   "id": "f9eef410-eb14-4780-b15d-7139d5735acb",
   "metadata": {},
   "outputs": [
    {
     "data": {
      "text/plain": [
       "[]"
      ]
     },
     "execution_count": 8,
     "metadata": {},
     "output_type": "execute_result"
    }
   ],
   "source": [
    "students[1:6:-1]"
   ]
  },
  {
   "cell_type": "markdown",
   "id": "8c96fd66-a75d-44e5-94d5-89ab21bbcd8f",
   "metadata": {},
   "source": [
    "# Adding more members to an existing list\n",
    " - append() : it add a new mwmber at the very end of the list\n",
    " - insert() : adds a member a given index\n",
    " - extend() : it iterates over a collection and add member by member.\n",
    " - concat(+): it concatenates alist into another list and makes a new list  "
   ]
  },
  {
   "cell_type": "code",
   "execution_count": 9,
   "id": "160d5f14-1292-4115-9a48-19c0fb9cd23b",
   "metadata": {},
   "outputs": [
    {
     "data": {
      "text/plain": [
       "['Abdul Basit',\n",
       " 'Jawed Iqbal',\n",
       " 'Salman',\n",
       " 'Ahsan',\n",
       " 'Umer',\n",
       " 'Hassan',\n",
       " 'Nasir',\n",
       " 'Noor',\n",
       " 'Ali']"
      ]
     },
     "execution_count": 9,
     "metadata": {},
     "output_type": "execute_result"
    }
   ],
   "source": [
    "students"
   ]
  },
  {
   "cell_type": "code",
   "execution_count": 10,
   "id": "5695e1fd-9d0c-433c-ac1f-87a6bcb9b8cc",
   "metadata": {},
   "outputs": [],
   "source": [
    "students.append(\"Yasir\")"
   ]
  },
  {
   "cell_type": "code",
   "execution_count": 11,
   "id": "906653cc-5bd9-4270-a8d4-371bbc67e0ba",
   "metadata": {},
   "outputs": [
    {
     "data": {
      "text/plain": [
       "['Abdul Basit',\n",
       " 'Jawed Iqbal',\n",
       " 'Salman',\n",
       " 'Ahsan',\n",
       " 'Umer',\n",
       " 'Hassan',\n",
       " 'Nasir',\n",
       " 'Noor',\n",
       " 'Ali',\n",
       " 'Yasir']"
      ]
     },
     "execution_count": 11,
     "metadata": {},
     "output_type": "execute_result"
    }
   ],
   "source": [
    "students"
   ]
  },
  {
   "cell_type": "code",
   "execution_count": 12,
   "id": "f83298eb-cb66-48c7-9289-5878007f26d5",
   "metadata": {},
   "outputs": [
    {
     "ename": "TypeError",
     "evalue": "list.append() takes exactly one argument (2 given)",
     "output_type": "error",
     "traceback": [
      "\u001b[1;31m---------------------------------------------------------------------------\u001b[0m",
      "\u001b[1;31mTypeError\u001b[0m                                 Traceback (most recent call last)",
      "Cell \u001b[1;32mIn[12], line 1\u001b[0m\n\u001b[1;32m----> 1\u001b[0m students\u001b[38;5;241m.\u001b[39mappend(\u001b[38;5;124m\"\u001b[39m\u001b[38;5;124mYasir\u001b[39m\u001b[38;5;124m\"\u001b[39m, \u001b[38;5;124m\"\u001b[39m\u001b[38;5;124mNasir\u001b[39m\u001b[38;5;124m\"\u001b[39m)\n",
      "\u001b[1;31mTypeError\u001b[0m: list.append() takes exactly one argument (2 given)"
     ]
    }
   ],
   "source": [
    "students.append(\"Yasir\", \"Nasir\")"
   ]
  },
  {
   "cell_type": "code",
   "execution_count": 13,
   "id": "67bf024a-bae7-494e-a437-d287e4c169e0",
   "metadata": {},
   "outputs": [],
   "source": [
    "students.insert(4,'Asad')"
   ]
  },
  {
   "cell_type": "code",
   "execution_count": 14,
   "id": "ec752117-4aca-4b9d-8172-cff23ac3ff6c",
   "metadata": {},
   "outputs": [
    {
     "data": {
      "text/plain": [
       "['Abdul Basit',\n",
       " 'Jawed Iqbal',\n",
       " 'Salman',\n",
       " 'Ahsan',\n",
       " 'Asad',\n",
       " 'Umer',\n",
       " 'Hassan',\n",
       " 'Nasir',\n",
       " 'Noor',\n",
       " 'Ali',\n",
       " 'Yasir']"
      ]
     },
     "execution_count": 14,
     "metadata": {},
     "output_type": "execute_result"
    }
   ],
   "source": [
    "students"
   ]
  },
  {
   "cell_type": "code",
   "execution_count": 15,
   "id": "117eee2e-00fc-4b32-8fd0-dc8f3b37da59",
   "metadata": {},
   "outputs": [],
   "source": [
    "new_students = ['Hamza', 'Ahmed', 'Samad','Saqib']"
   ]
  },
  {
   "cell_type": "code",
   "execution_count": 16,
   "id": "41d15c0e-184d-4f33-a55b-351f6b02052f",
   "metadata": {},
   "outputs": [],
   "source": [
    "students.append(new_students)"
   ]
  },
  {
   "cell_type": "code",
   "execution_count": 17,
   "id": "7c1153c6-e5bc-4922-aeb8-7a50cfea180c",
   "metadata": {},
   "outputs": [
    {
     "data": {
      "text/plain": [
       "['Abdul Basit',\n",
       " 'Jawed Iqbal',\n",
       " 'Salman',\n",
       " 'Ahsan',\n",
       " 'Asad',\n",
       " 'Umer',\n",
       " 'Hassan',\n",
       " 'Nasir',\n",
       " 'Noor',\n",
       " 'Ali',\n",
       " 'Yasir',\n",
       " ['Hamza', 'Ahmed', 'Samad', 'Saqib']]"
      ]
     },
     "execution_count": 17,
     "metadata": {},
     "output_type": "execute_result"
    }
   ],
   "source": [
    "students"
   ]
  },
  {
   "cell_type": "code",
   "execution_count": 18,
   "id": "aaac3039-1eff-4312-801f-c0364e2fbd9c",
   "metadata": {},
   "outputs": [
    {
     "data": {
      "text/plain": [
       "['Abdul Basit',\n",
       " 'Jawed Iqbal',\n",
       " 'Salman',\n",
       " 'Ahsan',\n",
       " 'Asad',\n",
       " 'Umer',\n",
       " 'Hassan',\n",
       " 'Nasir',\n",
       " 'Noor',\n",
       " 'Ali',\n",
       " 'Yasir',\n",
       " ['Hamza', 'Ahmed', 'Samad', 'Saqib'],\n",
       " 'Hamza',\n",
       " 'Ahmed',\n",
       " 'Samad',\n",
       " 'Saqib']"
      ]
     },
     "execution_count": 18,
     "metadata": {},
     "output_type": "execute_result"
    }
   ],
   "source": [
    "students.extend(new_students)\n",
    "students"
   ]
  },
  {
   "cell_type": "code",
   "execution_count": 19,
   "id": "f5502e0e-c8d1-4716-b71d-e0f0794379a7",
   "metadata": {},
   "outputs": [],
   "source": [
    "old_students = ['waqas', 'imran', 'faisal', \"riyaz\"]"
   ]
  },
  {
   "cell_type": "code",
   "execution_count": 20,
   "id": "67268c9b-95b9-45e9-b532-711115157ff9",
   "metadata": {},
   "outputs": [
    {
     "data": {
      "text/plain": [
       "['Abdul Basit',\n",
       " 'Jawed Iqbal',\n",
       " 'Salman',\n",
       " 'Ahsan',\n",
       " 'Asad',\n",
       " 'Umer',\n",
       " 'Hassan',\n",
       " 'Nasir',\n",
       " 'Noor',\n",
       " 'Ali',\n",
       " 'Yasir',\n",
       " ['Hamza', 'Ahmed', 'Samad', 'Saqib'],\n",
       " 'Hamza',\n",
       " 'Ahmed',\n",
       " 'Samad',\n",
       " 'Saqib',\n",
       " 'waqas',\n",
       " 'imran',\n",
       " 'faisal',\n",
       " 'riyaz']"
      ]
     },
     "execution_count": 20,
     "metadata": {},
     "output_type": "execute_result"
    }
   ],
   "source": [
    "students + old_students"
   ]
  },
  {
   "cell_type": "code",
   "execution_count": 21,
   "id": "b922e4ac-6bd3-4fa9-aab3-ae677629a93a",
   "metadata": {},
   "outputs": [
    {
     "data": {
      "text/plain": [
       "['Abdul Basit',\n",
       " 'Jawed Iqbal',\n",
       " 'Salman',\n",
       " 'Ahsan',\n",
       " 'Asad',\n",
       " 'Umer',\n",
       " 'Hassan',\n",
       " 'Nasir',\n",
       " 'Noor',\n",
       " 'Ali',\n",
       " 'Yasir',\n",
       " ['Hamza', 'Ahmed', 'Samad', 'Saqib'],\n",
       " 'Hamza',\n",
       " 'Ahmed',\n",
       " 'Samad',\n",
       " 'Saqib',\n",
       " 'waqas',\n",
       " 'imran',\n",
       " 'faisal',\n",
       " 'riyaz']"
      ]
     },
     "execution_count": 21,
     "metadata": {},
     "output_type": "execute_result"
    }
   ],
   "source": [
    "merged_st = students + old_students\n",
    "merged_st"
   ]
  },
  {
   "cell_type": "markdown",
   "id": "5bc6274f-37b8-4765-8f5b-724ee2dbdb7d",
   "metadata": {},
   "source": [
    "# Deleting or removing memebers from a list\n",
    "      - del  : by index\n",
    "      - pop(): removes an item from very last index also returns the same item  by index\n",
    "      - remove: by value\n",
    "      - clear(): clears all the list "
   ]
  },
  {
   "cell_type": "code",
   "execution_count": 22,
   "id": "7a88ba47-548c-4e94-ab6c-7fb5bfbd8c13",
   "metadata": {},
   "outputs": [
    {
     "data": {
      "text/plain": [
       "['Abdul Basit',\n",
       " 'Jawed Iqbal',\n",
       " 'Salman',\n",
       " 'Ahsan',\n",
       " 'Asad',\n",
       " 'Umer',\n",
       " 'Hassan',\n",
       " 'Nasir',\n",
       " 'Noor',\n",
       " 'Ali',\n",
       " 'Yasir',\n",
       " ['Hamza', 'Ahmed', 'Samad', 'Saqib'],\n",
       " 'Hamza',\n",
       " 'Ahmed',\n",
       " 'Samad',\n",
       " 'Saqib']"
      ]
     },
     "execution_count": 22,
     "metadata": {},
     "output_type": "execute_result"
    }
   ],
   "source": [
    "students"
   ]
  },
  {
   "cell_type": "code",
   "execution_count": 23,
   "id": "f56f7b1e-c9e5-440e-a11a-7679e6d4179f",
   "metadata": {},
   "outputs": [
    {
     "data": {
      "text/plain": [
       "['Abdul Basit',\n",
       " 'Jawed Iqbal',\n",
       " 'Salman',\n",
       " 'Ahsan',\n",
       " 'Asad',\n",
       " 'Umer',\n",
       " 'Hassan',\n",
       " 'Nasir',\n",
       " 'Noor',\n",
       " 'Ali',\n",
       " 'Yasir',\n",
       " 'Hamza',\n",
       " 'Ahmed',\n",
       " 'Samad',\n",
       " 'Saqib']"
      ]
     },
     "execution_count": 23,
     "metadata": {},
     "output_type": "execute_result"
    }
   ],
   "source": [
    "del students[11]\n",
    "students"
   ]
  },
  {
   "cell_type": "code",
   "execution_count": 24,
   "id": "6da5a891-5142-469e-a325-a6479ec6473a",
   "metadata": {},
   "outputs": [
    {
     "data": {
      "text/plain": [
       "'Saqib'"
      ]
     },
     "execution_count": 24,
     "metadata": {},
     "output_type": "execute_result"
    }
   ],
   "source": [
    "students.pop()"
   ]
  },
  {
   "cell_type": "code",
   "execution_count": 25,
   "id": "1c28093a-d8e5-4a64-956c-8c84a3f6ab21",
   "metadata": {},
   "outputs": [
    {
     "data": {
      "text/plain": [
       "'Jawed Iqbal'"
      ]
     },
     "execution_count": 25,
     "metadata": {},
     "output_type": "execute_result"
    }
   ],
   "source": [
    "students.pop(1)"
   ]
  },
  {
   "cell_type": "code",
   "execution_count": 26,
   "id": "a51b21ff-8763-4e3a-a244-86ccc05902e0",
   "metadata": {},
   "outputs": [],
   "source": [
    "poppped_student = students.pop(4)"
   ]
  },
  {
   "cell_type": "code",
   "execution_count": 27,
   "id": "3d757886-cbd1-4302-8156-39a3ffe8f3da",
   "metadata": {},
   "outputs": [
    {
     "data": {
      "text/plain": [
       "'Umer'"
      ]
     },
     "execution_count": 27,
     "metadata": {},
     "output_type": "execute_result"
    }
   ],
   "source": [
    "poppped_student"
   ]
  },
  {
   "cell_type": "code",
   "execution_count": 28,
   "id": "f8fc0ff3-9c88-48c2-98e3-42d0ee1190f2",
   "metadata": {},
   "outputs": [],
   "source": [
    "students.remove('Nasir')"
   ]
  },
  {
   "cell_type": "code",
   "execution_count": 30,
   "id": "b13d0ae9-15d1-407c-bc45-ba4a03032474",
   "metadata": {},
   "outputs": [
    {
     "data": {
      "text/plain": [
       "['Abdul Basit',\n",
       " 'Salman',\n",
       " 'Ahsan',\n",
       " 'Asad',\n",
       " 'Hassan',\n",
       " 'Noor',\n",
       " 'Ali',\n",
       " 'Yasir',\n",
       " 'Hamza',\n",
       " 'Ahmed',\n",
       " 'Samad']"
      ]
     },
     "execution_count": 30,
     "metadata": {},
     "output_type": "execute_result"
    }
   ],
   "source": [
    "students"
   ]
  },
  {
   "cell_type": "code",
   "execution_count": 31,
   "id": "cda85044-9ccf-4579-a040-f761f98b465a",
   "metadata": {},
   "outputs": [
    {
     "ename": "ValueError",
     "evalue": "list.remove(x): x not in list",
     "output_type": "error",
     "traceback": [
      "\u001b[1;31m---------------------------------------------------------------------------\u001b[0m",
      "\u001b[1;31mValueError\u001b[0m                                Traceback (most recent call last)",
      "Cell \u001b[1;32mIn[31], line 1\u001b[0m\n\u001b[1;32m----> 1\u001b[0m students\u001b[38;5;241m.\u001b[39mremove(\u001b[38;5;124m'\u001b[39m\u001b[38;5;124mNasir\u001b[39m\u001b[38;5;124m'\u001b[39m)\n",
      "\u001b[1;31mValueError\u001b[0m: list.remove(x): x not in list"
     ]
    }
   ],
   "source": [
    "students.remove('Nasir')"
   ]
  },
  {
   "cell_type": "code",
   "execution_count": 32,
   "id": "d917b2b5-0ba7-45ad-93f2-f0e6ab5a990e",
   "metadata": {},
   "outputs": [],
   "source": [
    "students.clear()"
   ]
  },
  {
   "cell_type": "code",
   "execution_count": 33,
   "id": "c99ab734-4c18-4292-8931-d8c92cbf48c8",
   "metadata": {},
   "outputs": [
    {
     "data": {
      "text/plain": [
       "[]"
      ]
     },
     "execution_count": 33,
     "metadata": {},
     "output_type": "execute_result"
    }
   ],
   "source": [
    "students"
   ]
  },
  {
   "cell_type": "markdown",
   "id": "c53485c9-1e52-4db5-a3e3-6395c80b5c85",
   "metadata": {},
   "source": [
    "# Update a value in the list"
   ]
  },
  {
   "cell_type": "code",
   "execution_count": 34,
   "id": "b4e743f1-c6f3-4688-a499-7939180efedc",
   "metadata": {},
   "outputs": [],
   "source": [
    "old_students = ['waqas', 'imran', 'faisal', \"riyaz\"]"
   ]
  },
  {
   "cell_type": "code",
   "execution_count": 35,
   "id": "afd53e38-13cf-4328-8855-efe99b082357",
   "metadata": {},
   "outputs": [],
   "source": [
    "old_students[1] = \"kamran\""
   ]
  },
  {
   "cell_type": "code",
   "execution_count": 36,
   "id": "d16e9b4a-9c27-4b67-aef6-88c1d6be41f2",
   "metadata": {},
   "outputs": [
    {
     "data": {
      "text/plain": [
       "['waqas', 'kamran', 'faisal', 'riyaz']"
      ]
     },
     "execution_count": 36,
     "metadata": {},
     "output_type": "execute_result"
    }
   ],
   "source": [
    "old_students"
   ]
  },
  {
   "cell_type": "code",
   "execution_count": 37,
   "id": "46f64fc5-0321-47e2-8389-71096351e227",
   "metadata": {},
   "outputs": [],
   "source": [
    "old_students.reverse()"
   ]
  },
  {
   "cell_type": "code",
   "execution_count": 38,
   "id": "5d5d8a47-df5a-4201-a201-6e06917db5d4",
   "metadata": {},
   "outputs": [
    {
     "data": {
      "text/plain": [
       "['riyaz', 'faisal', 'kamran', 'waqas']"
      ]
     },
     "execution_count": 38,
     "metadata": {},
     "output_type": "execute_result"
    }
   ],
   "source": [
    "old_students"
   ]
  },
  {
   "cell_type": "code",
   "execution_count": 39,
   "id": "6c49674b-18b5-43b9-9571-fdd4956b81e5",
   "metadata": {},
   "outputs": [],
   "source": [
    "n = \"s\""
   ]
  },
  {
   "cell_type": "code",
   "execution_count": 40,
   "id": "6f18c558-ee9e-4944-8f98-9aa143228258",
   "metadata": {},
   "outputs": [
    {
     "data": {
      "text/plain": [
       "'s'"
      ]
     },
     "execution_count": 40,
     "metadata": {},
     "output_type": "execute_result"
    }
   ],
   "source": [
    "n"
   ]
  },
  {
   "cell_type": "code",
   "execution_count": 41,
   "id": "96b81bed-65d2-4a52-895b-bfa1140dad2c",
   "metadata": {},
   "outputs": [],
   "source": [
    "del n"
   ]
  },
  {
   "cell_type": "code",
   "execution_count": 42,
   "id": "87841edf-2d0a-4f15-a9b2-bae6b7751e1f",
   "metadata": {},
   "outputs": [
    {
     "ename": "NameError",
     "evalue": "name 'n' is not defined",
     "output_type": "error",
     "traceback": [
      "\u001b[1;31m---------------------------------------------------------------------------\u001b[0m",
      "\u001b[1;31mNameError\u001b[0m                                 Traceback (most recent call last)",
      "Cell \u001b[1;32mIn[42], line 1\u001b[0m\n\u001b[1;32m----> 1\u001b[0m n\n",
      "\u001b[1;31mNameError\u001b[0m: name 'n' is not defined"
     ]
    }
   ],
   "source": [
    "n"
   ]
  },
  {
   "cell_type": "code",
   "execution_count": 43,
   "id": "d20ee675-4579-4749-87e1-c9da0279a2b3",
   "metadata": {},
   "outputs": [],
   "source": [
    "old_students.sort()"
   ]
  },
  {
   "cell_type": "code",
   "execution_count": 48,
   "id": "2aacf64c-1920-47fa-be76-a09c8928e1b0",
   "metadata": {},
   "outputs": [],
   "source": [
    "old_students.append(\"Alamgir\")"
   ]
  },
  {
   "cell_type": "code",
   "execution_count": 45,
   "id": "16f9e22c-a1af-4f41-90b4-eb90725cc823",
   "metadata": {},
   "outputs": [
    {
     "data": {
      "text/plain": [
       "70"
      ]
     },
     "execution_count": 45,
     "metadata": {},
     "output_type": "execute_result"
    }
   ],
   "source": [
    "ord(\"F\")"
   ]
  },
  {
   "cell_type": "code",
   "execution_count": 47,
   "id": "1847d134-7fee-488c-90fd-e6c07cfc4bcc",
   "metadata": {},
   "outputs": [
    {
     "data": {
      "text/plain": [
       "'Z'"
      ]
     },
     "execution_count": 47,
     "metadata": {},
     "output_type": "execute_result"
    }
   ],
   "source": [
    "chr(90)"
   ]
  },
  {
   "cell_type": "code",
   "execution_count": 49,
   "id": "9aeaf491-7988-4373-9461-acb1b6126739",
   "metadata": {},
   "outputs": [
    {
     "data": {
      "text/plain": [
       "['faisal', 'kamran', 'riyaz', 'waqas', 'Alamgir']"
      ]
     },
     "execution_count": 49,
     "metadata": {},
     "output_type": "execute_result"
    }
   ],
   "source": [
    "old_students"
   ]
  },
  {
   "cell_type": "code",
   "execution_count": 50,
   "id": "2b5b1594-8553-4e80-8ac5-a1495f76ffdb",
   "metadata": {},
   "outputs": [],
   "source": [
    "old_students.sort()"
   ]
  },
  {
   "cell_type": "code",
   "execution_count": 51,
   "id": "1f7cc1c0-e028-48f2-bac7-09651bdb08f1",
   "metadata": {},
   "outputs": [
    {
     "data": {
      "text/plain": [
       "['Alamgir', 'faisal', 'kamran', 'riyaz', 'waqas']"
      ]
     },
     "execution_count": 51,
     "metadata": {},
     "output_type": "execute_result"
    }
   ],
   "source": [
    "old_students"
   ]
  },
  {
   "cell_type": "code",
   "execution_count": 52,
   "id": "3f6c03fd-08ee-4365-a240-f243c58ad120",
   "metadata": {},
   "outputs": [
    {
     "data": {
      "text/plain": [
       "1"
      ]
     },
     "execution_count": 52,
     "metadata": {},
     "output_type": "execute_result"
    }
   ],
   "source": [
    "old_students.index(\"faisal\")"
   ]
  },
  {
   "cell_type": "code",
   "execution_count": 53,
   "id": "91ec522b-c53b-444b-9bfb-653436d53a39",
   "metadata": {},
   "outputs": [],
   "source": [
    "very_old_student = old_students.copy()"
   ]
  },
  {
   "cell_type": "code",
   "execution_count": 54,
   "id": "af38a429-8883-4c00-a90e-21498ca61f2a",
   "metadata": {},
   "outputs": [],
   "source": [
    "my_old_students = old_students"
   ]
  },
  {
   "cell_type": "code",
   "execution_count": 55,
   "id": "20e6dc10-6fe6-4002-b8f4-a009e8d431dd",
   "metadata": {},
   "outputs": [
    {
     "data": {
      "text/plain": [
       "['Alamgir', 'faisal', 'kamran', 'riyaz', 'waqas']"
      ]
     },
     "execution_count": 55,
     "metadata": {},
     "output_type": "execute_result"
    }
   ],
   "source": [
    "old_students"
   ]
  },
  {
   "cell_type": "code",
   "execution_count": 56,
   "id": "619f3d59-a936-4688-a84b-6ff21d2b4bca",
   "metadata": {},
   "outputs": [
    {
     "data": {
      "text/plain": [
       "['Alamgir', 'faisal', 'kamran', 'riyaz', 'waqas']"
      ]
     },
     "execution_count": 56,
     "metadata": {},
     "output_type": "execute_result"
    }
   ],
   "source": [
    "very_old_student"
   ]
  },
  {
   "cell_type": "code",
   "execution_count": 57,
   "id": "6420ada8-3fd0-4634-bb8b-bc841dcb93fb",
   "metadata": {},
   "outputs": [
    {
     "data": {
      "text/plain": [
       "['Alamgir', 'faisal', 'kamran', 'riyaz', 'waqas']"
      ]
     },
     "execution_count": 57,
     "metadata": {},
     "output_type": "execute_result"
    }
   ],
   "source": [
    "my_old_students"
   ]
  },
  {
   "cell_type": "code",
   "execution_count": 58,
   "id": "f980edc1-16e3-413e-99db-19cecb8e6562",
   "metadata": {},
   "outputs": [],
   "source": [
    "my_old_students.clear()"
   ]
  },
  {
   "cell_type": "code",
   "execution_count": 59,
   "id": "ffd926dc-5a61-474d-8bee-c58897617418",
   "metadata": {},
   "outputs": [
    {
     "data": {
      "text/plain": [
       "[]"
      ]
     },
     "execution_count": 59,
     "metadata": {},
     "output_type": "execute_result"
    }
   ],
   "source": [
    "old_students"
   ]
  },
  {
   "cell_type": "code",
   "execution_count": 60,
   "id": "d5856277-b46a-42c7-a864-a1390100ad00",
   "metadata": {},
   "outputs": [
    {
     "data": {
      "text/plain": [
       "['Alamgir', 'faisal', 'kamran', 'riyaz', 'waqas']"
      ]
     },
     "execution_count": 60,
     "metadata": {},
     "output_type": "execute_result"
    }
   ],
   "source": [
    "very_old_student"
   ]
  },
  {
   "cell_type": "code",
   "execution_count": 61,
   "id": "a47ed554-bd2c-4149-b04a-4082364a0189",
   "metadata": {},
   "outputs": [],
   "source": [
    "old_students.append(\"Hello\")"
   ]
  },
  {
   "cell_type": "code",
   "execution_count": 62,
   "id": "d380b7a5-2ebd-4bd7-a7d6-0aa7ac7da5b8",
   "metadata": {},
   "outputs": [
    {
     "data": {
      "text/plain": [
       "['Hello']"
      ]
     },
     "execution_count": 62,
     "metadata": {},
     "output_type": "execute_result"
    }
   ],
   "source": [
    "old_students"
   ]
  },
  {
   "cell_type": "code",
   "execution_count": 63,
   "id": "be15f354-1e9e-45a5-a0e0-5bc3a098235c",
   "metadata": {},
   "outputs": [
    {
     "data": {
      "text/plain": [
       "['Alamgir', 'faisal', 'kamran', 'riyaz', 'waqas']"
      ]
     },
     "execution_count": 63,
     "metadata": {},
     "output_type": "execute_result"
    }
   ],
   "source": [
    "very_old_student"
   ]
  },
  {
   "cell_type": "code",
   "execution_count": 64,
   "id": "989fc179-5565-447b-828e-8022c5d53daf",
   "metadata": {},
   "outputs": [],
   "source": [
    "very_old_student.clear()"
   ]
  },
  {
   "cell_type": "code",
   "execution_count": 65,
   "id": "216b9a80-cdf8-46c2-b53c-457e9e9c1687",
   "metadata": {},
   "outputs": [
    {
     "data": {
      "text/plain": [
       "['Hello']"
      ]
     },
     "execution_count": 65,
     "metadata": {},
     "output_type": "execute_result"
    }
   ],
   "source": [
    "old_students"
   ]
  },
  {
   "cell_type": "code",
   "execution_count": 66,
   "id": "c9f34844-72a6-4ca4-a7ee-ca76be2d0b46",
   "metadata": {},
   "outputs": [],
   "source": [
    "students = ['Alamgir', 'faisal', 'kamran', 'riyaz', 'waqas'] "
   ]
  },
  {
   "cell_type": "code",
   "execution_count": 67,
   "id": "6e921e3b-d1f9-473f-9fd2-b5bde8130f99",
   "metadata": {},
   "outputs": [
    {
     "data": {
      "text/plain": [
       "1"
      ]
     },
     "execution_count": 67,
     "metadata": {},
     "output_type": "execute_result"
    }
   ],
   "source": [
    "students.count('kamran')"
   ]
  },
  {
   "cell_type": "code",
   "execution_count": 68,
   "id": "5e5c66d3-781d-49e0-82d4-771b38ebe095",
   "metadata": {},
   "outputs": [],
   "source": [
    "teachers = ['Alamgir', 'faisal', 'kamran', 'riyaz', 'waqas']  "
   ]
  },
  {
   "cell_type": "code",
   "execution_count": 69,
   "id": "4284eb50-79ed-45ad-bd0c-72969d7b496c",
   "metadata": {},
   "outputs": [
    {
     "data": {
      "text/plain": [
       "2414903606784"
      ]
     },
     "execution_count": 69,
     "metadata": {},
     "output_type": "execute_result"
    }
   ],
   "source": [
    "id(students)"
   ]
  },
  {
   "cell_type": "code",
   "execution_count": 70,
   "id": "7bc27a9b-149f-49aa-a623-4153fbc02440",
   "metadata": {},
   "outputs": [
    {
     "data": {
      "text/plain": [
       "2414885135296"
      ]
     },
     "execution_count": 70,
     "metadata": {},
     "output_type": "execute_result"
    }
   ],
   "source": [
    "id(teachers)"
   ]
  },
  {
   "cell_type": "code",
   "execution_count": 80,
   "id": "e7970f00-72f4-49c0-abec-e59fc1866e8d",
   "metadata": {},
   "outputs": [],
   "source": [
    "t2 = teachers[:] # t2 = teachers.copy()\n",
    "\n",
    "# pass by value copy"
   ]
  },
  {
   "cell_type": "code",
   "execution_count": 81,
   "id": "2aa5eb3a-e7bd-45e3-8ac3-7d33b2d802fe",
   "metadata": {},
   "outputs": [
    {
     "data": {
      "text/plain": [
       "['Alamgir', 'faisal', 'kamran', 'riyaz', 'waqas']"
      ]
     },
     "execution_count": 81,
     "metadata": {},
     "output_type": "execute_result"
    }
   ],
   "source": [
    "t2"
   ]
  },
  {
   "cell_type": "markdown",
   "id": "e6efe511-70fb-48f4-b7e2-d725e60f60d4",
   "metadata": {},
   "source": [
    "# Membership operator: in"
   ]
  },
  {
   "cell_type": "code",
   "execution_count": 82,
   "id": "c35adce1-8bf1-4ca8-8578-b7571f04d63e",
   "metadata": {},
   "outputs": [
    {
     "data": {
      "text/plain": [
       "True"
      ]
     },
     "execution_count": 82,
     "metadata": {},
     "output_type": "execute_result"
    }
   ],
   "source": [
    "'riyaz' in t2"
   ]
  },
  {
   "cell_type": "markdown",
   "id": "bd8ad296-4bb0-4fa3-8bfb-57a4ada37bd5",
   "metadata": {},
   "source": [
    "# Tuple\n",
    "   - ()\n",
    "   - immutable\n",
    "   - very fast as compare to list\n"
   ]
  },
  {
   "cell_type": "code",
   "execution_count": 83,
   "id": "eb08894b-b01c-4f4c-b1fe-892d4de18e4a",
   "metadata": {},
   "outputs": [],
   "source": [
    "atuple = (1,2,3,4,5,6,7,8,9,10)"
   ]
  },
  {
   "cell_type": "code",
   "execution_count": 86,
   "id": "9e7b0045-8bc3-4d45-9da5-1853d3de2bd3",
   "metadata": {},
   "outputs": [
    {
     "name": "stdout",
     "output_type": "stream",
     "text": [
      "<class 'tuple'>\n"
     ]
    },
    {
     "data": {
      "text/plain": [
       "10"
      ]
     },
     "execution_count": 86,
     "metadata": {},
     "output_type": "execute_result"
    }
   ],
   "source": [
    "print(type(atuple))\n",
    "len(atuple)"
   ]
  },
  {
   "cell_type": "code",
   "execution_count": 87,
   "id": "08b4ddf5-0c97-496d-9ecd-c480a10b9321",
   "metadata": {},
   "outputs": [
    {
     "data": {
      "text/plain": [
       "7"
      ]
     },
     "execution_count": 87,
     "metadata": {},
     "output_type": "execute_result"
    }
   ],
   "source": [
    "atuple[6]"
   ]
  },
  {
   "cell_type": "code",
   "execution_count": 88,
   "id": "da0f4c5d-df5d-4445-9461-6c36f986a2ea",
   "metadata": {},
   "outputs": [
    {
     "data": {
      "text/plain": [
       "(5, 6, 7, 8)"
      ]
     },
     "execution_count": 88,
     "metadata": {},
     "output_type": "execute_result"
    }
   ],
   "source": [
    "atuple[4:8]"
   ]
  },
  {
   "cell_type": "markdown",
   "id": "befd3891-1ee5-4117-9eca-0f86728babe2",
   "metadata": {},
   "source": [
    "# Dictionary\n",
    "  - {key:value}\n",
    "  - there is no index\n",
    "  - mutable\n",
    "  - iterable\n",
    "    "
   ]
  },
  {
   "cell_type": "code",
   "execution_count": 91,
   "id": "9cf2601d-6379-4ae2-a5e1-d0ffc1c71feb",
   "metadata": {},
   "outputs": [],
   "source": [
    "# create a students record. \n",
    "student1 = ['Ahsaan','Anwar', 16, 'Male', 25, 'Karachi']"
   ]
  },
  {
   "cell_type": "code",
   "execution_count": 93,
   "id": "8e3e854b-f192-4c41-a906-3d49005f461a",
   "metadata": {},
   "outputs": [],
   "source": [
    "student1 = {'name':'Ahsaan', 'fname':'Anwar', \"age\":16,\n",
    "           'gender':'male', 'city':'Karachi', 'roll':25}"
   ]
  },
  {
   "cell_type": "code",
   "execution_count": 94,
   "id": "84b56c8f-57de-46c2-a291-b2075fa406f0",
   "metadata": {},
   "outputs": [
    {
     "data": {
      "text/plain": [
       "16"
      ]
     },
     "execution_count": 94,
     "metadata": {},
     "output_type": "execute_result"
    }
   ],
   "source": [
    "student1['age']"
   ]
  },
  {
   "cell_type": "code",
   "execution_count": 95,
   "id": "951dc975-b314-44a1-b0f3-c0c79a394f72",
   "metadata": {},
   "outputs": [],
   "source": [
    "student1['course'] = 'Python'"
   ]
  },
  {
   "cell_type": "code",
   "execution_count": 96,
   "id": "ab32d6bc-e79a-40f7-95cd-f806e5585b41",
   "metadata": {},
   "outputs": [
    {
     "data": {
      "text/plain": [
       "{'name': 'Ahsaan',\n",
       " 'fname': 'Anwar',\n",
       " 'age': 16,\n",
       " 'gender': 'male',\n",
       " 'city': 'Karachi',\n",
       " 'roll': 25,\n",
       " 'course': 'Python'}"
      ]
     },
     "execution_count": 96,
     "metadata": {},
     "output_type": "execute_result"
    }
   ],
   "source": [
    "student1"
   ]
  },
  {
   "cell_type": "code",
   "execution_count": 97,
   "id": "fbab6020-2c76-4da7-9733-94093ea8c32c",
   "metadata": {},
   "outputs": [],
   "source": [
    "student1['course'] = 'AiDs'"
   ]
  },
  {
   "cell_type": "code",
   "execution_count": 98,
   "id": "2b0fc854-05e2-4096-b6c9-0c8ba32674a3",
   "metadata": {},
   "outputs": [
    {
     "data": {
      "text/plain": [
       "{'name': 'Ahsaan',\n",
       " 'fname': 'Anwar',\n",
       " 'age': 16,\n",
       " 'gender': 'male',\n",
       " 'city': 'Karachi',\n",
       " 'roll': 25,\n",
       " 'course': 'AiDs'}"
      ]
     },
     "execution_count": 98,
     "metadata": {},
     "output_type": "execute_result"
    }
   ],
   "source": [
    "student1"
   ]
  },
  {
   "cell_type": "code",
   "execution_count": 99,
   "id": "b96721cd-02cd-4ec0-8e2e-1f2c8a2fd9dd",
   "metadata": {},
   "outputs": [],
   "source": [
    "del student1['course']"
   ]
  },
  {
   "cell_type": "code",
   "execution_count": 100,
   "id": "0e0a9038-02b5-4512-99fa-2904b1b9e785",
   "metadata": {},
   "outputs": [
    {
     "data": {
      "text/plain": [
       "{'name': 'Ahsaan',\n",
       " 'fname': 'Anwar',\n",
       " 'age': 16,\n",
       " 'gender': 'male',\n",
       " 'city': 'Karachi',\n",
       " 'roll': 25}"
      ]
     },
     "execution_count": 100,
     "metadata": {},
     "output_type": "execute_result"
    }
   ],
   "source": [
    "studen1"
   ]
  },
  {
   "cell_type": "code",
   "execution_count": 103,
   "id": "8ff28d81-b595-403d-a4d5-9c4f89c0127c",
   "metadata": {},
   "outputs": [
    {
     "data": {
      "text/plain": [
       "16"
      ]
     },
     "execution_count": 103,
     "metadata": {},
     "output_type": "execute_result"
    }
   ],
   "source": [
    "student1.pop('age')"
   ]
  },
  {
   "cell_type": "code",
   "execution_count": 104,
   "id": "d9a688ab-1618-4c4c-9444-30d4a4f38f20",
   "metadata": {},
   "outputs": [
    {
     "data": {
      "text/plain": [
       "dict_keys(['name', 'fname', 'gender', 'city', 'roll'])"
      ]
     },
     "execution_count": 104,
     "metadata": {},
     "output_type": "execute_result"
    }
   ],
   "source": [
    "student1.keys()"
   ]
  },
  {
   "cell_type": "code",
   "execution_count": 105,
   "id": "671aeb75-f411-4982-8518-33edd775553e",
   "metadata": {},
   "outputs": [
    {
     "data": {
      "text/plain": [
       "dict_values(['Ahsaan', 'Anwar', 'male', 'Karachi', 25])"
      ]
     },
     "execution_count": 105,
     "metadata": {},
     "output_type": "execute_result"
    }
   ],
   "source": [
    "student1.values()"
   ]
  },
  {
   "cell_type": "code",
   "execution_count": 106,
   "id": "c5a639d1-edf1-4f4f-af29-78dfb1bfb71f",
   "metadata": {},
   "outputs": [
    {
     "data": {
      "text/plain": [
       "dict_items([('name', 'Ahsaan'), ('fname', 'Anwar'), ('gender', 'male'), ('city', 'Karachi'), ('roll', 25)])"
      ]
     },
     "execution_count": 106,
     "metadata": {},
     "output_type": "execute_result"
    }
   ],
   "source": [
    "student1.items()"
   ]
  },
  {
   "cell_type": "code",
   "execution_count": 107,
   "id": "d57f2478-fdd6-4380-b19c-3457a1367eae",
   "metadata": {},
   "outputs": [
    {
     "data": {
      "text/plain": [
       "dict_items"
      ]
     },
     "execution_count": 107,
     "metadata": {},
     "output_type": "execute_result"
    }
   ],
   "source": [
    "type(student1.items())"
   ]
  },
  {
   "cell_type": "code",
   "execution_count": 108,
   "id": "c98bc9cf-a3e5-4f10-aaab-dc3730372148",
   "metadata": {},
   "outputs": [
    {
     "data": {
      "text/plain": [
       "('roll', 25)"
      ]
     },
     "execution_count": 108,
     "metadata": {},
     "output_type": "execute_result"
    }
   ],
   "source": [
    "student1.popitem()"
   ]
  },
  {
   "cell_type": "code",
   "execution_count": 109,
   "id": "cbb5450c-3f7a-4897-85b8-80fdf16b5692",
   "metadata": {},
   "outputs": [
    {
     "data": {
      "text/plain": [
       "('Ahsaan', 'Ahsaan')"
      ]
     },
     "execution_count": 109,
     "metadata": {},
     "output_type": "execute_result"
    }
   ],
   "source": [
    "student1.get('name'), student1['name']"
   ]
  },
  {
   "cell_type": "code",
   "execution_count": 110,
   "id": "1004c0c7-40d8-4562-9f14-4e78c4fb47d6",
   "metadata": {},
   "outputs": [
    {
     "ename": "KeyError",
     "evalue": "'email'",
     "output_type": "error",
     "traceback": [
      "\u001b[1;31m---------------------------------------------------------------------------\u001b[0m",
      "\u001b[1;31mKeyError\u001b[0m                                  Traceback (most recent call last)",
      "Cell \u001b[1;32mIn[110], line 1\u001b[0m\n\u001b[1;32m----> 1\u001b[0m student1[\u001b[38;5;124m'\u001b[39m\u001b[38;5;124memail\u001b[39m\u001b[38;5;124m'\u001b[39m]\n",
      "\u001b[1;31mKeyError\u001b[0m: 'email'"
     ]
    }
   ],
   "source": [
    "student1['email']"
   ]
  },
  {
   "cell_type": "code",
   "execution_count": 112,
   "id": "163ec05e-36c7-4f55-8487-836bf5810eaf",
   "metadata": {},
   "outputs": [
    {
     "name": "stdout",
     "output_type": "stream",
     "text": [
      "None\n"
     ]
    }
   ],
   "source": [
    "print(student1.get('email'))"
   ]
  },
  {
   "cell_type": "code",
   "execution_count": 113,
   "id": "37e8cd84-ee90-435d-b7be-8d534f333ded",
   "metadata": {},
   "outputs": [],
   "source": [
    "student1_meta_data = {'siblings':15, \"height\":5.9}"
   ]
  },
  {
   "cell_type": "code",
   "execution_count": 114,
   "id": "93709f1a-eec3-4ae2-92f5-11a4cc5ea724",
   "metadata": {},
   "outputs": [],
   "source": [
    "student1['meta_data'] = student1_meta_data"
   ]
  },
  {
   "cell_type": "code",
   "execution_count": 115,
   "id": "61c22eb9-b0e1-4f28-8605-330fb17cf779",
   "metadata": {},
   "outputs": [
    {
     "data": {
      "text/plain": [
       "{'name': 'Ahsaan',\n",
       " 'fname': 'Anwar',\n",
       " 'gender': 'male',\n",
       " 'city': 'Karachi',\n",
       " 'meta_data': {'siblings': 15, 'height': 5.9}}"
      ]
     },
     "execution_count": 115,
     "metadata": {},
     "output_type": "execute_result"
    }
   ],
   "source": [
    "student1"
   ]
  },
  {
   "cell_type": "code",
   "execution_count": 116,
   "id": "15c17ae0-2e01-43e2-901f-253dd99c7bff",
   "metadata": {},
   "outputs": [],
   "source": [
    "student1.update(student1_meta_data)"
   ]
  },
  {
   "cell_type": "code",
   "execution_count": 117,
   "id": "66d014ed-b70b-4fc3-9bed-65b0f16993cf",
   "metadata": {},
   "outputs": [
    {
     "data": {
      "text/plain": [
       "{'name': 'Ahsaan',\n",
       " 'fname': 'Anwar',\n",
       " 'gender': 'male',\n",
       " 'city': 'Karachi',\n",
       " 'meta_data': {'siblings': 15, 'height': 5.9},\n",
       " 'siblings': 15,\n",
       " 'height': 5.9}"
      ]
     },
     "execution_count": 117,
     "metadata": {},
     "output_type": "execute_result"
    }
   ],
   "source": [
    "student1"
   ]
  },
  {
   "cell_type": "code",
   "execution_count": null,
   "id": "db1061e8-3f9d-4705-a447-68828bcc62f8",
   "metadata": {},
   "outputs": [],
   "source": []
  }
 ],
 "metadata": {
  "kernelspec": {
   "display_name": "Python 3 (ipykernel)",
   "language": "python",
   "name": "python3"
  },
  "language_info": {
   "codemirror_mode": {
    "name": "ipython",
    "version": 3
   },
   "file_extension": ".py",
   "mimetype": "text/x-python",
   "name": "python",
   "nbconvert_exporter": "python",
   "pygments_lexer": "ipython3",
   "version": "3.12.7"
  }
 },
 "nbformat": 4,
 "nbformat_minor": 5
}
