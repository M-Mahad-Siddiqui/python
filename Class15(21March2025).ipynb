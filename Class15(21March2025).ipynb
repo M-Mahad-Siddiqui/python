{
 "cells": [
  {
   "cell_type": "markdown",
   "id": "86e5bf32-cd4e-48b8-99d5-8a016128e983",
   "metadata": {},
   "source": [
    "# module:\n",
    "    - any python file can be treated as a module. "
   ]
  },
  {
   "cell_type": "code",
   "execution_count": 1,
   "id": "21e602bc-9724-4e00-9cd8-88310351dd15",
   "metadata": {},
   "outputs": [],
   "source": [
    "import module"
   ]
  },
  {
   "cell_type": "code",
   "execution_count": 2,
   "id": "33ea4d76-ca6f-48e4-aa05-65227b0cca5d",
   "metadata": {},
   "outputs": [
    {
     "data": {
      "text/plain": [
       "81"
      ]
     },
     "execution_count": 2,
     "metadata": {},
     "output_type": "execute_result"
    }
   ],
   "source": [
    "module.square(9)"
   ]
  },
  {
   "cell_type": "code",
   "execution_count": 3,
   "id": "a868d19d-4841-40f8-9582-c5737b0c770e",
   "metadata": {},
   "outputs": [],
   "source": [
    "import math"
   ]
  },
  {
   "cell_type": "code",
   "execution_count": 4,
   "id": "7157ce81-b162-47f4-b98d-d5e98ec678c6",
   "metadata": {},
   "outputs": [
    {
     "data": {
      "text/plain": [
       "0.8939966636005579"
      ]
     },
     "execution_count": 4,
     "metadata": {},
     "output_type": "execute_result"
    }
   ],
   "source": [
    "math.sin(90)"
   ]
  },
  {
   "cell_type": "code",
   "execution_count": 6,
   "id": "db8e472b-6349-4daa-b203-560a5ccc4c67",
   "metadata": {},
   "outputs": [
    {
     "data": {
      "text/plain": [
       "64.0"
      ]
     },
     "execution_count": 6,
     "metadata": {},
     "output_type": "execute_result"
    }
   ],
   "source": [
    "math.pow(4,3)"
   ]
  },
  {
   "cell_type": "code",
   "execution_count": 7,
   "id": "5bbc5b44-e09c-4636-b618-e96a60b1c205",
   "metadata": {},
   "outputs": [],
   "source": [
    "import random"
   ]
  },
  {
   "cell_type": "code",
   "execution_count": 42,
   "id": "6b0fc57d-25ee-4e94-b537-6154b810b206",
   "metadata": {},
   "outputs": [
    {
     "data": {
      "text/plain": [
       "2617"
      ]
     },
     "execution_count": 42,
     "metadata": {},
     "output_type": "execute_result"
    }
   ],
   "source": [
    "random.randint(1000,4999)"
   ]
  },
  {
   "cell_type": "code",
   "execution_count": 51,
   "id": "0363b6ef-17a0-40f6-bf5b-f1dbda939d18",
   "metadata": {},
   "outputs": [],
   "source": [
    "import bank"
   ]
  },
  {
   "cell_type": "code",
   "execution_count": 54,
   "id": "0c111665-c7fe-4cb8-91d2-d5aa79ac3bbe",
   "metadata": {},
   "outputs": [
    {
     "data": {
      "text/plain": [
       "[{'acc_no': 4802,\n",
       "  'acc_title': 'nasirhussain',\n",
       "  'cnic': '1234567',\n",
       "  'initial_deposit': 5000,\n",
       "  'balance': 5000},\n",
       " {'acc_no': 3364,\n",
       "  'acc_title': 'nasirhussain',\n",
       "  'cnic': '1234567',\n",
       "  'initial_deposit': 5000,\n",
       "  'balance': 5000},\n",
       " {'acc_no': 6773,\n",
       "  'acc_title': 'nasirhussain',\n",
       "  'cnic': '1234567',\n",
       "  'initial_deposit': 5000,\n",
       "  'balance': 5000}]"
      ]
     },
     "execution_count": 54,
     "metadata": {},
     "output_type": "execute_result"
    }
   ],
   "source": [
    "bank.all_acc_lst"
   ]
  },
  {
   "cell_type": "code",
   "execution_count": 53,
   "id": "93cd426f-26c5-46ca-9f6c-240823a478a5",
   "metadata": {},
   "outputs": [],
   "source": [
    "bank.open_acc('nasirhussain','1234567',5000)"
   ]
  },
  {
   "cell_type": "code",
   "execution_count": 47,
   "id": "8add7424-29a0-40d9-a8b1-1aba281dbecd",
   "metadata": {},
   "outputs": [
    {
     "ename": "TypeError",
     "evalue": "balance() missing 1 required positional argument: 'acc_no'",
     "output_type": "error",
     "traceback": [
      "\u001b[1;31m---------------------------------------------------------------------------\u001b[0m",
      "\u001b[1;31mTypeError\u001b[0m                                 Traceback (most recent call last)",
      "Cell \u001b[1;32mIn[47], line 1\u001b[0m\n\u001b[1;32m----> 1\u001b[0m bank\u001b[38;5;241m.\u001b[39mbalance()\n",
      "\u001b[1;31mTypeError\u001b[0m: balance() missing 1 required positional argument: 'acc_no'"
     ]
    }
   ],
   "source": [
    "bank.balance()"
   ]
  },
  {
   "cell_type": "code",
   "execution_count": 55,
   "id": "36e3e2a3-1e4f-45f9-bae0-a142cb1878c0",
   "metadata": {},
   "outputs": [
    {
     "data": {
      "text/plain": [
       "'your current balance is: Rs.5000'"
      ]
     },
     "execution_count": 55,
     "metadata": {},
     "output_type": "execute_result"
    }
   ],
   "source": [
    "bank.balance(4802)"
   ]
  },
  {
   "cell_type": "code",
   "execution_count": 57,
   "id": "7c1ef855-b053-4a97-b3d9-27ace715cea3",
   "metadata": {},
   "outputs": [],
   "source": [
    "bank.deposit(4802,50000)\n"
   ]
  },
  {
   "cell_type": "code",
   "execution_count": 58,
   "id": "2517f6b1-d6aa-44d5-8ca3-77be54ade5d1",
   "metadata": {},
   "outputs": [
    {
     "data": {
      "text/plain": [
       "'your current balance is: Rs.55000'"
      ]
     },
     "execution_count": 58,
     "metadata": {},
     "output_type": "execute_result"
    }
   ],
   "source": [
    "bank.balance(4802)"
   ]
  },
  {
   "cell_type": "code",
   "execution_count": 59,
   "id": "5df50fdb-3ff9-4b8e-bf39-2388ede36412",
   "metadata": {},
   "outputs": [],
   "source": [
    "bank.withdraw(4802,10000)"
   ]
  },
  {
   "cell_type": "code",
   "execution_count": 62,
   "id": "a4cd701a-659e-4792-9a68-46b310be3577",
   "metadata": {},
   "outputs": [],
   "source": [
    "# %load bank.py\n",
    "all_acc_lst=[]\n",
    "import random\n",
    "\n",
    "def open_acc(acc_title,cnic,initial_deposit):\n",
    "    account={}\n",
    "    account['acc_no']=random.randint(1000,9999)\n",
    "    account['acc_title']=acc_title\n",
    "    account['cnic']=cnic\n",
    "    account['initial_deposit']=initial_deposit\n",
    "    account['balance']=initial_deposit\n",
    "    all_acc_lst.append(account)\n",
    "    print(f\"Your Account No. is: {account['acc_no']}\")\n",
    "    print(f\"Your Account Title is: {account['acc_title']}\")\n",
    "\n",
    "def deposit(acc_no,amount):\n",
    "    if amount<=0:\n",
    "        return \"Invalid Amount\"\n",
    "    else:\n",
    "        for account in all_acc_lst:\n",
    "            if account['acc_no']==acc_no:\n",
    "                account['balance']+=amount;\n",
    "                break\n",
    "    \n",
    "def balance(acc_no):\n",
    "    for account in all_acc_lst:\n",
    "        if account['acc_no']==acc_no:\n",
    "            return f\"your current balance is: Rs.{account['balance']}\"\n",
    "    \n",
    "def withdraw(acc_no,amount):\n",
    "    if amount<=0:\n",
    "        return \"Invalid Amount\"\n",
    "    else:\n",
    "        for account in all_acc_lst:\n",
    "            if account['acc_no']==acc_no:\n",
    "                if account['balance']<amount:\n",
    "                    return \"Insufficient Balance\"\n",
    "                else:\n",
    "                    account['balance']-=amount\n",
    "                    break"
   ]
  },
  {
   "cell_type": "code",
   "execution_count": null,
   "id": "46e33fd1-1d82-4328-9bca-e76dd1f1ee8a",
   "metadata": {},
   "outputs": [],
   "source": []
  }
 ],
 "metadata": {
  "kernelspec": {
   "display_name": "Python 3 (ipykernel)",
   "language": "python",
   "name": "python3"
  },
  "language_info": {
   "codemirror_mode": {
    "name": "ipython",
    "version": 3
   },
   "file_extension": ".py",
   "mimetype": "text/x-python",
   "name": "python",
   "nbconvert_exporter": "python",
   "pygments_lexer": "ipython3",
   "version": "3.12.3"
  }
 },
 "nbformat": 4,
 "nbformat_minor": 5
}
