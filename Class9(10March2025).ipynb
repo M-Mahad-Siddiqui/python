{
 "cells": [
  {
   "cell_type": "code",
   "execution_count": 5,
   "id": "3d9b1ed2-794a-467c-9cd5-14399eaaed6a",
   "metadata": {},
   "outputs": [
    {
     "name": "stdin",
     "output_type": "stream",
     "text": [
      "Enter a table number:   3\n"
     ]
    },
    {
     "name": "stdout",
     "output_type": "stream",
     "text": [
      "3 * 1 = 3\n",
      "3 * 2 = 6\n",
      "3 * 3 = 9\n",
      "3 * 4 = 12\n",
      "3 * 5 = 15\n",
      "3 * 6 = 18\n",
      "3 * 7 = 21\n",
      "3 * 8 = 24\n",
      "3 * 9 = 27\n",
      "3 * 10 = 30\n"
     ]
    }
   ],
   "source": [
    "table_no = int(input(\"Enter a table number:  \"))\n",
    "for a in range(1,11):\n",
    "    print(f\"{table_no} * {a} = {table_no*a}\")"
   ]
  },
  {
   "cell_type": "raw",
   "id": "27c2f281-9389-4dce-bf0d-fc21224f4653",
   "metadata": {},
   "source": [
    "Write a Python program that:\n",
    "Accepts a comma-separated string of numbers from the user (e.g., \"1,2,3,4,5\"). \n",
    "Typecasts the input string into a list of integers. Print the resulting list of integers.\n",
    "Example Input: \"10,20,30,40,50\" or [10, 20, 30, 40, 50]"
   ]
  },
  {
   "cell_type": "code",
   "execution_count": 14,
   "id": "81fbfa1c-74da-4874-97ef-661d360510c1",
   "metadata": {
    "scrolled": true
   },
   "outputs": [
    {
     "name": "stdin",
     "output_type": "stream",
     "text": [
      "Enter comma separated numbers 1,2,3,4,5,6,7,8,9,10\n"
     ]
    },
    {
     "data": {
      "text/plain": [
       "[1, 2, 3, 4, 5, 6, 7, 8, 9, 10]"
      ]
     },
     "execution_count": 14,
     "metadata": {},
     "output_type": "execute_result"
    }
   ],
   "source": [
    "nums = input(\"Enter comma separated numbers\").split(\",\")\n",
    "int_list = []\n",
    "for n in nums:\n",
    "    int_list.append(int(n))\n",
    "int_list   "
   ]
  },
  {
   "cell_type": "code",
   "execution_count": 15,
   "id": "5c9460c2-0ae0-4b65-b363-d76b17e9c193",
   "metadata": {},
   "outputs": [
    {
     "data": {
      "text/plain": [
       "['a', 'b', 'c', 'd']"
      ]
     },
     "execution_count": 15,
     "metadata": {},
     "output_type": "execute_result"
    }
   ],
   "source": [
    "list(\"abcd\")"
   ]
  },
  {
   "cell_type": "markdown",
   "id": "1df6d513-cd2c-4f3e-8579-86af60722fb5",
   "metadata": {},
   "source": [
    "# List Comprehension\n",
    "       [   we iterate inside list         ]"
   ]
  },
  {
   "cell_type": "code",
   "execution_count": 17,
   "id": "cc6cc65c-95d2-4cad-9140-c9520381edd2",
   "metadata": {},
   "outputs": [
    {
     "data": {
      "text/plain": [
       "[0, 1, 4, 9, 16, 25, 36, 49, 64, 81]"
      ]
     },
     "execution_count": 17,
     "metadata": {},
     "output_type": "execute_result"
    }
   ],
   "source": [
    "[ a**2 for a in range(10) ]"
   ]
  },
  {
   "cell_type": "code",
   "execution_count": 27,
   "id": "f7e2d276-f069-4bd7-ae24-4da41672b8ff",
   "metadata": {},
   "outputs": [
    {
     "data": {
      "text/plain": [
       "['0 is even',\n",
       " '1 is odd',\n",
       " '2 is even',\n",
       " '3 is odd',\n",
       " '4 is even',\n",
       " '5 is odd',\n",
       " '6 is even',\n",
       " '7 is odd',\n",
       " '8 is even',\n",
       " '9 is odd']"
      ]
     },
     "execution_count": 27,
     "metadata": {},
     "output_type": "execute_result"
    }
   ],
   "source": [
    "[f\"{a} is even\" if a%2==0  else f\"{a} is odd\" for a in range(10)]"
   ]
  },
  {
   "cell_type": "code",
   "execution_count": 28,
   "id": "d39c0db9-1b9c-472f-83ce-268a17906b02",
   "metadata": {},
   "outputs": [
    {
     "data": {
      "text/plain": [
       "{0: 0, 1: 1, 2: 4, 3: 9, 4: 16, 5: 25, 6: 36, 7: 49, 8: 64, 9: 81}"
      ]
     },
     "execution_count": 28,
     "metadata": {},
     "output_type": "execute_result"
    }
   ],
   "source": [
    "{a:a**2 for a in range(10)}"
   ]
  },
  {
   "cell_type": "code",
   "execution_count": 31,
   "id": "11c0e1c6-8914-484c-9193-3ee4fe879a1d",
   "metadata": {},
   "outputs": [
    {
     "name": "stdin",
     "output_type": "stream",
     "text": [
      "Enter comma separated numbers 1,2,3,4,5,6\n"
     ]
    },
    {
     "data": {
      "text/plain": [
       "[1, 2, 3, 4, 5, 6]"
      ]
     },
     "execution_count": 31,
     "metadata": {},
     "output_type": "execute_result"
    }
   ],
   "source": [
    "[ int(n) for n in input(\"Enter comma separated numbers\").split(\",\")      ]"
   ]
  },
  {
   "cell_type": "code",
   "execution_count": 36,
   "id": "d4881804-ed45-48e2-a60a-ae60096321c0",
   "metadata": {},
   "outputs": [
    {
     "name": "stdin",
     "output_type": "stream",
     "text": [
      "Enter space separated numbers 1 2 3 4 5 6 7 8 9 10\n"
     ]
    },
    {
     "data": {
      "text/plain": [
       "[1, 2, 3, 4, 5, 6, 7, 8, 9, 10]"
      ]
     },
     "execution_count": 36,
     "metadata": {},
     "output_type": "execute_result"
    }
   ],
   "source": [
    "[ int(n) for n in input(\"Enter space separated numbers\").split()]"
   ]
  },
  {
   "cell_type": "raw",
   "id": "b771ad40-ecac-477d-8c41-036f9ad5a4e0",
   "metadata": {},
   "source": [
    "Write a Python program that ask user to enter 5 different names (e.g., \"Alice, Bob, Charlie, David, Eve\").\n",
    "Stores these names in a list and prints the list. Then, ask the user for a number and print the name at that index of the list.\n",
    "\n",
    "Example Input\n",
    "\n",
    "\"Alice, Bob, Charlie, David, Eve\" Enter an index: 2\n",
    "\n",
    "Example Output:\n",
    "\n",
    "List: ['Alice', 'Bob', 'Charlie', 'David', 'Eve'] Name at index 2: Charlie"
   ]
  },
  {
   "cell_type": "code",
   "execution_count": 43,
   "id": "1ccd32c5-6af1-4659-9542-ecd1bb899771",
   "metadata": {},
   "outputs": [
    {
     "name": "stdin",
     "output_type": "stream",
     "text": [
      "Enter name:  ali\n",
      "Enter name:  asad\n",
      "Enter name:  saad\n",
      "Enter name:  fahad\n",
      "Enter name:  amir\n"
     ]
    },
    {
     "name": "stdout",
     "output_type": "stream",
     "text": [
      "['ali', 'asad', 'saad', 'fahad', 'amir']\n"
     ]
    },
    {
     "name": "stdin",
     "output_type": "stream",
     "text": [
      "Enter a number:  -6\n"
     ]
    },
    {
     "name": "stdout",
     "output_type": "stream",
     "text": [
      "Beta insan banjao\n"
     ]
    }
   ],
   "source": [
    "names=[]                       \n",
    "                               \n",
    "for a in range(5):\n",
    "    name = input(\"Enter name: \")\n",
    "    names.append(name)\n",
    "print(names) \n",
    "number  = int(float(input(\"Enter a number: \")))\n",
    "if (number<len(names)) and (number>=(-(len(names)))):\n",
    "    print(names[number])\n",
    "else:\n",
    "    print(\"Beta insan banjao\")"
   ]
  },
  {
   "cell_type": "code",
   "execution_count": 46,
   "id": "ff68f28e-542b-4d0b-ae87-d2d7abd740b6",
   "metadata": {},
   "outputs": [
    {
     "name": "stdin",
     "output_type": "stream",
     "text": [
      "Enter your favourite dish: or press q to exit biryani\n",
      "Enter your favourite dish: or press q to exit q\n"
     ]
    },
    {
     "data": {
      "text/plain": [
       "['biryani']"
      ]
     },
     "execution_count": 46,
     "metadata": {},
     "output_type": "execute_result"
    }
   ],
   "source": [
    "fav_dishes=[]\n",
    "for a in range(5):\n",
    "    fav_dish = input(\"Enter your favourite dish: or press q to exit\")\n",
    "    if fav_dish==\"q\":\n",
    "        break\n",
    "    else:\n",
    "        fav_dishes.append(fav_dish)\n",
    "fav_dishes   "
   ]
  },
  {
   "cell_type": "markdown",
   "id": "5c2d54f8-b39b-450e-977c-ce2a1e51304b",
   "metadata": {},
   "source": [
    "# While Loop\n",
    "    - for loop iterates over collections\n",
    "    - while loop iterates untill condtion is true."
   ]
  },
  {
   "cell_type": "code",
   "execution_count": 48,
   "id": "2b937afe-3478-4391-9c6d-ab959b6d0acc",
   "metadata": {},
   "outputs": [
    {
     "name": "stdout",
     "output_type": "stream",
     "text": [
      "0\n",
      "1\n",
      "2\n",
      "3\n",
      "4\n",
      "5\n",
      "6\n",
      "7\n",
      "8\n",
      "9\n"
     ]
    }
   ],
   "source": [
    "count=0\n",
    "while count<10:\n",
    "    print(count)\n",
    "    count+=1"
   ]
  },
  {
   "cell_type": "code",
   "execution_count": 49,
   "id": "fe11cd2c-ab8a-44c0-89e4-c2c5c285ad59",
   "metadata": {},
   "outputs": [],
   "source": [
    "a = 10 "
   ]
  },
  {
   "cell_type": "code",
   "execution_count": 50,
   "id": "1500417a-5563-46ea-bed5-fc0d914e8d62",
   "metadata": {},
   "outputs": [],
   "source": [
    "a = a+1"
   ]
  },
  {
   "cell_type": "code",
   "execution_count": 51,
   "id": "e4462259-ac07-43ea-b878-e921dacd6423",
   "metadata": {},
   "outputs": [
    {
     "data": {
      "text/plain": [
       "11"
      ]
     },
     "execution_count": 51,
     "metadata": {},
     "output_type": "execute_result"
    }
   ],
   "source": [
    "a"
   ]
  },
  {
   "cell_type": "code",
   "execution_count": 55,
   "id": "aee10eb8-462a-463f-bcbe-7f13caf3e943",
   "metadata": {},
   "outputs": [
    {
     "data": {
      "text/plain": [
       "15"
      ]
     },
     "execution_count": 55,
     "metadata": {},
     "output_type": "execute_result"
    }
   ],
   "source": [
    "a+=1\n",
    "a"
   ]
  },
  {
   "cell_type": "code",
   "execution_count": 56,
   "id": "6886b216-fd28-4f90-aea6-450ac16a440f",
   "metadata": {},
   "outputs": [
    {
     "name": "stdin",
     "output_type": "stream",
     "text": [
      "Enter your favourite dish: or press q to exit biryani\n",
      "Enter your favourite dish: or press q to exit qorma\n",
      "Enter your favourite dish: or press q to exit a\n",
      "Enter your favourite dish: or press q to exit b\n",
      "Enter your favourite dish: or press q to exit c\n",
      "Enter your favourite dish: or press q to exit d\n",
      "Enter your favourite dish: or press q to exit ef\n",
      "Enter your favourite dish: or press q to exit g\n",
      "Enter your favourite dish: or press q to exit h\n",
      "Enter your favourite dish: or press q to exit j\n",
      "Enter your favourite dish: or press q to exit ik\n",
      "Enter your favourite dish: or press q to exit l\n",
      "Enter your favourite dish: or press q to exit k\n",
      "Enter your favourite dish: or press q to exit g\n",
      "Enter your favourite dish: or press q to exit f\n",
      "Enter your favourite dish: or press q to exit df\n",
      "Enter your favourite dish: or press q to exit d\n",
      "Enter your favourite dish: or press q to exit s\n",
      "Enter your favourite dish: or press q to exit d\n",
      "Enter your favourite dish: or press q to exit f\n",
      "Enter your favourite dish: or press q to exit f\n",
      "Enter your favourite dish: or press q to exit f\n",
      "Enter your favourite dish: or press q to exit d\n",
      "Enter your favourite dish: or press q to exit df\n",
      "Enter your favourite dish: or press q to exit f\n",
      "Enter your favourite dish: or press q to exit f\n",
      "Enter your favourite dish: or press q to exit g\n",
      "Enter your favourite dish: or press q to exit g\n",
      "Enter your favourite dish: or press q to exit g\n",
      "Enter your favourite dish: or press q to exit g\n",
      "Enter your favourite dish: or press q to exit g\n",
      "Enter your favourite dish: or press q to exit q\n"
     ]
    },
    {
     "data": {
      "text/plain": [
       "['biryani',\n",
       " 'qorma',\n",
       " 'a',\n",
       " 'b',\n",
       " 'c',\n",
       " 'd',\n",
       " 'ef',\n",
       " 'g',\n",
       " 'h',\n",
       " 'j',\n",
       " 'ik',\n",
       " 'l',\n",
       " 'k',\n",
       " 'g',\n",
       " 'f',\n",
       " 'df',\n",
       " 'd',\n",
       " 's',\n",
       " 'd',\n",
       " 'f',\n",
       " 'f',\n",
       " 'f',\n",
       " 'd',\n",
       " 'df',\n",
       " 'f',\n",
       " 'f',\n",
       " 'g',\n",
       " 'g',\n",
       " 'g',\n",
       " 'g',\n",
       " 'g']"
      ]
     },
     "execution_count": 56,
     "metadata": {},
     "output_type": "execute_result"
    }
   ],
   "source": [
    "fav_dishes=[]\n",
    "while True:\n",
    "    fav_dish = input(\"Enter your favourite dish: or press q to exit\")\n",
    "    if fav_dish==\"q\":\n",
    "        break\n",
    "    else:\n",
    "        fav_dishes.append(fav_dish)\n",
    "fav_dishes "
   ]
  },
  {
   "cell_type": "code",
   "execution_count": null,
   "id": "0cbff45d-ad20-4289-8dc8-6987c195fe72",
   "metadata": {},
   "outputs": [],
   "source": [
    "fav_dishes=[]\n",
    "flag = True\n",
    "while flag:\n",
    "    fav_dish = input(\"Enter your favourite dish: or press q to exit\")\n",
    "    if fav_dish==\"q\":\n",
    "        flag=False\n",
    "    else:\n",
    "        fav_dishes.append(fav_dish)\n",
    "fav_dishes "
   ]
  },
  {
   "cell_type": "raw",
   "id": "2e2fcf89-fab0-4aab-8985-d90642a2cd13",
   "metadata": {},
   "source": [
    "Write a Python program that demonstrates the use of arithmetic operators (+, -, *, /, %, //, **). Provide examples of each operator, such as:\n",
    "Addition of two numbers.\n",
    "Division of two numbers (including floor division).\n",
    "Exponentiation (power).\n",
    "Modulus to find the remainder"
   ]
  },
  {
   "cell_type": "code",
   "execution_count": 63,
   "id": "261b19db-ca89-478d-8e92-d9307372b2a0",
   "metadata": {},
   "outputs": [
    {
     "name": "stdin",
     "output_type": "stream",
     "text": [
      "Enter a number: or q to exit  2\n",
      "Enter another number or q to exit 3\n",
      "Enter operator: or q to exit  **\n"
     ]
    },
    {
     "name": "stdout",
     "output_type": "stream",
     "text": [
      "8\n"
     ]
    },
    {
     "name": "stdin",
     "output_type": "stream",
     "text": [
      "Enter a number: or q to exit  q\n"
     ]
    },
    {
     "name": "stdout",
     "output_type": "stream",
     "text": [
      "Thank you for using calculator!!\n"
     ]
    }
   ],
   "source": [
    "while True:\n",
    "\n",
    "    a = input(\"Enter a number: or q to exit \")\n",
    "    if a=='q':\n",
    "        print(\"Thank you for using calculator!!\")\n",
    "        break\n",
    "    \n",
    "    b = input(\"Enter another number or q to exit\")\n",
    "    if b=='q':\n",
    "        print(\"Thank you for using calculator!!\")\n",
    "        break\n",
    "    \n",
    "    op = input(\"Enter operator: or q to exit \")\n",
    "    if op=='q':\n",
    "        print(\"Thank you for using calculator!!\")\n",
    "        break\n",
    "    \n",
    "    elif op==\"+\":\n",
    "        print(int(a)+int(b))\n",
    "    elif op==\"-\":\n",
    "        print(int(a)-int(b))\n",
    "    elif op==\"*\":\n",
    "        print(int(a)*int(b))\n",
    "    elif op==\"/\":\n",
    "        print(int(a)/int(b))\n",
    "    elif op==\"//\":\n",
    "        print(int(a)//int(b))\n",
    "    elif op==\"**\":\n",
    "        print(int(a)**int(b))\n",
    "    elif op==\"%\":\n",
    "        print(int(a)%int(b))\n",
    "    else:\n",
    "        print(\"Invalid Operator\")"
   ]
  },
  {
   "cell_type": "markdown",
   "id": "9534c801-8de3-462f-b210-e484a4aea360",
   "metadata": {},
   "source": [
    "# Write a program that takes a list of numbers as input from the user and sorts the list in ascending order. Print the sorted list after the operation."
   ]
  },
  {
   "cell_type": "code",
   "execution_count": 66,
   "id": "fbba142c-a151-4f2e-ba8d-ecfc2da8df2f",
   "metadata": {},
   "outputs": [
    {
     "name": "stdin",
     "output_type": "stream",
     "text": [
      "Enter comma separated numbers 45,34,54,34,78,76,89,23,43,789\n"
     ]
    },
    {
     "data": {
      "text/plain": [
       "789"
      ]
     },
     "execution_count": 66,
     "metadata": {},
     "output_type": "execute_result"
    }
   ],
   "source": [
    "nums = input(\"Enter comma separated numbers\").split(\",\")\n",
    "int_list = []\n",
    "for n in nums:\n",
    "    int_list.append(int(n))\n",
    "max_number=0\n",
    "for n in int_list:\n",
    "    if n>=max_number:\n",
    "        max_number=n\n",
    "max_number       "
   ]
  },
  {
   "cell_type": "code",
   "execution_count": null,
   "id": "35f1eed8-cffa-4fd5-9484-dea2a65bdee1",
   "metadata": {},
   "outputs": [],
   "source": []
  }
 ],
 "metadata": {
  "kernelspec": {
   "display_name": "Python 3 (ipykernel)",
   "language": "python",
   "name": "python3"
  },
  "language_info": {
   "codemirror_mode": {
    "name": "ipython",
    "version": 3
   },
   "file_extension": ".py",
   "mimetype": "text/x-python",
   "name": "python",
   "nbconvert_exporter": "python",
   "pygments_lexer": "ipython3",
   "version": "3.12.7"
  }
 },
 "nbformat": 4,
 "nbformat_minor": 5
}
